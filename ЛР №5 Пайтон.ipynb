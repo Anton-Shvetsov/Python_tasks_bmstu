{
 "cells": [
  {
   "cell_type": "markdown",
   "metadata": {
    "id": "lhLob9zN-iVt"
   },
   "source": [
    "#ЛР №5\n",
    "\n",
    "Исключения. Функциональный стиль в Python (на примере map()). Lambda. Итераторы и генераторы. Обзор стандартной библиотеки Python 3 и часто используемых сторонних модулей. Регулярные выражения."
   ]
  },
  {
   "cell_type": "markdown",
   "metadata": {
    "id": "PCgUvqQWgI2Z"
   },
   "source": [
    "#Задача №1 (try except)\n",
    "\n",
    "Напсать функцию подсчета суммы числовых элементов списка. Элементы списка могут быть любым типом данных. Если в списке встретиться элемент не числового типа, то необходимо вычесть из накопленной суммы 1.\n",
    "\n",
    "В функции использовать try except блок."
   ]
  },
  {
   "cell_type": "code",
   "execution_count": 1,
   "metadata": {},
   "outputs": [],
   "source": [
    "def compute_sum(List):\n",
    "    Sum = 0\n",
    "    for i in List:\n",
    "        try:\n",
    "            Sum += i\n",
    "        except TypeError:\n",
    "            Sum -= 1\n",
    "    return Sum"
   ]
  },
  {
   "cell_type": "code",
   "execution_count": 2,
   "metadata": {},
   "outputs": [
    {
     "data": {
      "text/plain": [
       "8"
      ]
     },
     "execution_count": 2,
     "metadata": {},
     "output_type": "execute_result"
    }
   ],
   "source": [
    "compute_sum([1,2,3,'j','h',4])"
   ]
  },
  {
   "cell_type": "markdown",
   "metadata": {
    "id": "PyAYZaBty1Yu"
   },
   "source": [
    "Задание со звездочкой*\n",
    "\n",
    "Если все элементы списка не числовые то выбросить исключение с тектом 'Элементы списка нельзя суммировать'."
   ]
  },
  {
   "cell_type": "code",
   "execution_count": 3,
   "metadata": {},
   "outputs": [],
   "source": [
    "def compute_sum_2(List):\n",
    "    Sum = 0\n",
    "    err = 0\n",
    "    for i in List:\n",
    "        try:\n",
    "            Sum += i\n",
    "        except TypeError:\n",
    "            Sum -= 1\n",
    "            err += 1\n",
    "    if err == len(List):\n",
    "        raise TypeError('Элементы списка нельзя суммировать')\n",
    "    return Sum"
   ]
  },
  {
   "cell_type": "code",
   "execution_count": 4,
   "metadata": {},
   "outputs": [
    {
     "ename": "TypeError",
     "evalue": "Элементы списка нельзя суммировать",
     "output_type": "error",
     "traceback": [
      "\u001b[1;31m---------------------------------------------------------------------------\u001b[0m",
      "\u001b[1;31mTypeError\u001b[0m                                 Traceback (most recent call last)",
      "Cell \u001b[1;32mIn[4], line 1\u001b[0m\n\u001b[1;32m----> 1\u001b[0m compute_sum_2([\u001b[38;5;124m'\u001b[39m\u001b[38;5;124mj\u001b[39m\u001b[38;5;124m'\u001b[39m,\u001b[38;5;124m'\u001b[39m\u001b[38;5;124mh\u001b[39m\u001b[38;5;124m'\u001b[39m])\n",
      "Cell \u001b[1;32mIn[3], line 11\u001b[0m, in \u001b[0;36mcompute_sum_2\u001b[1;34m(List)\u001b[0m\n\u001b[0;32m      9\u001b[0m         err \u001b[38;5;241m+\u001b[39m\u001b[38;5;241m=\u001b[39m \u001b[38;5;241m1\u001b[39m\n\u001b[0;32m     10\u001b[0m \u001b[38;5;28;01mif\u001b[39;00m err \u001b[38;5;241m==\u001b[39m \u001b[38;5;28mlen\u001b[39m(List):\n\u001b[1;32m---> 11\u001b[0m     \u001b[38;5;28;01mraise\u001b[39;00m \u001b[38;5;167;01mTypeError\u001b[39;00m(\u001b[38;5;124m'\u001b[39m\u001b[38;5;124mЭлементы списка нельзя суммировать\u001b[39m\u001b[38;5;124m'\u001b[39m)\n\u001b[0;32m     12\u001b[0m \u001b[38;5;28;01mreturn\u001b[39;00m Sum\n",
      "\u001b[1;31mTypeError\u001b[0m: Элементы списка нельзя суммировать"
     ]
    }
   ],
   "source": [
    "compute_sum_2(['j','h'])"
   ]
  },
  {
   "cell_type": "markdown",
   "metadata": {
    "id": "04iiP9iDpebQ"
   },
   "source": [
    "#Задача №2 (map)\n",
    "\n",
    "Примените функцию к списку словарей"
   ]
  },
  {
   "cell_type": "code",
   "execution_count": 134,
   "metadata": {
    "id": "dxF6du8_xj19"
   },
   "outputs": [],
   "source": [
    "def foo(d):\n",
    "  d.update({'new_key':'with_map'})\n",
    "  return d"
   ]
  },
  {
   "cell_type": "code",
   "execution_count": 135,
   "metadata": {},
   "outputs": [],
   "source": [
    "List = [{},{},{}]"
   ]
  },
  {
   "cell_type": "code",
   "execution_count": 136,
   "metadata": {},
   "outputs": [],
   "source": [
    "List = list(map(lambda x: foo(x),List))"
   ]
  },
  {
   "cell_type": "code",
   "execution_count": null,
   "metadata": {},
   "outputs": [],
   "source": [
    "def func(x):\n",
    "    return foo(x)"
   ]
  },
  {
   "cell_type": "code",
   "execution_count": 145,
   "metadata": {},
   "outputs": [
    {
     "data": {
      "text/plain": [
       "[{'new_key': 'with_map'}, {'new_key': 'with_map'}, {'new_key': 'with_map'}]"
      ]
     },
     "execution_count": 145,
     "metadata": {},
     "output_type": "execute_result"
    }
   ],
   "source": [
    "list(map(foo,List))"
   ]
  },
  {
   "cell_type": "code",
   "execution_count": 17,
   "metadata": {},
   "outputs": [
    {
     "data": {
      "text/plain": [
       "[{'new_key': 'with_map'}, {'new_key': 'with_map'}, {'new_key': 'with_map'}]"
      ]
     },
     "execution_count": 17,
     "metadata": {},
     "output_type": "execute_result"
    }
   ],
   "source": [
    "List"
   ]
  },
  {
   "cell_type": "markdown",
   "metadata": {
    "id": "rSctr2YVqiIq"
   },
   "source": [
    "#Задача №3 (filter)\n",
    "\n",
    "Сформировать список положительных элементов списка a\n",
    "\n",
    "a = [-1, 2, -3, 4, 5]"
   ]
  },
  {
   "cell_type": "code",
   "execution_count": 20,
   "metadata": {},
   "outputs": [
    {
     "data": {
      "text/plain": [
       "[2, 4, 5]"
      ]
     },
     "execution_count": 20,
     "metadata": {},
     "output_type": "execute_result"
    }
   ],
   "source": [
    "a = [-1, 2, -3, 4, 5]\n",
    "List = list(filter(lambda x: x>0,a))\n",
    "List"
   ]
  },
  {
   "cell_type": "markdown",
   "metadata": {
    "id": "pWlSncGPq-eV"
   },
   "source": [
    "#Задача №4 (Lambda)\n",
    "\n",
    "Переписать функцию foo в виде lambda и применить ее к 2 произвольным спискам"
   ]
  },
  {
   "cell_type": "code",
   "execution_count": null,
   "metadata": {
    "colab": {
     "base_uri": "https://localhost:8080/"
    },
    "executionInfo": {
     "elapsed": 274,
     "status": "ok",
     "timestamp": 1695936444777,
     "user": {
      "displayName": "Anastasia Moshkova",
      "userId": "17895988911170149439"
     },
     "user_tz": -180
    },
    "id": "Sa9twmKXrjLE",
    "outputId": "80d0b197-123e-4111-d922-4ed7c873ed54"
   },
   "outputs": [
    {
     "data": {
      "text/plain": [
       "[1, 0, 1]"
      ]
     },
     "execution_count": 24,
     "metadata": {},
     "output_type": "execute_result"
    }
   ],
   "source": [
    "def foo(a, b):\n",
    "  c = []\n",
    "  for i in range(len(a)):\n",
    "    if a[i] > b[i]:\n",
    "      c.append(0)\n",
    "    else:\n",
    "      c.append(1)\n",
    "  return c\n",
    "\n",
    "foo([1, 2, 3], [4, 1, 6])"
   ]
  },
  {
   "cell_type": "code",
   "execution_count": 21,
   "metadata": {},
   "outputs": [
    {
     "data": {
      "text/plain": [
       "[1, 0, 1]"
      ]
     },
     "execution_count": 21,
     "metadata": {},
     "output_type": "execute_result"
    }
   ],
   "source": [
    "a, b = [1, 2, 3], [4, 1, 6]\n",
    "List = list(map(lambda x,y: 0 if x>y else 1,a,b))\n",
    "List"
   ]
  },
  {
   "cell_type": "markdown",
   "metadata": {
    "id": "GmvaSatNva0p"
   },
   "source": [
    "##Задача №5 (генератор и итератор)\n",
    "\n",
    "Напишите бесконечный генератор чисел, убывающих в геометрической прогрессии"
   ]
  },
  {
   "cell_type": "code",
   "execution_count": 74,
   "metadata": {},
   "outputs": [],
   "source": [
    "def geom_generator(number):\n",
    "  while True:\n",
    "      number = number/2\n",
    "      yield number"
   ]
  },
  {
   "cell_type": "code",
   "execution_count": 75,
   "metadata": {},
   "outputs": [],
   "source": [
    "g = geom_generator(2048)"
   ]
  },
  {
   "cell_type": "code",
   "execution_count": 79,
   "metadata": {},
   "outputs": [
    {
     "data": {
      "text/plain": [
       "128.0"
      ]
     },
     "execution_count": 79,
     "metadata": {},
     "output_type": "execute_result"
    }
   ],
   "source": [
    "next(g)"
   ]
  },
  {
   "cell_type": "markdown",
   "metadata": {
    "id": "THYXHisVvm2V"
   },
   "source": [
    "##Задача №6 (регулярные выражения)\n",
    "\n",
    "Найдите в строке все цифры начинающиеся с 1 \"anf 17u fkjgktjg 123 gvbnn 81 jfjgj 12\" -> 17, 123, 12\n",
    "\n"
   ]
  },
  {
   "cell_type": "code",
   "execution_count": 80,
   "metadata": {},
   "outputs": [],
   "source": [
    "string = \"anf 17u fkjgktjg 123 gvbnn 81 jfjgj 12\""
   ]
  },
  {
   "cell_type": "code",
   "execution_count": 92,
   "metadata": {},
   "outputs": [
    {
     "data": {
      "text/plain": [
       "[17, 123, 12]"
      ]
     },
     "execution_count": 92,
     "metadata": {},
     "output_type": "execute_result"
    }
   ],
   "source": [
    "import re\n",
    "\n",
    "List = list(map(int,re.findall('\\s1.\\d?',string)))\n",
    "List"
   ]
  },
  {
   "cell_type": "code",
   "execution_count": 146,
   "metadata": {},
   "outputs": [
    {
     "data": {
      "text/plain": [
       "[' 17', ' 123', ' 12']"
      ]
     },
     "execution_count": 146,
     "metadata": {},
     "output_type": "execute_result"
    }
   ],
   "source": [
    "re.findall('\\s1.\\d?',string)"
   ]
  },
  {
   "cell_type": "markdown",
   "metadata": {
    "id": "kRQZFphhuuz8"
   },
   "source": [
    "Задание со звездочкой *\n",
    "\n",
    "Примените lambda с использованием map к произвольным спискам\n",
    "1. Отсортируйте список по сумме 1 и 3 элемента списка в кортеже\n",
    "2. по разности первого элемента кортежа и первого элемента списка в кортеже"
   ]
  },
  {
   "cell_type": "code",
   "execution_count": 95,
   "metadata": {},
   "outputs": [],
   "source": [
    "a = [(1, [3, 10, 5]), (3, [1 ,4, 6]), (6, [15 ,4, 7])]"
   ]
  },
  {
   "cell_type": "code",
   "execution_count": 105,
   "metadata": {},
   "outputs": [
    {
     "data": {
      "text/plain": [
       "[(3, [1, 4, 6]), (1, [3, 10, 5]), (6, [15, 4, 7])]"
      ]
     },
     "execution_count": 105,
     "metadata": {},
     "output_type": "execute_result"
    }
   ],
   "source": [
    "a_sorted_1 = sorted(a,key = lambda y: y[1][0]+y[1][2])\n",
    "a_sorted_1"
   ]
  },
  {
   "cell_type": "code",
   "execution_count": 107,
   "metadata": {},
   "outputs": [
    {
     "data": {
      "text/plain": [
       "[(6, [15, 4, 7]), (1, [3, 10, 5]), (3, [1, 4, 6])]"
      ]
     },
     "execution_count": 107,
     "metadata": {},
     "output_type": "execute_result"
    }
   ],
   "source": [
    "a_sorted_2 = sorted(a,key = lambda y: y[0]-y[1][0])\n",
    "a_sorted_2"
   ]
  }
 ],
 "metadata": {
  "colab": {
   "authorship_tag": "ABX9TyM4pOhO57+cIbVj7wbEduVL",
   "provenance": []
  },
  "kernelspec": {
   "display_name": "base",
   "language": "python",
   "name": "python3"
  },
  "language_info": {
   "codemirror_mode": {
    "name": "ipython",
    "version": 3
   },
   "file_extension": ".py",
   "mimetype": "text/x-python",
   "name": "python",
   "nbconvert_exporter": "python",
   "pygments_lexer": "ipython3",
   "version": "3.11.5"
  }
 },
 "nbformat": 4,
 "nbformat_minor": 4
}
