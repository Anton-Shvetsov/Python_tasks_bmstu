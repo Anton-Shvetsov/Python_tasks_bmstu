{
 "cells": [
  {
   "cell_type": "markdown",
   "metadata": {
    "id": "lhLob9zN-iVt"
   },
   "source": [
    "#Семинар №7\n",
    "\n",
    "Основные понятия ООП. Наследование. Полиморфизм."
   ]
  },
  {
   "cell_type": "markdown",
   "metadata": {
    "id": "5NYj8ZPKcroa"
   },
   "source": [
    "##Наследование и полиморфизм"
   ]
  },
  {
   "cell_type": "markdown",
   "metadata": {
    "id": "4L02SxG5kTW_"
   },
   "source": [
    "* Наследование\n",
    "\n",
    "Под наследованием понимается возможность создания нового класса на базе существующего. Наследование предполагает наличие отношения “является” между классом наследником и классом родителем. При этом класс потомок будет содержать те же атрибуты и методы, что и базовый класс, но при этом его можно (и нужно) расширять через добавление новых методов и атрибутов.\n",
    "\n",
    "Примером базового класса, демонстрирующего наследование, можно определить класс “автомобиль”, имеющий атрибуты: масса, мощность двигателя, объем топливного бака и методы: завести и заглушить. У такого класса может быть потомок – “грузовой автомобиль”, он будет содержать те же атрибуты и методы, что и класс “автомобиль”, и дополнительные свойства: количество осей, мощность компрессора и т.п..\n",
    "\n",
    "\n",
    "* Полиморфизм\n",
    "\n",
    "Полиморфизм позволяет одинаково обращаться с объектами, имеющими однотипный интерфейс, независимо от внутренней реализации объекта. Например, с объектом класса “грузовой автомобиль” можно производить те же операции, что и с объектом класса “автомобиль”, т.к. первый является наследником второго, при этом обратное утверждение неверно (во всяком случае не всегда). Другими словами полиморфизм предполагает разную реализацию методов с одинаковыми именами. Это очень полезно при наследовании, когда в классе наследнике можно переопределить методы класса родителя."
   ]
  },
  {
   "cell_type": "markdown",
   "metadata": {
    "id": "FUVKTME24GVh"
   },
   "source": [
    "Ключевыми понятиями наследования являются подкласс и суперкласс. Подкласс наследует от суперкласса все публичные атрибуты и методы. Суперкласс еще называется базовым (base class) или родительским (parent class), а подкласс - производным (derived class) или дочерним (child class)."
   ]
  },
  {
   "cell_type": "code",
   "execution_count": null,
   "metadata": {
    "id": "Hjly5bXv4J4-"
   },
   "outputs": [],
   "source": [
    "class подкласс (суперкласс):\n",
    "    методы_подкласса"
   ]
  },
  {
   "cell_type": "code",
   "execution_count": null,
   "metadata": {
    "id": "4nKiJwetCdL2"
   },
   "outputs": [],
   "source": [
    "class Person:\n",
    "    def __init__(self, name):\n",
    "        self.name = name   # имя человека\n",
    "\n",
    "    def display_info(self):\n",
    "        print(f\"Name: {self.name} \")"
   ]
  },
  {
   "cell_type": "code",
   "execution_count": null,
   "metadata": {
    "id": "W4slm4EvD1t5"
   },
   "outputs": [],
   "source": [
    "class Employee:\n",
    "\n",
    "    def __init__(self, name):\n",
    "        self.name = name  # имя работника\n",
    "\n",
    "    def display_info(self):\n",
    "        print(f\"Name: {self.name} \")\n",
    "\n",
    "    def work(self):\n",
    "        print(f\"{self.name} works\")\n",
    "\n"
   ]
  },
  {
   "cell_type": "code",
   "execution_count": null,
   "metadata": {
    "id": "SgfJNP6-D9h9"
   },
   "outputs": [],
   "source": [
    "class Employee(Person):\n",
    "\n",
    "    def work(self):\n",
    "        print(f\"{self.name} works\")"
   ]
  },
  {
   "cell_type": "code",
   "execution_count": null,
   "metadata": {
    "colab": {
     "base_uri": "https://localhost:8080/"
    },
    "executionInfo": {
     "elapsed": 310,
     "status": "ok",
     "timestamp": 1665222588154,
     "user": {
      "displayName": "Anastasia Moshkova",
      "userId": "17895988911170149439"
     },
     "user_tz": -180
    },
    "id": "kWZbUQyH__hM",
    "outputId": "c3ff0347-f97e-4ea5-f482-bf8cf31357cc"
   },
   "outputs": [
    {
     "data": {
      "text/plain": [
       "mappingproxy({'__module__': '__main__',\n",
       "              'work': <function __main__.Employee.work(self)>,\n",
       "              '__doc__': None})"
      ]
     },
     "execution_count": 15,
     "metadata": {},
     "output_type": "execute_result"
    }
   ],
   "source": [
    "Employee.__dict__"
   ]
  },
  {
   "cell_type": "code",
   "execution_count": null,
   "metadata": {
    "colab": {
     "base_uri": "https://localhost:8080/"
    },
    "executionInfo": {
     "elapsed": 296,
     "status": "ok",
     "timestamp": 1665222525268,
     "user": {
      "displayName": "Anastasia Moshkova",
      "userId": "17895988911170149439"
     },
     "user_tz": -180
    },
    "id": "IX7jnNtlD_yl",
    "outputId": "7a95cd12-6265-46d2-8528-887036f1c3df"
   },
   "outputs": [
    {
     "name": "stdout",
     "output_type": "stream",
     "text": [
      "Tom\n"
     ]
    }
   ],
   "source": [
    "tom = Employee(\"Tom\")\n",
    "print(tom.name)"
   ]
  },
  {
   "cell_type": "code",
   "execution_count": null,
   "metadata": {
    "colab": {
     "base_uri": "https://localhost:8080/"
    },
    "executionInfo": {
     "elapsed": 411,
     "status": "ok",
     "timestamp": 1662640181508,
     "user": {
      "displayName": "Anastasia Moshkova",
      "userId": "17895988911170149439"
     },
     "user_tz": -180
    },
    "id": "aCTTlEAIE1fR",
    "outputId": "01d737e2-9c39-4d5f-aa1a-f218f82c5c66"
   },
   "outputs": [
    {
     "name": "stdout",
     "output_type": "stream",
     "text": [
      "Name: Tom \n"
     ]
    }
   ],
   "source": [
    "tom.display_info()  # Name: Tom"
   ]
  },
  {
   "cell_type": "code",
   "execution_count": null,
   "metadata": {
    "colab": {
     "base_uri": "https://localhost:8080/"
    },
    "executionInfo": {
     "elapsed": 406,
     "status": "ok",
     "timestamp": 1662640197299,
     "user": {
      "displayName": "Anastasia Moshkova",
      "userId": "17895988911170149439"
     },
     "user_tz": -180
    },
    "id": "aP7CL3WuEQJM",
    "outputId": "d42d679d-88d1-4027-9a0c-97638f419787"
   },
   "outputs": [
    {
     "name": "stdout",
     "output_type": "stream",
     "text": [
      "Tom works\n"
     ]
    }
   ],
   "source": [
    "tom.work()"
   ]
  },
  {
   "cell_type": "markdown",
   "metadata": {
    "id": "gOShmBKsFHuu"
   },
   "source": [
    "###Переопределение функционала базового класса"
   ]
  },
  {
   "cell_type": "markdown",
   "metadata": {
    "id": "6u1WIgJ4FK6U"
   },
   "source": [
    "Но что, если мы хотим что-то изменить из этого функционала? Например, добавить работнику через конструктор, новый атрибут, который будет хранить компанию, где он работает или изменить реализацию метода display_info. Python позволяет переопределить функционал базового класса."
   ]
  },
  {
   "cell_type": "code",
   "execution_count": null,
   "metadata": {
    "colab": {
     "base_uri": "https://localhost:8080/"
    },
    "executionInfo": {
     "elapsed": 390,
     "status": "ok",
     "timestamp": 1662640286192,
     "user": {
      "displayName": "Anastasia Moshkova",
      "userId": "17895988911170149439"
     },
     "user_tz": -180
    },
    "id": "Hs0Djl0fFTbu",
    "outputId": "0b895dc7-b5ff-4d8e-a411-574a89b00def"
   },
   "outputs": [
    {
     "name": "stdout",
     "output_type": "stream",
     "text": [
      "Name: Tom \n",
      "Company: Microsoft\n"
     ]
    }
   ],
   "source": [
    "class Employee(Person):\n",
    "\n",
    "    def __init__(self, name, company):\n",
    "        super().__init__(name)\n",
    "        self.company = company\n",
    "\n",
    "    def display_info(self):\n",
    "        super().display_info()\n",
    "        print(f\"Company: {self.company}\")\n",
    "\n",
    "    def work(self):\n",
    "        print(f\"{self.name} works\")\n",
    "\n",
    "\n",
    "tom = Employee(\"Tom\", \"Microsoft\")\n",
    "tom.display_info()  # Name: Tom\n",
    "                    # Company: Microsoft"
   ]
  },
  {
   "cell_type": "markdown",
   "metadata": {
    "id": "4-KKJiRHFbXd"
   },
   "source": [
    "Здесь в классе Employee добавляется новый атрибут - self.company, который хранит компания работника. Соответственно метод __init__() принимает три параметра: второй для установки имени и третий для установки компании. Но если в базом классе определен конструктор с помощью метода __init__, и мы хотим в производном классе изменить логику конструктора, то в конструкторе производного класса мы должны вызвать конструктор базового класса. То есть в конструкторе Employee надо вызвать конструктор класса Person."
   ]
  },
  {
   "cell_type": "markdown",
   "metadata": {
    "id": "c5hA8yFxFc1N"
   },
   "source": [
    "Для обращения к базовому классу используется выражение super(). Так, в конструкторе Employee выполняется вызов:"
   ]
  },
  {
   "cell_type": "code",
   "execution_count": null,
   "metadata": {
    "id": "iPegF60mFeEr"
   },
   "outputs": [],
   "source": [
    "super().__init__(name)"
   ]
  },
  {
   "cell_type": "markdown",
   "metadata": {
    "id": "C_OgAxH1Fk-o"
   },
   "source": [
    "Это выражение будет представлять вызов конструктора класса Person, в который передается имя работника. И это логично. Ведь имя работника устанавливается именно в конструкторе класса Person. В самом конструкторе Employee лишь устанавливаем свойство company."
   ]
  },
  {
   "cell_type": "markdown",
   "metadata": {
    "id": "e-ZvJpFjB5id"
   },
   "source": [
    "##Абстрактный класс"
   ]
  },
  {
   "cell_type": "markdown",
   "metadata": {
    "id": "dcgKhF1xB7ot"
   },
   "source": [
    "Абстрактным называется класс, который содержит один и более абстрактных методов. Абстрактным называется объявленный, но не реализованный метод. Абстрактные классы не могут быть инстанциированы, от них нужно унаследовать, реализовать все их абстрактные методы и только тогда можно создать экземпляр такого класса. В Python отсутствует встроенная поддержка абстрактных классов, для этой цели используется модуль abc (Abstract Base Class)\n",
    "\n",
    "Возьмем для примера, шахматы. У всех шахматных фигур есть общий функционал, например - возможность фигуры ходить и быть отображенной на доске. Исходя из этого, мы можем создать абстрактный класс Фигура, определить в нем абстрактный метод (в нашем случае - ход, поскольку каждая фигура ходит по-своему) и реализовать общий функционал (отрисовка на доске)."
   ]
  },
  {
   "cell_type": "code",
   "execution_count": null,
   "metadata": {
    "id": "lgPZFk7KCAZb"
   },
   "outputs": [],
   "source": [
    "from abc import ABC, abstractmethod\n",
    "\n",
    "class ChessPiece(ABC):\n",
    "    # общий метод, который будут использовать все наследники этого класса\n",
    "    def draw(self):\n",
    "        print(\"Drew a chess piece\")\n",
    "\n",
    "    # абстрактный метод, который будет необходимо переопределять для каждого подкласса\n",
    "    @abstractmethod\n",
    "    def move(self):\n",
    "        pass"
   ]
  },
  {
   "cell_type": "code",
   "execution_count": null,
   "metadata": {
    "colab": {
     "base_uri": "https://localhost:8080/",
     "height": 169
    },
    "executionInfo": {
     "elapsed": 309,
     "status": "error",
     "timestamp": 1665225273897,
     "user": {
      "displayName": "Anastasia Moshkova",
      "userId": "17895988911170149439"
     },
     "user_tz": -180
    },
    "id": "IYUmmiWhCBqj",
    "outputId": "47c7d75d-d420-46b9-b9bf-c5161f1d583e"
   },
   "outputs": [
    {
     "ename": "TypeError",
     "evalue": "ignored",
     "output_type": "error",
     "traceback": [
      "\u001b[0;31m---------------------------------------------------------------------------\u001b[0m",
      "\u001b[0;31mTypeError\u001b[0m                                 Traceback (most recent call last)",
      "\u001b[0;32m<ipython-input-47-4a11223d2cd6>\u001b[0m in \u001b[0;36m<module>\u001b[0;34m\u001b[0m\n\u001b[0;32m----> 1\u001b[0;31m \u001b[0ma\u001b[0m \u001b[0;34m=\u001b[0m \u001b[0mChessPiece\u001b[0m\u001b[0;34m(\u001b[0m\u001b[0;34m)\u001b[0m\u001b[0;34m\u001b[0m\u001b[0;34m\u001b[0m\u001b[0m\n\u001b[0m",
      "\u001b[0;31mTypeError\u001b[0m: Can't instantiate abstract class ChessPiece with abstract methods move"
     ]
    }
   ],
   "source": [
    "a = ChessPiece()"
   ]
  },
  {
   "cell_type": "markdown",
   "metadata": {
    "id": "bxOymJCqCGuD"
   },
   "source": [
    "Как видите, система не дает нам создать экземпляр данного класса. Теперь нам необходимо создать конкретный класс, например, класс ферзя, в котором мы реализуем метод move."
   ]
  },
  {
   "cell_type": "code",
   "execution_count": null,
   "metadata": {
    "colab": {
     "base_uri": "https://localhost:8080/"
    },
    "executionInfo": {
     "elapsed": 376,
     "status": "ok",
     "timestamp": 1665225262700,
     "user": {
      "displayName": "Anastasia Moshkova",
      "userId": "17895988911170149439"
     },
     "user_tz": -180
    },
    "id": "7zjFc1wfCH0-",
    "outputId": "e31bed8a-165b-48ff-c7b3-f9e576916b50"
   },
   "outputs": [
    {
     "name": "stdout",
     "output_type": "stream",
     "text": [
      "Drew a chess piece\n",
      "Moved Queen to e2e4\n"
     ]
    }
   ],
   "source": [
    "class Queen(ChessPiece):\n",
    "    def move(self):\n",
    "        print(\"Moved Queen to e2e4\")\n",
    "\n",
    "# Мы можем создать экземпляр класса\n",
    "q = Queen()\n",
    "# И нам доступны все методы класса\n",
    "q.draw()\n",
    "q.move()"
   ]
  },
  {
   "cell_type": "markdown",
   "metadata": {
    "id": "ly5pL2N0CPXq"
   },
   "source": [
    "Обратите внимание, абстрактный метод может быть реализован сразу в абстрактном классе, однако, декоратор abstractmethod, обяжет программистов, реализующих подкласс либо реализовать собственную версию абстрактного метода, либо дополнить существующую. В таком случае, мы можем переопределять метод как в обычном наследовании, а вызывать родительский метод при помощи super()."
   ]
  },
  {
   "cell_type": "code",
   "execution_count": null,
   "metadata": {
    "colab": {
     "base_uri": "https://localhost:8080/"
    },
    "executionInfo": {
     "elapsed": 283,
     "status": "ok",
     "timestamp": 1663058908956,
     "user": {
      "displayName": "Anastasia Moshkova",
      "userId": "17895988911170149439"
     },
     "user_tz": -180
    },
    "id": "bkgyYVlzCP_q",
    "outputId": "70184881-bd4a-43ad-a3b6-2af307236bc0"
   },
   "outputs": [
    {
     "name": "stdout",
     "output_type": "stream",
     "text": [
      "Hello from Basic class\n",
      "Enriched functionality\n"
     ]
    }
   ],
   "source": [
    "from abc import ABC, abstractmethod\n",
    "\n",
    "\n",
    "class Basic(ABC):\n",
    "    @abstractmethod\n",
    "    def hello(self):\n",
    "        print(\"Hello from Basic class\")\n",
    "\n",
    "\n",
    "class Advanced(Basic):\n",
    "    def hello(self):\n",
    "        super().hello()\n",
    "        print(\"Enriched functionality\")\n",
    "\n",
    "a = Advanced()\n",
    "a.hello()"
   ]
  },
  {
   "cell_type": "code",
   "execution_count": null,
   "metadata": {
    "colab": {
     "base_uri": "https://localhost:8080/",
     "height": 165
    },
    "executionInfo": {
     "elapsed": 596,
     "status": "error",
     "timestamp": 1663058967077,
     "user": {
      "displayName": "Anastasia Moshkova",
      "userId": "17895988911170149439"
     },
     "user_tz": -180
    },
    "id": "ESqvNOHGCaqb",
    "outputId": "80bd3d28-c130-4e3e-9b82-1f4ff2f84880"
   },
   "outputs": [
    {
     "ename": "TypeError",
     "evalue": "ignored",
     "output_type": "error",
     "traceback": [
      "\u001b[0;31m---------------------------------------------------------------------------\u001b[0m",
      "\u001b[0;31mTypeError\u001b[0m                                 Traceback (most recent call last)",
      "\u001b[0;32m<ipython-input-5-a26cb7c3ce39>\u001b[0m in \u001b[0;36m<module>\u001b[0;34m\u001b[0m\n\u001b[0;32m----> 1\u001b[0;31m \u001b[0ma\u001b[0m \u001b[0;34m=\u001b[0m \u001b[0mBasic\u001b[0m\u001b[0;34m(\u001b[0m\u001b[0;34m)\u001b[0m\u001b[0;34m\u001b[0m\u001b[0;34m\u001b[0m\u001b[0m\n\u001b[0m",
      "\u001b[0;31mTypeError\u001b[0m: Can't instantiate abstract class Basic with abstract methods hello"
     ]
    }
   ],
   "source": [
    "a = Basic()"
   ]
  },
  {
   "cell_type": "markdown",
   "metadata": {
    "id": "H4ZweDItDvMz"
   },
   "source": [
    "##Множественное наследование"
   ]
  },
  {
   "cell_type": "code",
   "execution_count": 2,
   "metadata": {
    "executionInfo": {
     "elapsed": 15,
     "status": "ok",
     "timestamp": 1697276197871,
     "user": {
      "displayName": "Anastasia Moshkova",
      "userId": "17895988911170149439"
     },
     "user_tz": -180
    },
    "id": "TufuREN4D0rB"
   },
   "outputs": [],
   "source": [
    "class Auto:\n",
    "    def ride(self):\n",
    "        print(\"Riding on a ground\")"
   ]
  },
  {
   "cell_type": "code",
   "execution_count": 3,
   "metadata": {
    "executionInfo": {
     "elapsed": 4,
     "status": "ok",
     "timestamp": 1697276198520,
     "user": {
      "displayName": "Anastasia Moshkova",
      "userId": "17895988911170149439"
     },
     "user_tz": -180
    },
    "id": "EJUqOEOJD11N"
   },
   "outputs": [],
   "source": [
    "class Boat:\n",
    "    def swim(self):\n",
    "        print(\"Sailing in the ocean\")"
   ]
  },
  {
   "cell_type": "code",
   "execution_count": 4,
   "metadata": {
    "colab": {
     "base_uri": "https://localhost:8080/"
    },
    "executionInfo": {
     "elapsed": 11,
     "status": "ok",
     "timestamp": 1697276199253,
     "user": {
      "displayName": "Anastasia Moshkova",
      "userId": "17895988911170149439"
     },
     "user_tz": -180
    },
    "id": "DXYI3sYbD2Mz",
    "outputId": "3d7314dd-d984-4df3-9281-8f5ccf46dd45"
   },
   "outputs": [
    {
     "name": "stdout",
     "output_type": "stream",
     "text": [
      "Riding on a ground\n",
      "Sailing in the ocean\n"
     ]
    }
   ],
   "source": [
    "class Amphibian(Auto, Boat):\n",
    "    pass\n",
    "\n",
    "a = Amphibian()\n",
    "a.ride()\n",
    "a.swim()"
   ]
  },
  {
   "cell_type": "markdown",
   "metadata": {
    "id": "h3iIhqnKEB57"
   },
   "source": [
    "Порядок разрешения методов"
   ]
  },
  {
   "cell_type": "code",
   "execution_count": null,
   "metadata": {
    "colab": {
     "base_uri": "https://localhost:8080/"
    },
    "executionInfo": {
     "elapsed": 289,
     "status": "ok",
     "timestamp": 1665225353476,
     "user": {
      "displayName": "Anastasia Moshkova",
      "userId": "17895988911170149439"
     },
     "user_tz": -180
    },
    "id": "ALHM1_LcEEJz",
    "outputId": "c962dceb-bb62-4716-c04b-72f157768d1e"
   },
   "outputs": [
    {
     "name": "stdout",
     "output_type": "stream",
     "text": [
      "B\n"
     ]
    }
   ],
   "source": [
    "class A:\n",
    "    def hi(self):\n",
    "        print(\"A\")\n",
    "\n",
    "class B(A):\n",
    "    def hi(self):\n",
    "        print(\"B\")\n",
    "\n",
    "class C(A):\n",
    "    def hi(self):\n",
    "        print(\"C\")\n",
    "\n",
    "class D(B, C):\n",
    "    pass\n",
    "\n",
    "d = D()\n",
    "d.hi()"
   ]
  },
  {
   "cell_type": "markdown",
   "metadata": {
    "id": "iMVBojpeEHxr"
   },
   "source": [
    "Эта ситуация, так называемое ромбовидное наследование (diamond problem) решается в Python путем установления порядка разрешения методов. В Python3 для определения порядка используется алгоритм поиска в ширину, то есть сначала интерпретатор будет искать метод hi в классе B, если его там нету - в классе С, потом A. В Python второй версии используется алгоритм поиска в глубину, то есть в данном случае - сначала B, потом - А, потом С. В Python3 можно посмотреть в каком порядке будут проинспектированы родительские классы при помощи метода класса mro():"
   ]
  },
  {
   "cell_type": "code",
   "execution_count": null,
   "metadata": {
    "colab": {
     "base_uri": "https://localhost:8080/"
    },
    "executionInfo": {
     "elapsed": 332,
     "status": "ok",
     "timestamp": 1663059402105,
     "user": {
      "displayName": "Anastasia Moshkova",
      "userId": "17895988911170149439"
     },
     "user_tz": -180
    },
    "id": "09Y6ZKWPEJib",
    "outputId": "a20b6dce-9f7a-48de-e4d7-240a7fbeac90"
   },
   "outputs": [
    {
     "data": {
      "text/plain": [
       "[__main__.D, __main__.B, __main__.C, __main__.A, object]"
      ]
     },
     "execution_count": 10,
     "metadata": {},
     "output_type": "execute_result"
    }
   ],
   "source": [
    "D.mro()"
   ]
  },
  {
   "cell_type": "markdown",
   "metadata": {
    "id": "TAD0fEioEMpD"
   },
   "source": [
    "Если вам необходимо использовать метод конкретного родителя, например hi() класса С, нужно напрямую вызвать его по имени класса, передав self в качестве аргумента:"
   ]
  },
  {
   "cell_type": "code",
   "execution_count": null,
   "metadata": {
    "colab": {
     "base_uri": "https://localhost:8080/"
    },
    "executionInfo": {
     "elapsed": 877,
     "status": "ok",
     "timestamp": 1663059420203,
     "user": {
      "displayName": "Anastasia Moshkova",
      "userId": "17895988911170149439"
     },
     "user_tz": -180
    },
    "id": "yXlfJ0_LENhT",
    "outputId": "4296241f-5d40-4570-cc15-8c74631fb2d3"
   },
   "outputs": [
    {
     "name": "stdout",
     "output_type": "stream",
     "text": [
      "C\n"
     ]
    }
   ],
   "source": [
    "class D(B, C):\n",
    "    def call_hi(self):\n",
    "        C.hi(self)\n",
    "\n",
    "d = D()\n",
    "d.call_hi()"
   ]
  },
  {
   "cell_type": "markdown",
   "metadata": {
    "id": "yuwLKHq5cvNj"
   },
   "source": [
    "#Пример создания класса и наследование\n",
    "\n",
    "Напишем классы на семинаре"
   ]
  }
 ],
 "metadata": {
  "colab": {
   "authorship_tag": "ABX9TyPQ8wyoY5b6VxkHLzKipnyS",
   "provenance": []
  },
  "kernelspec": {
   "display_name": "Python 3 (ipykernel)",
   "language": "python",
   "name": "python3"
  },
  "language_info": {
   "codemirror_mode": {
    "name": "ipython",
    "version": 3
   },
   "file_extension": ".py",
   "mimetype": "text/x-python",
   "name": "python",
   "nbconvert_exporter": "python",
   "pygments_lexer": "ipython3",
   "version": "3.10.11"
  }
 },
 "nbformat": 4,
 "nbformat_minor": 4
}
