{
 "cells": [
  {
   "cell_type": "markdown",
   "metadata": {
    "id": "BdWj1U0LK7Qu"
   },
   "source": [
    "#Семинар №3\n",
    "\n",
    "Функции. Локальные и глобальные переменные. Передача аргументов. Строки. Списки. Кортежи. Множества."
   ]
  },
  {
   "cell_type": "markdown",
   "metadata": {
    "id": "wcnNOAcagP1W"
   },
   "source": [
    "#Функции"
   ]
  },
  {
   "cell_type": "code",
   "execution_count": null,
   "metadata": {
    "id": "SiAQ51fV7KPc"
   },
   "outputs": [],
   "source": []
  },
  {
   "cell_type": "markdown",
   "metadata": {
    "id": "FMo36gGbga7f"
   },
   "source": [
    "Напишем программу для вычисления факториала какого-нибудь числа. Она будет выглядеть так:"
   ]
  },
  {
   "cell_type": "code",
   "execution_count": null,
   "metadata": {
    "colab": {
     "base_uri": "https://localhost:8080/"
    },
    "executionInfo": {
     "elapsed": 18,
     "status": "ok",
     "timestamp": 1694849984586,
     "user": {
      "displayName": "Anastasia Moshkova",
      "userId": "17895988911170149439"
     },
     "user_tz": -180
    },
    "id": "V36O5gpXgTCF",
    "outputId": "f1adbef5-9765-4d8c-97b0-3ac56cc6d706"
   },
   "outputs": [
    {
     "name": "stdout",
     "output_type": "stream",
     "text": [
      "120\n"
     ]
    }
   ],
   "source": [
    "n = 5\n",
    "\n",
    "f = 1\n",
    "for i in range(2, n+1):\n",
    "    f = f * i\n",
    "    # эквивалентный синтаксис: f *= i\n",
    "print(f)"
   ]
  },
  {
   "cell_type": "markdown",
   "metadata": {
    "id": "SV4i_6cugn1M"
   },
   "source": [
    "В данном случае нам нужно написать функцию, вычисляющую факториал. Она выглядит так:"
   ]
  },
  {
   "cell_type": "code",
   "execution_count": null,
   "metadata": {
    "id": "3Rg3Uft7goe7"
   },
   "outputs": [],
   "source": [
    "def factorial(n):\n",
    "    f = 1\n",
    "    for i in range(2, n+1):\n",
    "        f = f * i\n",
    "    #return f"
   ]
  },
  {
   "cell_type": "markdown",
   "metadata": {
    "id": "3332x8mlgw8n"
   },
   "source": [
    "Теперь мы можем вызывать функцию factorial, передавая ей параметр."
   ]
  },
  {
   "cell_type": "code",
   "execution_count": null,
   "metadata": {
    "id": "LpJ7Wu3AguOk"
   },
   "outputs": [],
   "source": [
    "a=factorial(5)"
   ]
  },
  {
   "cell_type": "code",
   "execution_count": null,
   "metadata": {
    "colab": {
     "base_uri": "https://localhost:8080/"
    },
    "executionInfo": {
     "elapsed": 241,
     "status": "ok",
     "timestamp": 1694850056924,
     "user": {
      "displayName": "Anastasia Moshkova",
      "userId": "17895988911170149439"
     },
     "user_tz": -180
    },
    "id": "HKwhleE5rqR-",
    "outputId": "4b2196c5-db4b-48a6-9a92-087e768f5396"
   },
   "outputs": [
    {
     "data": {
      "text/plain": [
       "NoneType"
      ]
     },
     "execution_count": 11,
     "metadata": {},
     "output_type": "execute_result"
    }
   ],
   "source": [
    "type(a)"
   ]
  },
  {
   "cell_type": "code",
   "execution_count": null,
   "metadata": {
    "id": "5FE73y8X7rw_"
   },
   "outputs": [],
   "source": [
    "a"
   ]
  },
  {
   "cell_type": "markdown",
   "metadata": {
    "id": "Et8Rsur4g0xN"
   },
   "source": [
    "И даже использовать её в более сложных выражениях:"
   ]
  },
  {
   "cell_type": "code",
   "execution_count": null,
   "metadata": {
    "colab": {
     "base_uri": "https://localhost:8080/"
    },
    "executionInfo": {
     "elapsed": 385,
     "status": "ok",
     "timestamp": 1694850023452,
     "user": {
      "displayName": "Anastasia Moshkova",
      "userId": "17895988911170149439"
     },
     "user_tz": -180
    },
    "id": "yDT6rc36g21M",
    "outputId": "27659463-616d-4bff-df60-e66e35412336"
   },
   "outputs": [
    {
     "data": {
      "text/plain": [
       "840"
      ]
     },
     "execution_count": 8,
     "metadata": {},
     "output_type": "execute_result"
    }
   ],
   "source": [
    "factorial(5)+factorial(6)"
   ]
  },
  {
   "cell_type": "markdown",
   "metadata": {
    "id": "BiffSQqng-vY"
   },
   "source": [
    "Посмотрим более внимательно на то, что происходит, когда Python вычисляет значение выражения factorial(6). В первую очередь он открывает свою записную книжку и ищет там функцию factorial. Находит (поскольку раньше мы её туда записали). Дальше он смотрит на первую строчку определения функции (это так называемая сигнатура):\n",
    "\n",
    "def factorial(n):\n",
    "\n",
    "Здесь он видит, что функция factorial() имеет аргумент, который называется n. Python помнит, что мы вызвали factorial(6), то есть значение аргумента должно быть равно 6. Таким образом, дальше он выполняет строчку (которую мы не писали)\n",
    "\n",
    "n = 6\n",
    "\n",
    "После чего выполняет остальные строчки из тела функции:\n",
    "\n",
    "\n",
    "f = 1\n",
    "for i in range(2, n+1):\n",
    "    f = f * i\n",
    "\n",
    "Наконец он доходит до строчки\n",
    "\n",
    "return f\n",
    "\n",
    "В этот момент переменная f имеет значение 24. Слово return означает, что Python должен вернуться к строчке, в которой был вызов factorial(6), и заменить там factorial(6) на 24 (то, что написано после return). На этом вызов функции завершён.\n"
   ]
  },
  {
   "cell_type": "code",
   "execution_count": null,
   "metadata": {
    "id": "a5yENrTviazw"
   },
   "outputs": [],
   "source": [
    "def hello(name):\n",
    "  #a = \"Hello, \"+name+\"!\"\n",
    "  return \"Hello, \"+name+\"!\""
   ]
  },
  {
   "cell_type": "code",
   "execution_count": null,
   "metadata": {
    "colab": {
     "base_uri": "https://localhost:8080/",
     "height": 36
    },
    "executionInfo": {
     "elapsed": 272,
     "status": "ok",
     "timestamp": 1694850177125,
     "user": {
      "displayName": "Anastasia Moshkova",
      "userId": "17895988911170149439"
     },
     "user_tz": -180
    },
    "id": "7cInIRqe8RUr",
    "outputId": "ff8e71f3-f3a2-4e71-dbe0-69e7693fd6f8"
   },
   "outputs": [
    {
     "data": {
      "application/vnd.google.colaboratory.intrinsic+json": {
       "type": "string"
      },
      "text/plain": [
       "'Hello, Nastya!'"
      ]
     },
     "execution_count": 14,
     "metadata": {},
     "output_type": "execute_result"
    }
   ],
   "source": [
    "name = \"Nastya\"\n",
    "\"Hello, \"+name+\"!\""
   ]
  },
  {
   "cell_type": "code",
   "execution_count": null,
   "metadata": {
    "id": "3PZXbGzdicuN"
   },
   "outputs": [],
   "source": [
    "s = hello(\"World\")"
   ]
  },
  {
   "cell_type": "markdown",
   "metadata": {
    "id": "mkAPVKK8ihUA"
   },
   "source": [
    "А теперь давайте напишем другую функцию, которая не возвращает строчку, а печатает её."
   ]
  },
  {
   "cell_type": "code",
   "execution_count": null,
   "metadata": {
    "id": "AjLLTrE1syS9"
   },
   "outputs": [],
   "source": []
  },
  {
   "cell_type": "code",
   "execution_count": null,
   "metadata": {
    "id": "1NRg62cEij5K"
   },
   "outputs": [],
   "source": [
    "def say_hello(name):\n",
    "    print(\"Hello, \"+name+\"!\")"
   ]
  },
  {
   "cell_type": "markdown",
   "metadata": {
    "id": "VNTeAKxPi0et"
   },
   "source": [
    "В этой функции вообще нет команды return, но Python поймёт, что из функции надо возвращаться в основную программу в тот момент, когда строчки в функции закончились. В данном случае в функции только одна строка."
   ]
  },
  {
   "cell_type": "code",
   "execution_count": null,
   "metadata": {
    "colab": {
     "base_uri": "https://localhost:8080/"
    },
    "executionInfo": {
     "elapsed": 15,
     "status": "ok",
     "timestamp": 1694850216506,
     "user": {
      "displayName": "Anastasia Moshkova",
      "userId": "17895988911170149439"
     },
     "user_tz": -180
    },
    "id": "titzcSr6izWP",
    "outputId": "c83ec65a-94bf-479d-a7c9-e86aa30f591d"
   },
   "outputs": [
    {
     "name": "stdout",
     "output_type": "stream",
     "text": [
      "Hello, Harry!\n"
     ]
    }
   ],
   "source": [
    "s = say_hello(\"Harry\")"
   ]
  },
  {
   "cell_type": "markdown",
   "metadata": {
    "id": "Zxo34JOTjFDU"
   },
   "source": [
    "Функции могут вызывать другие функции. Например, вместо того, чтобы копировать строчку \"Hello, \"+name+\"!\" из функции hello() в функцию say_hello(), просто вызовем hello() из say_hello()."
   ]
  },
  {
   "cell_type": "code",
   "execution_count": null,
   "metadata": {
    "id": "rcW4VaqCjGwe"
   },
   "outputs": [],
   "source": [
    "def new_say_hello(name):\n",
    "    print(hello(name))\n",
    "    return hello(name)"
   ]
  },
  {
   "cell_type": "code",
   "execution_count": null,
   "metadata": {
    "colab": {
     "base_uri": "https://localhost:8080/",
     "height": 54
    },
    "executionInfo": {
     "elapsed": 286,
     "status": "ok",
     "timestamp": 1694850232310,
     "user": {
      "displayName": "Anastasia Moshkova",
      "userId": "17895988911170149439"
     },
     "user_tz": -180
    },
    "id": "OsgRbdArjIIg",
    "outputId": "475cc78e-9747-4a2f-8d89-de44af30fd0c"
   },
   "outputs": [
    {
     "name": "stdout",
     "output_type": "stream",
     "text": [
      "Hello, Harry!\n"
     ]
    },
    {
     "data": {
      "application/vnd.google.colaboratory.intrinsic+json": {
       "type": "string"
      },
      "text/plain": [
       "'Hello, Harry!'"
      ]
     },
     "execution_count": 18,
     "metadata": {},
     "output_type": "execute_result"
    }
   ],
   "source": [
    "new_say_hello(\"Harry\")"
   ]
  },
  {
   "cell_type": "markdown",
   "metadata": {
    "id": "Sy6OpTzZjLuB"
   },
   "source": [
    "После выполнения строчки return выполнение функции прекращается. Давайте рассмотрим ещё один пример: вычислим модуль некоторого числа. Код для этой функции может иметь такой вид (я назвал её my_abs(), потому что в Python есть встроенная функция abs, которая решает ту же задачу):"
   ]
  },
  {
   "cell_type": "code",
   "execution_count": null,
   "metadata": {
    "id": "1KqQdZ4AjNtI"
   },
   "outputs": [],
   "source": [
    "def my_abs(x):\n",
    "    if x > 0:\n",
    "        return x\n",
    "    else:\n",
    "        return -x"
   ]
  },
  {
   "cell_type": "code",
   "execution_count": null,
   "metadata": {
    "colab": {
     "base_uri": "https://localhost:8080/"
    },
    "executionInfo": {
     "elapsed": 257,
     "status": "ok",
     "timestamp": 1694850276278,
     "user": {
      "displayName": "Anastasia Moshkova",
      "userId": "17895988911170149439"
     },
     "user_tz": -180
    },
    "id": "SOfM1iMTjPkb",
    "outputId": "c41e9453-6f96-4752-940a-eb983d7b8960"
   },
   "outputs": [
    {
     "data": {
      "text/plain": [
       "5"
      ]
     },
     "execution_count": 22,
     "metadata": {},
     "output_type": "execute_result"
    }
   ],
   "source": [
    "my_abs(-5)"
   ]
  },
  {
   "cell_type": "markdown",
   "metadata": {
    "id": "-vbWPu1jjVbp"
   },
   "source": [
    "Это самое простое решение: если число положительное, то возвращается оно само, а если отрицательное, то возвращается оно с обратным знаком (-x)."
   ]
  },
  {
   "cell_type": "code",
   "execution_count": null,
   "metadata": {
    "id": "LVwvLx5ojTwc"
   },
   "outputs": [],
   "source": [
    "def my_abs(x):\n",
    "    print(\"New my_abs\")\n",
    "    # если функция с таким названием уже была, то Python про неё забудет и запишет вместо этого новую функция\n",
    "    # чтобы убедиться в этом я поставил здесь этот print\n",
    "    if x > 0:\n",
    "        return x\n",
    "    return -x"
   ]
  },
  {
   "cell_type": "code",
   "execution_count": null,
   "metadata": {
    "colab": {
     "base_uri": "https://localhost:8080/"
    },
    "executionInfo": {
     "elapsed": 319,
     "status": "ok",
     "timestamp": 1694850286861,
     "user": {
      "displayName": "Anastasia Moshkova",
      "userId": "17895988911170149439"
     },
     "user_tz": -180
    },
    "id": "qo_bQJUEjb2t",
    "outputId": "2eec482d-4cbe-413b-e7d9-ced940cd872f"
   },
   "outputs": [
    {
     "name": "stdout",
     "output_type": "stream",
     "text": [
      "New my_abs\n"
     ]
    },
    {
     "data": {
      "text/plain": [
       "6"
      ]
     },
     "execution_count": 24,
     "metadata": {},
     "output_type": "execute_result"
    }
   ],
   "source": [
    "my_abs(-6)"
   ]
  },
  {
   "cell_type": "markdown",
   "metadata": {
    "id": "l9vswDg7jjxG"
   },
   "source": [
    "#Локальные и глобальные переменные"
   ]
  },
  {
   "cell_type": "markdown",
   "metadata": {
    "id": "cJoglDFLjo0P"
   },
   "source": [
    "Внутри функции могут создаваться и использоваться различные переменные. Чтобы это не создавало проблем, переменные, определенные внутри функции, не видны извне. Давайте рассмотрим пример:"
   ]
  },
  {
   "cell_type": "code",
   "execution_count": null,
   "metadata": {
    "colab": {
     "base_uri": "https://localhost:8080/"
    },
    "executionInfo": {
     "elapsed": 10,
     "status": "ok",
     "timestamp": 1694850366018,
     "user": {
      "displayName": "Anastasia Moshkova",
      "userId": "17895988911170149439"
     },
     "user_tz": -180
    },
    "id": "0fuiKwUx84rJ",
    "outputId": "35d8fa7d-dd4f-43b2-ef85-84a8e0cb9903"
   },
   "outputs": [
    {
     "name": "stdout",
     "output_type": "stream",
     "text": [
      "2 5\n"
     ]
    }
   ],
   "source": [
    "a=5\n",
    "def foo(a):\n",
    "  a = a+1\n",
    "  return a\n",
    "\n",
    "print(foo(1), a)\n",
    "\n"
   ]
  },
  {
   "cell_type": "code",
   "execution_count": null,
   "metadata": {
    "colab": {
     "base_uri": "https://localhost:8080/"
    },
    "executionInfo": {
     "elapsed": 6,
     "status": "ok",
     "timestamp": 1662113868308,
     "user": {
      "displayName": "Anastasia Moshkova",
      "userId": "17895988911170149439"
     },
     "user_tz": -180
    },
    "id": "2rsbOUj6jmPx",
    "outputId": "c53c88ea-17be-4ddc-bb49-1736ebc57ea1"
   },
   "outputs": [
    {
     "name": "stdout",
     "output_type": "stream",
     "text": [
      "10\n",
      "In the function, f = 40320\n",
      "40320\n",
      "Out of function\n",
      "10\n"
     ]
    }
   ],
   "source": [
    "f = 10\n",
    "\n",
    "def factorial(n):\n",
    "    f = 1\n",
    "    for i in range(2, n+1):\n",
    "        f = f * i\n",
    "    print(\"In the function, f =\", f)\n",
    "    return f\n",
    "\n",
    "f = 10\n",
    "print(f)\n",
    "print(factorial(8))\n",
    "print(\"Out of function\")\n",
    "print(f)"
   ]
  },
  {
   "cell_type": "markdown",
   "metadata": {
    "id": "gdBg6Sr0kBBv"
   },
   "source": [
    "Как видно из результата выполнения этого кода, переменная f в основной программе и переменная f внутри функции — это совсем разные переменные."
   ]
  },
  {
   "cell_type": "markdown",
   "metadata": {
    "id": "bzBAt8aQkCEd"
   },
   "source": [
    "Тем не менее, иногда нам всё-таки хочется, чтобы функция имела доступ к какой-то внешней переменной. Допустим, мы хотим написать функцию, которая будет приветствовать пользователя, используя язык, указанный им в настройках. Она могла бы выглядеть таким образом:"
   ]
  },
  {
   "cell_type": "code",
   "execution_count": null,
   "metadata": {
    "id": "m06YzpmikNay"
   },
   "outputs": [],
   "source": [
    "def hello_i18n(name, lang):\n",
    "    if lang == 'ru':\n",
    "        print(\"Привет,\",name)\n",
    "    else:\n",
    "        print(\"Hello,\",name)"
   ]
  },
  {
   "cell_type": "code",
   "execution_count": null,
   "metadata": {
    "colab": {
     "base_uri": "https://localhost:8080/"
    },
    "executionInfo": {
     "elapsed": 3,
     "status": "ok",
     "timestamp": 1662113985615,
     "user": {
      "displayName": "Anastasia Moshkova",
      "userId": "17895988911170149439"
     },
     "user_tz": -180
    },
    "id": "6NwGRiLvkRRy",
    "outputId": "aa7bf782-a18f-4ab2-a4c2-329c8a8e39de"
   },
   "outputs": [
    {
     "name": "stdout",
     "output_type": "stream",
     "text": [
      "Привет, Ivan\n"
     ]
    }
   ],
   "source": [
    "hello_i18n(\"Ivan\", 'ru')"
   ]
  },
  {
   "cell_type": "code",
   "execution_count": null,
   "metadata": {
    "colab": {
     "base_uri": "https://localhost:8080/"
    },
    "executionInfo": {
     "elapsed": 4,
     "status": "ok",
     "timestamp": 1662113986800,
     "user": {
      "displayName": "Anastasia Moshkova",
      "userId": "17895988911170149439"
     },
     "user_tz": -180
    },
    "id": "mwTcEaW2kThQ",
    "outputId": "19bb8cd7-5a5c-4147-d48a-95635806a6aa"
   },
   "outputs": [
    {
     "name": "stdout",
     "output_type": "stream",
     "text": [
      "Hello, Ivan\n"
     ]
    }
   ],
   "source": [
    "hello_i18n(\"Ivan\", 'en')"
   ]
  },
  {
   "cell_type": "markdown",
   "metadata": {
    "id": "rUb9KGmPka8M"
   },
   "source": [
    "Проблема в том, что функций, которым нужно знать, какой язык выбран, может быть очень много, и каждый раз передавать им вручную значение переменной lang отдельным параметром довольно мучительно. Оказывается, можно этого избежать:"
   ]
  },
  {
   "cell_type": "code",
   "execution_count": null,
   "metadata": {
    "colab": {
     "base_uri": "https://localhost:8080/"
    },
    "executionInfo": {
     "elapsed": 6,
     "status": "ok",
     "timestamp": 1662114034391,
     "user": {
      "displayName": "Anastasia Moshkova",
      "userId": "17895988911170149439"
     },
     "user_tz": -180
    },
    "id": "5kvw6UYykc14",
    "outputId": "26bb9abe-ff7d-43de-fcba-1f7e0c21fa2b"
   },
   "outputs": [
    {
     "name": "stdout",
     "output_type": "stream",
     "text": [
      "Привет, Ivan\n",
      "Hello, John\n"
     ]
    }
   ],
   "source": [
    "def hello_i18n(name):\n",
    "    if lang == 'ru':\n",
    "        print(\"Привет,\",name)\n",
    "    else:\n",
    "        print(\"Hello,\",name)\n",
    "\n",
    "lang = 'ru'\n",
    "#print(\"Hello world\")\n",
    "hello_i18n('Ivan')\n",
    "\n",
    "lang = 'en'\n",
    "hello_i18n('John')"
   ]
  },
  {
   "cell_type": "markdown",
   "metadata": {
    "id": "yZ84K7NMkh2t"
   },
   "source": [
    "Как видите, сейчс поведение функции зависит от того, чему равняется переменная lang, определенная вне функции. Может быть и в функции factorial() можно было обратиться к переменной f до того момента, как мы положили в неё число 1? Давайте попробуем:"
   ]
  },
  {
   "cell_type": "code",
   "execution_count": null,
   "metadata": {
    "id": "BiaB8z9mlG-8"
   },
   "outputs": [],
   "source": [
    "f=2"
   ]
  },
  {
   "cell_type": "code",
   "execution_count": null,
   "metadata": {
    "id": "GYEPulDllDG6"
   },
   "outputs": [],
   "source": [
    "def factorial(n):\n",
    "    print(\"In the function, before assignment, f =\", f)\n",
    "    f = 1\n",
    "    for i in range(2, n+1):\n",
    "        f = f * i\n",
    "    print(\"In the function, f =\", f)\n",
    "    return f"
   ]
  },
  {
   "cell_type": "code",
   "execution_count": null,
   "metadata": {
    "colab": {
     "base_uri": "https://localhost:8080/",
     "height": 287
    },
    "executionInfo": {
     "elapsed": 446,
     "status": "error",
     "timestamp": 1662114066793,
     "user": {
      "displayName": "Anastasia Moshkova",
      "userId": "17895988911170149439"
     },
     "user_tz": -180
    },
    "id": "T6N5vvVOkhDd",
    "outputId": "2f617f32-0366-4ce5-eafb-ff5f59023c90"
   },
   "outputs": [
    {
     "ename": "UnboundLocalError",
     "evalue": "ignored",
     "output_type": "error",
     "traceback": [
      "\u001b[0;31m---------------------------------------------------------------------------\u001b[0m",
      "\u001b[0;31mUnboundLocalError\u001b[0m                         Traceback (most recent call last)",
      "\u001b[0;32m<ipython-input-190-26972ebb8a51>\u001b[0m in \u001b[0;36m<module>\u001b[0;34m\u001b[0m\n\u001b[0;32m----> 1\u001b[0;31m \u001b[0mfactorial\u001b[0m\u001b[0;34m(\u001b[0m\u001b[0;36m2\u001b[0m\u001b[0;34m)\u001b[0m\u001b[0;34m\u001b[0m\u001b[0;34m\u001b[0m\u001b[0m\n\u001b[0m",
      "\u001b[0;32m<ipython-input-189-9edfcfd8c667>\u001b[0m in \u001b[0;36mfactorial\u001b[0;34m(n)\u001b[0m\n\u001b[1;32m      1\u001b[0m \u001b[0;32mdef\u001b[0m \u001b[0mfactorial\u001b[0m\u001b[0;34m(\u001b[0m\u001b[0mn\u001b[0m\u001b[0;34m)\u001b[0m\u001b[0;34m:\u001b[0m\u001b[0;34m\u001b[0m\u001b[0;34m\u001b[0m\u001b[0m\n\u001b[0;32m----> 2\u001b[0;31m     \u001b[0mprint\u001b[0m\u001b[0;34m(\u001b[0m\u001b[0;34m\"In the function, before assignment, f =\"\u001b[0m\u001b[0;34m,\u001b[0m \u001b[0mf\u001b[0m\u001b[0;34m)\u001b[0m\u001b[0;34m\u001b[0m\u001b[0;34m\u001b[0m\u001b[0m\n\u001b[0m\u001b[1;32m      3\u001b[0m     \u001b[0mf\u001b[0m \u001b[0;34m=\u001b[0m \u001b[0;36m1\u001b[0m\u001b[0;34m\u001b[0m\u001b[0;34m\u001b[0m\u001b[0m\n\u001b[1;32m      4\u001b[0m     \u001b[0;32mfor\u001b[0m \u001b[0mi\u001b[0m \u001b[0;32min\u001b[0m \u001b[0mrange\u001b[0m\u001b[0;34m(\u001b[0m\u001b[0;36m2\u001b[0m\u001b[0;34m,\u001b[0m \u001b[0mn\u001b[0m\u001b[0;34m+\u001b[0m\u001b[0;36m1\u001b[0m\u001b[0;34m)\u001b[0m\u001b[0;34m:\u001b[0m\u001b[0;34m\u001b[0m\u001b[0;34m\u001b[0m\u001b[0m\n\u001b[1;32m      5\u001b[0m         \u001b[0mf\u001b[0m \u001b[0;34m=\u001b[0m \u001b[0mf\u001b[0m \u001b[0;34m*\u001b[0m \u001b[0mi\u001b[0m\u001b[0;34m\u001b[0m\u001b[0;34m\u001b[0m\u001b[0m\n",
      "\u001b[0;31mUnboundLocalError\u001b[0m: local variable 'f' referenced before assignment"
     ]
    }
   ],
   "source": [
    "factorial(2)"
   ]
  },
  {
   "cell_type": "markdown",
   "metadata": {
    "id": "z16KHgthlWs1"
   },
   "source": [
    "В этом случае Python выдаёт ошибку: локальная переменная f использовалась до присвоения значения. В чём разница между этим кодом и предыдущим?\n",
    "\n",
    "Оказывается, Python очень умный: прежде, чем выполнить функцию, он анализирует её код и определяет, какая из переменных является локальной, а какая глобальной. В качестве глобальных переменных по умолчанию используются те, которые не меняются в теле функции (то есть такие, к которым не применяются операторы типа приравнивания или +=). Иными словами, по умолчанию глобальные переменные доступны только для чтения, но не для модификации изнутри функции.\n",
    "\n",
    "Ситуация, при которой функция модифицирует глобальную переменную, обычно не очень желательна: функции должны быть изолированы от кода, который из запускает, иначе вы быстро перестанете понимать, что делает ваша программа. Тем не менее, иногда модификация глобальных переменных необходима. Например, мы хотим написать функцию, которая будет устанавливать значение языка пользовавателя. Она может выглядеть примерно так:"
   ]
  },
  {
   "cell_type": "code",
   "execution_count": null,
   "metadata": {
    "id": "_Il4Md6RlqIY"
   },
   "outputs": [],
   "source": [
    "def set_lang():\n",
    "    useRussian = input(\"Would you like to speak Russian (Y/N): \")\n",
    "    if useRussian == 'Y':\n",
    "        lang = 'ru'\n",
    "    else:\n",
    "        lang = 'en'"
   ]
  },
  {
   "cell_type": "code",
   "execution_count": null,
   "metadata": {
    "colab": {
     "base_uri": "https://localhost:8080/"
    },
    "executionInfo": {
     "elapsed": 3467,
     "status": "ok",
     "timestamp": 1662114203569,
     "user": {
      "displayName": "Anastasia Moshkova",
      "userId": "17895988911170149439"
     },
     "user_tz": -180
    },
    "id": "3ePrqkN3lt_p",
    "outputId": "599e4d05-72e8-4fcb-e6f9-4fff4b89cf0b"
   },
   "outputs": [
    {
     "name": "stdout",
     "output_type": "stream",
     "text": [
      "en\n",
      "Would you like to speak Russian (Y/N): Y\n",
      "en\n"
     ]
    }
   ],
   "source": [
    "lang = 'en'\n",
    "print(lang)\n",
    "set_lang()\n",
    "print(lang)"
   ]
  },
  {
   "cell_type": "markdown",
   "metadata": {
    "id": "u6cgN2Lblw6q"
   },
   "source": [
    "Как видим, эта функция не работает — собственно, и не должна. Чтобы функция set_lang смогла менять значение переменной lang, её необходимо явно объявить как глобальную с помощью ключевого слова global."
   ]
  },
  {
   "cell_type": "code",
   "execution_count": null,
   "metadata": {
    "id": "9EtAkxtfl0a5"
   },
   "outputs": [],
   "source": [
    "def set_lang():\n",
    "    global lang\n",
    "    useRussian = input(\"Would you like to speak Russian (Y/N): \")\n",
    "    if useRussian == 'Y':\n",
    "        lang = 'ru'\n",
    "    else:\n",
    "        lang = 'en'"
   ]
  },
  {
   "cell_type": "code",
   "execution_count": null,
   "metadata": {
    "colab": {
     "base_uri": "https://localhost:8080/"
    },
    "executionInfo": {
     "elapsed": 4304,
     "status": "ok",
     "timestamp": 1694850447679,
     "user": {
      "displayName": "Anastasia Moshkova",
      "userId": "17895988911170149439"
     },
     "user_tz": -180
    },
    "id": "sKgFHVzdl2LL",
    "outputId": "a5515db5-fa18-4e69-f8f0-1e84dfa317de"
   },
   "outputs": [
    {
     "name": "stdout",
     "output_type": "stream",
     "text": [
      "en\n",
      "Would you like to speak Russian (Y/N): Y\n",
      "ru\n"
     ]
    }
   ],
   "source": [
    "lang = 'en'\n",
    "print(lang)\n",
    "set_lang()\n",
    "print(lang)"
   ]
  },
  {
   "cell_type": "markdown",
   "metadata": {
    "id": "opHm8cz0l6yx"
   },
   "source": [
    "#Передача аргументов"
   ]
  },
  {
   "cell_type": "code",
   "execution_count": null,
   "metadata": {
    "id": "G0yujXyll8Vw"
   },
   "outputs": [],
   "source": [
    "def hello(name, title):\n",
    "    print(\"Hello\", title, name)"
   ]
  },
  {
   "cell_type": "markdown",
   "metadata": {
    "id": "B94Y0y0umC5N"
   },
   "source": [
    "В некоторым случаях мы хотим, чтобы какие-то аргументы можно было не указывать. Скажем, мы хотим иметь возможность вызвать функцию hello(), определённую выше, не указывая title. В этом случае сейчас нам выдадут ошибку:"
   ]
  },
  {
   "cell_type": "code",
   "execution_count": null,
   "metadata": {
    "colab": {
     "base_uri": "https://localhost:8080/",
     "height": 179
    },
    "executionInfo": {
     "elapsed": 307,
     "status": "error",
     "timestamp": 1694850477085,
     "user": {
      "displayName": "Anastasia Moshkova",
      "userId": "17895988911170149439"
     },
     "user_tz": -180
    },
    "id": "xy9186axmGgU",
    "outputId": "dd7a7324-59f4-44a8-992b-0a073e6b8fff"
   },
   "outputs": [
    {
     "ename": "TypeError",
     "evalue": "ignored",
     "output_type": "error",
     "traceback": [
      "\u001b[0;31m---------------------------------------------------------------------------\u001b[0m",
      "\u001b[0;31mTypeError\u001b[0m                                 Traceback (most recent call last)",
      "\u001b[0;32m<ipython-input-30-4266b7e1b9aa>\u001b[0m in \u001b[0;36m<cell line: 1>\u001b[0;34m()\u001b[0m\n\u001b[0;32m----> 1\u001b[0;31m \u001b[0mhello\u001b[0m\u001b[0;34m(\u001b[0m\u001b[0;34m\"Harry\"\u001b[0m\u001b[0;34m)\u001b[0m\u001b[0;34m\u001b[0m\u001b[0;34m\u001b[0m\u001b[0m\n\u001b[0m",
      "\u001b[0;31mTypeError\u001b[0m: hello() missing 1 required positional argument: 'title'"
     ]
    }
   ],
   "source": [
    "hello(\"Harry\")"
   ]
  },
  {
   "cell_type": "markdown",
   "metadata": {
    "id": "foI1PyALmKlZ"
   },
   "source": [
    "Это неудивительно: мы сказали, что функция hello() должна использовать аргумент title, но не передали его — какое же значение тогда использовать? Для преодоления этой трудности используютя значения по умолчанию (default values)."
   ]
  },
  {
   "cell_type": "code",
   "execution_count": null,
   "metadata": {
    "colab": {
     "base_uri": "https://localhost:8080/"
    },
    "executionInfo": {
     "elapsed": 264,
     "status": "ok",
     "timestamp": 1694850494493,
     "user": {
      "displayName": "Anastasia Moshkova",
      "userId": "17895988911170149439"
     },
     "user_tz": -180
    },
    "id": "_f8beU0LmPSH",
    "outputId": "a03307f8-46ae-4c04-ffd4-ca67a3e8a8d9"
   },
   "outputs": [
    {
     "name": "stdout",
     "output_type": "stream",
     "text": [
      "Hello Harry \n"
     ]
    }
   ],
   "source": [
    "def hello(name=\"\", title=\"\"):\n",
    "    print(\"Hello\", title, name)\n",
    "hello(title='Harry')"
   ]
  },
  {
   "cell_type": "code",
   "execution_count": null,
   "metadata": {
    "colab": {
     "base_uri": "https://localhost:8080/"
    },
    "executionInfo": {
     "elapsed": 279,
     "status": "ok",
     "timestamp": 1694850564059,
     "user": {
      "displayName": "Anastasia Moshkova",
      "userId": "17895988911170149439"
     },
     "user_tz": -180
    },
    "id": "8azBXzlamQcW",
    "outputId": "f519d309-3f14-4a45-eb35-7c31396f7ef4"
   },
   "outputs": [
    {
     "name": "stdout",
     "output_type": "stream",
     "text": [
      "Hello Mrs. Smith\n"
     ]
    }
   ],
   "source": [
    "hello(\"Smith\", \"Mrs.\")"
   ]
  },
  {
   "cell_type": "markdown",
   "metadata": {
    "id": "Km5KDJRimXFU"
   },
   "source": [
    "Аргументы можно передавать, указывая их имена."
   ]
  },
  {
   "cell_type": "code",
   "execution_count": null,
   "metadata": {
    "colab": {
     "base_uri": "https://localhost:8080/"
    },
    "executionInfo": {
     "elapsed": 258,
     "status": "ok",
     "timestamp": 1694850592623,
     "user": {
      "displayName": "Anastasia Moshkova",
      "userId": "17895988911170149439"
     },
     "user_tz": -180
    },
    "id": "i9GhddkzmY1M",
    "outputId": "6c73f21d-e02a-4491-b249-4c07e0721a36"
   },
   "outputs": [
    {
     "name": "stdout",
     "output_type": "stream",
     "text": [
      "Hello Mr. Smith\n"
     ]
    }
   ],
   "source": [
    "hello(\"Smith\", title = \"Mr.\")"
   ]
  },
  {
   "cell_type": "code",
   "execution_count": null,
   "metadata": {
    "colab": {
     "base_uri": "https://localhost:8080/"
    },
    "executionInfo": {
     "elapsed": 363,
     "status": "ok",
     "timestamp": 1694850594358,
     "user": {
      "displayName": "Anastasia Moshkova",
      "userId": "17895988911170149439"
     },
     "user_tz": -180
    },
    "id": "LIc_IYESmapP",
    "outputId": "11dc4ad5-d356-4c3b-ea33-6d65c3a53161"
   },
   "outputs": [
    {
     "name": "stdout",
     "output_type": "stream",
     "text": [
      "Hello Mr. Smith\n"
     ]
    }
   ],
   "source": [
    "hello(name = \"Smith\", title= \"Mr.\")"
   ]
  },
  {
   "cell_type": "markdown",
   "metadata": {
    "id": "YNPeuNRTmeZV"
   },
   "source": [
    "Ещё бывают функции, которые принимают неограниченное число аргументов. Например, так ведёт себя функция print()."
   ]
  },
  {
   "cell_type": "code",
   "execution_count": null,
   "metadata": {
    "colab": {
     "base_uri": "https://localhost:8080/"
    },
    "executionInfo": {
     "elapsed": 280,
     "status": "ok",
     "timestamp": 1694850638579,
     "user": {
      "displayName": "Anastasia Moshkova",
      "userId": "17895988911170149439"
     },
     "user_tz": -180
    },
    "id": "e86tfjVTmgcv",
    "outputId": "8ed0465c-0ac1-42c6-bef9-588cb8469003"
   },
   "outputs": [
    {
     "name": "stdout",
     "output_type": "stream",
     "text": [
      "8 7 5 hello 8 hello\n"
     ]
    }
   ],
   "source": [
    "print(8, 7, 5, 'hello', 8, \"hello\")"
   ]
  },
  {
   "cell_type": "code",
   "execution_count": null,
   "metadata": {
    "id": "qZe-pHXlmj2g"
   },
   "outputs": [],
   "source": [
    "def my_print(*args, name = \"arg\"):\n",
    "  print(args)\n",
    "  for x in args:\n",
    "      print(x, name)"
   ]
  },
  {
   "cell_type": "code",
   "execution_count": null,
   "metadata": {
    "colab": {
     "base_uri": "https://localhost:8080/"
    },
    "executionInfo": {
     "elapsed": 359,
     "status": "ok",
     "timestamp": 1662114484431,
     "user": {
      "displayName": "Anastasia Moshkova",
      "userId": "17895988911170149439"
     },
     "user_tz": -180
    },
    "id": "a5GbnjxJmlx-",
    "outputId": "07771ca5-be0b-4376-b39c-632b6e030364"
   },
   "outputs": [
    {
     "name": "stdout",
     "output_type": "stream",
     "text": [
      "(6, 8, 9, 'hello', 88, 55)\n",
      "6\n",
      "8\n",
      "9\n",
      "hello\n",
      "88\n",
      "55\n"
     ]
    }
   ],
   "source": [
    "my_print(6, 8, 9, 'hello', 88, 55)"
   ]
  },
  {
   "cell_type": "code",
   "execution_count": null,
   "metadata": {
    "colab": {
     "base_uri": "https://localhost:8080/"
    },
    "executionInfo": {
     "elapsed": 374,
     "status": "ok",
     "timestamp": 1694850895549,
     "user": {
      "displayName": "Anastasia Moshkova",
      "userId": "17895988911170149439"
     },
     "user_tz": -180
    },
    "id": "Y0AbNp3v-Ta9",
    "outputId": "469ba1a3-8538-4c19-ded9-6b18e1e94fb0"
   },
   "outputs": [
    {
     "name": "stdout",
     "output_type": "stream",
     "text": [
      "(1, 2, 4, [1, 2, 4], 1)\n",
      "1 arg2\n",
      "2 arg2\n",
      "4 arg2\n",
      "[1, 2, 4] arg2\n",
      "1 arg2\n"
     ]
    }
   ],
   "source": [
    "lst = [1, 2, 4]\n",
    "my_print(*lst, lst, 1, name = \"arg2\")"
   ]
  },
  {
   "cell_type": "code",
   "execution_count": null,
   "metadata": {
    "colab": {
     "base_uri": "https://localhost:8080/"
    },
    "executionInfo": {
     "elapsed": 244,
     "status": "ok",
     "timestamp": 1694851137195,
     "user": {
      "displayName": "Anastasia Moshkova",
      "userId": "17895988911170149439"
     },
     "user_tz": -180
    },
    "id": "X8fUM8C9_Pjg",
    "outputId": "d3dd3a5a-6c68-47ad-a845-e519fbcdcdbe"
   },
   "outputs": [
    {
     "name": "stdout",
     "output_type": "stream",
     "text": [
      "res1 (2, 3) res2 3\n",
      "2\n"
     ]
    }
   ],
   "source": [
    "def formula1(a):\n",
    "  a = a+1\n",
    "  b = a+1\n",
    "  return a, b\n",
    "def formula2(b):\n",
    "  b = b+2\n",
    "  return b\n",
    "a =1\n",
    "b=1\n",
    "print('res1',formula1(a), 'res2', formula2(b))\n",
    "\n",
    "c, _ = formula1(a)\n",
    "print(c)"
   ]
  },
  {
   "cell_type": "markdown",
   "metadata": {
    "id": "jPyWUWqTR1ll"
   },
   "source": [
    "#Строки"
   ]
  },
  {
   "cell_type": "code",
   "execution_count": 7,
   "metadata": {
    "colab": {
     "base_uri": "https://localhost:8080/"
    },
    "executionInfo": {
     "elapsed": 309,
     "status": "ok",
     "timestamp": 1694861305226,
     "user": {
      "displayName": "Anastasia Moshkova",
      "userId": "17895988911170149439"
     },
     "user_tz": -180
    },
    "id": "ynbJkz64ZO2D",
    "outputId": "10eff751-84a1-44a4-e369-606ce31db123"
   },
   "outputs": [
    {
     "name": "stdout",
     "output_type": "stream",
     "text": [
      "This is a python tutorial\n"
     ]
    }
   ],
   "source": [
    "string = \"This is a python tutorial\"\n",
    "print(string)"
   ]
  },
  {
   "cell_type": "code",
   "execution_count": 8,
   "metadata": {
    "colab": {
     "base_uri": "https://localhost:8080/"
    },
    "executionInfo": {
     "elapsed": 10,
     "status": "ok",
     "timestamp": 1694861307727,
     "user": {
      "displayName": "Anastasia Moshkova",
      "userId": "17895988911170149439"
     },
     "user_tz": -180
    },
    "id": "09K1ST9eZRZG",
    "outputId": "2d7bf734-a822-421d-d7f4-57c9c64f1df8"
   },
   "outputs": [
    {
     "name": "stdout",
     "output_type": "stream",
     "text": [
      "<class 'str'>\n"
     ]
    }
   ],
   "source": [
    "print(type(string))"
   ]
  },
  {
   "cell_type": "code",
   "execution_count": 9,
   "metadata": {
    "colab": {
     "base_uri": "https://localhost:8080/",
     "height": 36
    },
    "executionInfo": {
     "elapsed": 539,
     "status": "ok",
     "timestamp": 1694861333573,
     "user": {
      "displayName": "Anastasia Moshkova",
      "userId": "17895988911170149439"
     },
     "user_tz": -180
    },
    "id": "D0a9MMBqchxP",
    "outputId": "538875c5-8556-4fda-df8b-423c406b6834"
   },
   "outputs": [
    {
     "data": {
      "application/vnd.google.colaboratory.intrinsic+json": {
       "type": "string"
      },
      "text/plain": [
       "'Hello World'"
      ]
     },
     "execution_count": 9,
     "metadata": {},
     "output_type": "execute_result"
    }
   ],
   "source": [
    "#сложение строк\n",
    "str1='Hello'\n",
    "str2='World'\n",
    "str1+' '+str2"
   ]
  },
  {
   "cell_type": "code",
   "execution_count": 10,
   "metadata": {
    "colab": {
     "base_uri": "https://localhost:8080/",
     "height": 36
    },
    "executionInfo": {
     "elapsed": 15,
     "status": "ok",
     "timestamp": 1694861345571,
     "user": {
      "displayName": "Anastasia Moshkova",
      "userId": "17895988911170149439"
     },
     "user_tz": -180
    },
    "id": "mnrKylOFcoHY",
    "outputId": "830f2d13-a279-4dcb-adee-3d51b48ab967"
   },
   "outputs": [
    {
     "data": {
      "application/vnd.google.colaboratory.intrinsic+json": {
       "type": "string"
      },
      "text/plain": [
       "'HelloHello'"
      ]
     },
     "execution_count": 10,
     "metadata": {},
     "output_type": "execute_result"
    }
   ],
   "source": [
    "#умножение строк\n",
    "2*str1"
   ]
  },
  {
   "cell_type": "code",
   "execution_count": 11,
   "metadata": {
    "colab": {
     "base_uri": "https://localhost:8080/"
    },
    "executionInfo": {
     "elapsed": 287,
     "status": "ok",
     "timestamp": 1694861353693,
     "user": {
      "displayName": "Anastasia Moshkova",
      "userId": "17895988911170149439"
     },
     "user_tz": -180
    },
    "id": "BSNYVp6_dBRc",
    "outputId": "f4987c34-c1fb-43e8-ccf7-b4af41d97438"
   },
   "outputs": [
    {
     "data": {
      "text/plain": [
       "5"
      ]
     },
     "execution_count": 11,
     "metadata": {},
     "output_type": "execute_result"
    }
   ],
   "source": [
    "#длина строки\n",
    "len(str1)"
   ]
  },
  {
   "cell_type": "markdown",
   "metadata": {
    "id": "NurKQpUvdPeD"
   },
   "source": [
    "Пробежимся циклом по символам в строке"
   ]
  },
  {
   "cell_type": "code",
   "execution_count": 12,
   "metadata": {
    "colab": {
     "base_uri": "https://localhost:8080/"
    },
    "executionInfo": {
     "elapsed": 288,
     "status": "ok",
     "timestamp": 1694861356855,
     "user": {
      "displayName": "Anastasia Moshkova",
      "userId": "17895988911170149439"
     },
     "user_tz": -180
    },
    "id": "lfMRPejPcvp-",
    "outputId": "9da2b5df-0d9b-4427-8056-34443f749509"
   },
   "outputs": [
    {
     "name": "stdout",
     "output_type": "stream",
     "text": [
      "H\n",
      "e\n",
      "l\n",
      "l\n",
      "o\n"
     ]
    }
   ],
   "source": [
    "for i in range(len(str1)):\n",
    "  print(str1[i])"
   ]
  },
  {
   "cell_type": "code",
   "execution_count": 13,
   "metadata": {
    "colab": {
     "base_uri": "https://localhost:8080/"
    },
    "executionInfo": {
     "elapsed": 326,
     "status": "ok",
     "timestamp": 1694861362768,
     "user": {
      "displayName": "Anastasia Moshkova",
      "userId": "17895988911170149439"
     },
     "user_tz": -180
    },
    "id": "Xqo0v7xoc2K_",
    "outputId": "91966a24-7aef-4ea2-c02e-9bf2baf3e6b4"
   },
   "outputs": [
    {
     "name": "stdout",
     "output_type": "stream",
     "text": [
      "H\n",
      "e\n",
      "l\n",
      "l\n",
      "o\n"
     ]
    }
   ],
   "source": [
    "for s in str1:\n",
    "  print(s)"
   ]
  },
  {
   "cell_type": "markdown",
   "metadata": {
    "id": "qULmQxXLdUTu"
   },
   "source": [
    "Изменение строчной буквы строки на заглавную"
   ]
  },
  {
   "cell_type": "code",
   "execution_count": 14,
   "metadata": {
    "colab": {
     "base_uri": "https://localhost:8080/"
    },
    "executionInfo": {
     "elapsed": 7,
     "status": "ok",
     "timestamp": 1694861372942,
     "user": {
      "displayName": "Anastasia Moshkova",
      "userId": "17895988911170149439"
     },
     "user_tz": -180
    },
    "id": "tZF9tZa3SEwZ",
    "outputId": "364dbd7a-41e3-45bc-e3a1-978d82ad021d"
   },
   "outputs": [
    {
     "data": {
      "text/plain": [
       "['Peter', 'Paul', 'Mary', 'Guido']"
      ]
     },
     "execution_count": 14,
     "metadata": {},
     "output_type": "execute_result"
    }
   ],
   "source": [
    "data = ['peter', 'Paul', 'MARY', 'gUIDO']\n",
    "[s.capitalize() for s in data]"
   ]
  },
  {
   "cell_type": "markdown",
   "metadata": {
    "id": "JtdUSzUqdYh_"
   },
   "source": [
    "Обратимся к символу строки по индексу"
   ]
  },
  {
   "cell_type": "code",
   "execution_count": 15,
   "metadata": {
    "colab": {
     "base_uri": "https://localhost:8080/"
    },
    "executionInfo": {
     "elapsed": 318,
     "status": "ok",
     "timestamp": 1694861421878,
     "user": {
      "displayName": "Anastasia Moshkova",
      "userId": "17895988911170149439"
     },
     "user_tz": -180
    },
    "id": "SzLiOTF4ZUAN",
    "outputId": "8f73cfc2-631e-405c-fa10-d3ab45a5f575"
   },
   "outputs": [
    {
     "name": "stdout",
     "output_type": "stream",
     "text": [
      "t\n"
     ]
    }
   ],
   "source": [
    "string = \"Python\"\n",
    "print(string[2])"
   ]
  },
  {
   "cell_type": "code",
   "execution_count": 16,
   "metadata": {
    "colab": {
     "base_uri": "https://localhost:8080/"
    },
    "executionInfo": {
     "elapsed": 326,
     "status": "ok",
     "timestamp": 1694861425455,
     "user": {
      "displayName": "Anastasia Moshkova",
      "userId": "17895988911170149439"
     },
     "user_tz": -180
    },
    "id": "LRz75tinZeV_",
    "outputId": "b6339c4c-1615-42c1-ac1a-acf74c4796b0"
   },
   "outputs": [
    {
     "name": "stdout",
     "output_type": "stream",
     "text": [
      "programming\n"
     ]
    }
   ],
   "source": [
    "string = \"programming\"\n",
    "print(string)\n"
   ]
  },
  {
   "cell_type": "code",
   "execution_count": 17,
   "metadata": {
    "colab": {
     "base_uri": "https://localhost:8080/"
    },
    "executionInfo": {
     "elapsed": 395,
     "status": "ok",
     "timestamp": 1694861433785,
     "user": {
      "displayName": "Anastasia Moshkova",
      "userId": "17895988911170149439"
     },
     "user_tz": -180
    },
    "id": "QDELB2EsZ8gJ",
    "outputId": "b207f05d-7c32-4378-ae3b-13cad0016146"
   },
   "outputs": [
    {
     "name": "stdout",
     "output_type": "stream",
     "text": [
      "prog\n"
     ]
    }
   ],
   "source": [
    "print(string[0:4])"
   ]
  },
  {
   "cell_type": "code",
   "execution_count": null,
   "metadata": {
    "colab": {
     "base_uri": "https://localhost:8080/"
    },
    "executionInfo": {
     "elapsed": 744,
     "status": "ok",
     "timestamp": 1662209490562,
     "user": {
      "displayName": "Anastasia Moshkova",
      "userId": "17895988911170149439"
     },
     "user_tz": -180
    },
    "id": "4K6gjJ-fZ8oY",
    "outputId": "ee7e7140-e042-4c8f-fc8d-291ec9703ea8"
   },
   "outputs": [
    {
     "name": "stdout",
     "output_type": "stream",
     "text": [
      "pro\n"
     ]
    }
   ],
   "source": [
    "print(string[:3])"
   ]
  },
  {
   "cell_type": "code",
   "execution_count": null,
   "metadata": {
    "colab": {
     "base_uri": "https://localhost:8080/"
    },
    "executionInfo": {
     "elapsed": 450,
     "status": "ok",
     "timestamp": 1662209493923,
     "user": {
      "displayName": "Anastasia Moshkova",
      "userId": "17895988911170149439"
     },
     "user_tz": -180
    },
    "id": "XG-W8cyNZ7DG",
    "outputId": "7269d7d9-5784-46c7-a885-0e3a5a1e3b47"
   },
   "outputs": [
    {
     "name": "stdout",
     "output_type": "stream",
     "text": [
      "ing\n"
     ]
    }
   ],
   "source": [
    "print(string[-3:])"
   ]
  },
  {
   "cell_type": "code",
   "execution_count": null,
   "metadata": {
    "colab": {
     "base_uri": "https://localhost:8080/"
    },
    "executionInfo": {
     "elapsed": 473,
     "status": "ok",
     "timestamp": 1662209501411,
     "user": {
      "displayName": "Anastasia Moshkova",
      "userId": "17895988911170149439"
     },
     "user_tz": -180
    },
    "id": "AZ-4DsCSZ2ve",
    "outputId": "e6c4863b-b882-4a13-cbb7-52fc1dd005de"
   },
   "outputs": [
    {
     "name": "stdout",
     "output_type": "stream",
     "text": [
      "gramming\n"
     ]
    }
   ],
   "source": [
    "print(string[3:])"
   ]
  },
  {
   "cell_type": "code",
   "execution_count": null,
   "metadata": {
    "colab": {
     "base_uri": "https://localhost:8080/"
    },
    "executionInfo": {
     "elapsed": 12,
     "status": "ok",
     "timestamp": 1662209538742,
     "user": {
      "displayName": "Anastasia Moshkova",
      "userId": "17895988911170149439"
     },
     "user_tz": -180
    },
    "id": "HM_wlxFVZmkd",
    "outputId": "0e76a290-91dd-4dd4-db3e-617dec89088f"
   },
   "outputs": [
    {
     "name": "stdout",
     "output_type": "stream",
     "text": [
      "programm\n"
     ]
    }
   ],
   "source": [
    "print(string[:-3])"
   ]
  },
  {
   "cell_type": "markdown",
   "metadata": {
    "id": "_S3B_sb7aSIj"
   },
   "source": [
    "Обратный порядок символов"
   ]
  },
  {
   "cell_type": "code",
   "execution_count": null,
   "metadata": {
    "colab": {
     "base_uri": "https://localhost:8080/"
    },
    "executionInfo": {
     "elapsed": 12,
     "status": "ok",
     "timestamp": 1662209558879,
     "user": {
      "displayName": "Anastasia Moshkova",
      "userId": "17895988911170149439"
     },
     "user_tz": -180
    },
    "id": "irFcNFNJaPim",
    "outputId": "f52796e1-d4d7-49f5-c62e-f10cbc41ca28"
   },
   "outputs": [
    {
     "name": "stdout",
     "output_type": "stream",
     "text": [
      "gnimmargorp\n"
     ]
    }
   ],
   "source": [
    "print(string[::-1])"
   ]
  },
  {
   "cell_type": "markdown",
   "metadata": {
    "id": "IwQ9c6cZarYu"
   },
   "source": [
    "Разделение строки Split()"
   ]
  },
  {
   "cell_type": "code",
   "execution_count": null,
   "metadata": {
    "colab": {
     "base_uri": "https://localhost:8080/"
    },
    "executionInfo": {
     "elapsed": 10,
     "status": "ok",
     "timestamp": 1662209639343,
     "user": {
      "displayName": "Anastasia Moshkova",
      "userId": "17895988911170149439"
     },
     "user_tz": -180
    },
    "id": "IXOGmze7aeW3",
    "outputId": "a34223f2-8e9a-4867-a1e7-db3034953ac7"
   },
   "outputs": [
    {
     "data": {
      "text/plain": [
       "['Computer', 'Programming']"
      ]
     },
     "execution_count": 15,
     "metadata": {},
     "output_type": "execute_result"
    }
   ],
   "source": [
    "String = \"Computer Programming\"\n",
    "listString = String.split()\n",
    "listString"
   ]
  },
  {
   "cell_type": "markdown",
   "metadata": {
    "id": "i-JYNfNna-l2"
   },
   "source": [
    "Join()"
   ]
  },
  {
   "cell_type": "code",
   "execution_count": 18,
   "metadata": {
    "colab": {
     "base_uri": "https://localhost:8080/",
     "height": 179
    },
    "executionInfo": {
     "elapsed": 386,
     "status": "error",
     "timestamp": 1694861481376,
     "user": {
      "displayName": "Anastasia Moshkova",
      "userId": "17895988911170149439"
     },
     "user_tz": -180
    },
    "id": "IPxh2vcrbFbj",
    "outputId": "b34d1294-af9f-4019-e1fc-b8abfc16eaf7"
   },
   "outputs": [
    {
     "ename": "NameError",
     "evalue": "ignored",
     "output_type": "error",
     "traceback": [
      "\u001b[0;31m---------------------------------------------------------------------------\u001b[0m",
      "\u001b[0;31mNameError\u001b[0m                                 Traceback (most recent call last)",
      "\u001b[0;32m<ipython-input-18-ab9acaa958cc>\u001b[0m in \u001b[0;36m<cell line: 1>\u001b[0;34m()\u001b[0m\n\u001b[0;32m----> 1\u001b[0;31m \u001b[0;34m\" \"\u001b[0m\u001b[0;34m.\u001b[0m\u001b[0mjoin\u001b[0m\u001b[0;34m(\u001b[0m\u001b[0mlistString\u001b[0m\u001b[0;34m)\u001b[0m\u001b[0;34m\u001b[0m\u001b[0;34m\u001b[0m\u001b[0m\n\u001b[0m",
      "\u001b[0;31mNameError\u001b[0m: name 'listString' is not defined"
     ]
    }
   ],
   "source": [
    "\" \".join(listString)"
   ]
  },
  {
   "cell_type": "code",
   "execution_count": null,
   "metadata": {
    "colab": {
     "base_uri": "https://localhost:8080/",
     "height": 36
    },
    "executionInfo": {
     "elapsed": 426,
     "status": "ok",
     "timestamp": 1662209763299,
     "user": {
      "displayName": "Anastasia Moshkova",
      "userId": "17895988911170149439"
     },
     "user_tz": -180
    },
    "id": "Yd-eCTE1a_s5",
    "outputId": "b313ceb1-0bfd-4137-bc64-5249e136ddde"
   },
   "outputs": [
    {
     "data": {
      "application/vnd.google.colaboratory.intrinsic+json": {
       "type": "string"
      },
      "text/plain": [
       "'P y t h o n   P r o g r a m m i n g   i s   f u n'"
      ]
     },
     "execution_count": 16,
     "metadata": {},
     "output_type": "execute_result"
    }
   ],
   "source": [
    "String = \"Python Programming is fun\"\n",
    "String = \" \".join(String)\n",
    "String"
   ]
  },
  {
   "cell_type": "markdown",
   "metadata": {
    "id": "Qfx09jmBavbX"
   },
   "source": [
    "Замена символа"
   ]
  },
  {
   "cell_type": "code",
   "execution_count": null,
   "metadata": {
    "id": "YP1_bZ1qaudl"
   },
   "outputs": [],
   "source": [
    "Money = '$113,678'"
   ]
  },
  {
   "cell_type": "code",
   "execution_count": null,
   "metadata": {
    "colab": {
     "base_uri": "https://localhost:8080/",
     "height": 35
    },
    "id": "fsK018P2cjJ3",
    "outputId": "f8bc3015-ecec-4f3a-a93e-ca4f63eb0e0c"
   },
   "outputs": [
    {
     "data": {
      "text/plain": [
       "'113,678'"
      ]
     },
     "execution_count": 20,
     "metadata": {
      "tags": []
     },
     "output_type": "execute_result"
    }
   ],
   "source": [
    "Money = Money.replace('$', '')\n",
    "Money"
   ]
  },
  {
   "cell_type": "code",
   "execution_count": null,
   "metadata": {
    "colab": {
     "base_uri": "https://localhost:8080/",
     "height": 35
    },
    "id": "ZQO19dD_cknA",
    "outputId": "f3a71c90-1e6a-4b85-e5e5-b380e76019ac"
   },
   "outputs": [
    {
     "data": {
      "text/plain": [
       "'113678'"
      ]
     },
     "execution_count": 21,
     "metadata": {
      "tags": []
     },
     "output_type": "execute_result"
    }
   ],
   "source": [
    "Money = Money.replace(',', '')\n",
    "Money"
   ]
  },
  {
   "cell_type": "markdown",
   "metadata": {
    "id": "H4uTP8eobQhK"
   },
   "source": [
    "Поиск в строке"
   ]
  },
  {
   "cell_type": "code",
   "execution_count": null,
   "metadata": {
    "colab": {
     "base_uri": "https://localhost:8080/",
     "height": 35
    },
    "executionInfo": {
     "elapsed": 20,
     "status": "ok",
     "timestamp": 1663313805442,
     "user": {
      "displayName": "Anastasia Moshkova",
      "userId": "17895988911170149439"
     },
     "user_tz": -180
    },
    "id": "YoNlax-LdOGs",
    "outputId": "596d8477-28fa-42e1-fb94-098173685fa9"
   },
   "outputs": [
    {
     "data": {
      "application/vnd.google.colaboratory.intrinsic+json": {
       "type": "string"
      },
      "text/plain": [
       "'programming'"
      ]
     },
     "execution_count": 1,
     "metadata": {},
     "output_type": "execute_result"
    }
   ],
   "source": [
    "string = \"programming\"\n",
    "string"
   ]
  },
  {
   "cell_type": "code",
   "execution_count": null,
   "metadata": {
    "colab": {
     "base_uri": "https://localhost:8080/",
     "height": 35
    },
    "id": "UF1zGdSfdPl4",
    "outputId": "039e43d5-a38a-42af-8893-21503d58f89e"
   },
   "outputs": [
    {
     "name": "stdout",
     "output_type": "stream",
     "text": [
      "0\n"
     ]
    }
   ],
   "source": [
    "print(string.find('p'))"
   ]
  },
  {
   "cell_type": "code",
   "execution_count": null,
   "metadata": {
    "colab": {
     "base_uri": "https://localhost:8080/"
    },
    "executionInfo": {
     "elapsed": 14,
     "status": "ok",
     "timestamp": 1663313808547,
     "user": {
      "displayName": "Anastasia Moshkova",
      "userId": "17895988911170149439"
     },
     "user_tz": -180
    },
    "id": "YndJcTeDdQ4J",
    "outputId": "46fa1447-2b91-4146-f91d-6aa64f7dbd9d"
   },
   "outputs": [
    {
     "name": "stdout",
     "output_type": "stream",
     "text": [
      "-1\n"
     ]
    }
   ],
   "source": [
    "print(string.find('t'))"
   ]
  },
  {
   "cell_type": "markdown",
   "metadata": {
    "id": "okMphhbmbYJG"
   },
   "source": [
    "Функция strip удаляет пробелы как в начале, так и в конце строки."
   ]
  },
  {
   "cell_type": "code",
   "execution_count": null,
   "metadata": {
    "colab": {
     "base_uri": "https://localhost:8080/",
     "height": 35
    },
    "id": "iK6st3AXdV8R",
    "outputId": "bbc0a546-9deb-4d29-ab3b-0b92cb78624b"
   },
   "outputs": [
    {
     "data": {
      "text/plain": [
       "'     programming is easy    '"
      ]
     },
     "execution_count": 32,
     "metadata": {
      "tags": []
     },
     "output_type": "execute_result"
    }
   ],
   "source": [
    "string = \"     programming is easy    \"\n",
    "string"
   ]
  },
  {
   "cell_type": "code",
   "execution_count": null,
   "metadata": {
    "colab": {
     "base_uri": "https://localhost:8080/",
     "height": 35
    },
    "id": "w6iyIxh2dYJr",
    "outputId": "6e39c256-e1c7-4d54-84ff-cbaef4e13e23"
   },
   "outputs": [
    {
     "name": "stdout",
     "output_type": "stream",
     "text": [
      "programming is easy\n"
     ]
    }
   ],
   "source": [
    "print(string.strip())"
   ]
  },
  {
   "cell_type": "markdown",
   "metadata": {
    "id": "N0JDmDo3JdMZ"
   },
   "source": [
    "Поиск в строке"
   ]
  },
  {
   "cell_type": "code",
   "execution_count": 19,
   "metadata": {
    "colab": {
     "base_uri": "https://localhost:8080/"
    },
    "executionInfo": {
     "elapsed": 304,
     "status": "ok",
     "timestamp": 1694861657672,
     "user": {
      "displayName": "Anastasia Moshkova",
      "userId": "17895988911170149439"
     },
     "user_tz": -180
    },
    "id": "ofuwtkz8Jce9",
    "outputId": "ab41e2b5-b164-431d-ec7f-a49e4d543476"
   },
   "outputs": [
    {
     "name": "stdout",
     "output_type": "stream",
     "text": [
      "True\n"
     ]
    }
   ],
   "source": [
    "message = \"I like cats and dogs.\"\n",
    "dog_present = 'dog' in message\n",
    "print(dog_present)"
   ]
  },
  {
   "cell_type": "markdown",
   "metadata": {
    "id": "BAK9vFucJlVJ"
   },
   "source": [
    "Змена символов в строке"
   ]
  },
  {
   "cell_type": "code",
   "execution_count": null,
   "metadata": {
    "colab": {
     "base_uri": "https://localhost:8080/"
    },
    "executionInfo": {
     "elapsed": 299,
     "status": "ok",
     "timestamp": 1662289087700,
     "user": {
      "displayName": "Anastasia Moshkova",
      "userId": "17895988911170149439"
     },
     "user_tz": -180
    },
    "id": "4nkaHNi3Jn8M",
    "outputId": "91eec9d4-025b-4be8-8de9-e499ed6f5d82"
   },
   "outputs": [
    {
     "name": "stdout",
     "output_type": "stream",
     "text": [
      "I like cats and snakes, but I'd much rather own a snake.\n"
     ]
    }
   ],
   "source": [
    "message = \"I like cats and dogs, but I'd much rather own a dog.\"\n",
    "message = message.replace('dog', 'snake')\n",
    "print(message)"
   ]
  },
  {
   "cell_type": "markdown",
   "metadata": {
    "id": "EqC0REFCJsJP"
   },
   "source": [
    "Подсчет символов в строке"
   ]
  },
  {
   "cell_type": "code",
   "execution_count": null,
   "metadata": {
    "colab": {
     "base_uri": "https://localhost:8080/"
    },
    "executionInfo": {
     "elapsed": 297,
     "status": "ok",
     "timestamp": 1662289117367,
     "user": {
      "displayName": "Anastasia Moshkova",
      "userId": "17895988911170149439"
     },
     "user_tz": -180
    },
    "id": "xD7xu2DUJq_w",
    "outputId": "0b8b6b7b-19ab-475d-c47f-68dbcd999b28"
   },
   "outputs": [
    {
     "name": "stdout",
     "output_type": "stream",
     "text": [
      "2\n"
     ]
    }
   ],
   "source": [
    "message = \"I like cats and dogs, but I'd much rather own a dog.\"\n",
    "number_dogs = message.count('dog')\n",
    "print(number_dogs)"
   ]
  },
  {
   "cell_type": "markdown",
   "metadata": {
    "id": "auuL2tkOR5Qj"
   },
   "source": [
    "#Списки"
   ]
  },
  {
   "cell_type": "code",
   "execution_count": null,
   "metadata": {
    "colab": {
     "base_uri": "https://localhost:8080/"
    },
    "executionInfo": {
     "elapsed": 896,
     "status": "ok",
     "timestamp": 1662286500343,
     "user": {
      "displayName": "Anastasia Moshkova",
      "userId": "17895988911170149439"
     },
     "user_tz": -180
    },
    "id": "PR3UUZH2_rgX",
    "outputId": "bccde38e-dd50-4132-da51-47c03c1e52a0"
   },
   "outputs": [
    {
     "name": "stdout",
     "output_type": "stream",
     "text": [
      "[2, 5, 7, 4, 5, 1, 11]\n"
     ]
    }
   ],
   "source": [
    "data=[2,5,7,4,5,1,11]\n",
    "print(data)"
   ]
  },
  {
   "cell_type": "code",
   "execution_count": null,
   "metadata": {
    "colab": {
     "base_uri": "https://localhost:8080/"
    },
    "executionInfo": {
     "elapsed": 11,
     "status": "ok",
     "timestamp": 1662286502422,
     "user": {
      "displayName": "Anastasia Moshkova",
      "userId": "17895988911170149439"
     },
     "user_tz": -180
    },
    "id": "DFev8Ixu_sCx",
    "outputId": "fd04ba2d-9ab6-4995-dec1-9401eefe851f"
   },
   "outputs": [
    {
     "name": "stdout",
     "output_type": "stream",
     "text": [
      "5\n"
     ]
    }
   ],
   "source": [
    "print(data[1])"
   ]
  },
  {
   "cell_type": "code",
   "execution_count": null,
   "metadata": {
    "colab": {
     "base_uri": "https://localhost:8080/"
    },
    "executionInfo": {
     "elapsed": 288,
     "status": "ok",
     "timestamp": 1662286582000,
     "user": {
      "displayName": "Anastasia Moshkova",
      "userId": "17895988911170149439"
     },
     "user_tz": -180
    },
    "id": "gx0s2xKp_3XV",
    "outputId": "1bc10d84-d9e7-490b-f583-341db6a864d8"
   },
   "outputs": [
    {
     "data": {
      "text/plain": [
       "7"
      ]
     },
     "execution_count": 5,
     "metadata": {},
     "output_type": "execute_result"
    }
   ],
   "source": [
    "n=len(data)\n",
    "n"
   ]
  },
  {
   "cell_type": "code",
   "execution_count": null,
   "metadata": {
    "colab": {
     "base_uri": "https://localhost:8080/"
    },
    "executionInfo": {
     "elapsed": 282,
     "status": "ok",
     "timestamp": 1662286604177,
     "user": {
      "displayName": "Anastasia Moshkova",
      "userId": "17895988911170149439"
     },
     "user_tz": -180
    },
    "id": "d5E5k9rD_9tM",
    "outputId": "ea3b25d5-d62c-451d-fd84-760b85fb0bf0"
   },
   "outputs": [
    {
     "name": "stdout",
     "output_type": "stream",
     "text": [
      "Это число больше 10: 11\n"
     ]
    }
   ],
   "source": [
    "for i in range(n):\n",
    "  if (data[i]>10):\n",
    "    print (\"Это число больше 10:\",data[i])"
   ]
  },
  {
   "cell_type": "code",
   "execution_count": null,
   "metadata": {
    "colab": {
     "base_uri": "https://localhost:8080/"
    },
    "executionInfo": {
     "elapsed": 314,
     "status": "ok",
     "timestamp": 1662286794684,
     "user": {
      "displayName": "Anastasia Moshkova",
      "userId": "17895988911170149439"
     },
     "user_tz": -180
    },
    "id": "NRqkLe8DAyc6",
    "outputId": "888099c8-04d8-4a2e-e092-6fc9dfe6e54a"
   },
   "outputs": [
    {
     "name": "stdout",
     "output_type": "stream",
     "text": [
      "I like border collies.\n",
      "I like australian cattle dogs.\n",
      "I like labrador retrievers.\n"
     ]
    }
   ],
   "source": [
    "dogs = ['border collie', 'australian cattle dog', 'labrador retriever']\n",
    "\n",
    "for dog in dogs:\n",
    "    print('I like ' + dog + 's.')"
   ]
  },
  {
   "cell_type": "markdown",
   "metadata": {
    "id": "DwBnSiLRBIBL"
   },
   "source": [
    "Получем еомер индекса элемента"
   ]
  },
  {
   "cell_type": "code",
   "execution_count": 21,
   "metadata": {
    "colab": {
     "base_uri": "https://localhost:8080/"
    },
    "executionInfo": {
     "elapsed": 351,
     "status": "ok",
     "timestamp": 1694861781885,
     "user": {
      "displayName": "Anastasia Moshkova",
      "userId": "17895988911170149439"
     },
     "user_tz": -180
    },
    "id": "ZoESrXujoimq",
    "outputId": "16ebdabe-0503-4fb1-8c53-9c6087bb2936"
   },
   "outputs": [
    {
     "data": {
      "text/plain": [
       "1"
      ]
     },
     "execution_count": 21,
     "metadata": {},
     "output_type": "execute_result"
    }
   ],
   "source": [
    "a = [1, 2, 3, 2]\n",
    "a.index(2)"
   ]
  },
  {
   "cell_type": "code",
   "execution_count": null,
   "metadata": {
    "colab": {
     "base_uri": "https://localhost:8080/"
    },
    "executionInfo": {
     "elapsed": 275,
     "status": "ok",
     "timestamp": 1662286798248,
     "user": {
      "displayName": "Anastasia Moshkova",
      "userId": "17895988911170149439"
     },
     "user_tz": -180
    },
    "id": "X0sHZ4JlA1xH",
    "outputId": "eac3327a-2dd5-43bd-c137-c8ab84d2bcd4"
   },
   "outputs": [
    {
     "name": "stdout",
     "output_type": "stream",
     "text": [
      "1\n"
     ]
    }
   ],
   "source": [
    "print(dogs.index('australian cattle dog'))"
   ]
  },
  {
   "cell_type": "code",
   "execution_count": null,
   "metadata": {
    "colab": {
     "base_uri": "https://localhost:8080/",
     "height": 165
    },
    "executionInfo": {
     "elapsed": 309,
     "status": "error",
     "timestamp": 1662286814679,
     "user": {
      "displayName": "Anastasia Moshkova",
      "userId": "17895988911170149439"
     },
     "user_tz": -180
    },
    "id": "m8VjAOigA9Zn",
    "outputId": "9554f1d2-936e-4008-df1a-6d52a33ecea6"
   },
   "outputs": [
    {
     "ename": "ValueError",
     "evalue": "ignored",
     "output_type": "error",
     "traceback": [
      "\u001b[0;31m---------------------------------------------------------------------------\u001b[0m",
      "\u001b[0;31mValueError\u001b[0m                                Traceback (most recent call last)",
      "\u001b[0;32m<ipython-input-10-446f43ba8aef>\u001b[0m in \u001b[0;36m<module>\u001b[0;34m\u001b[0m\n\u001b[0;32m----> 1\u001b[0;31m \u001b[0mprint\u001b[0m\u001b[0;34m(\u001b[0m\u001b[0mdogs\u001b[0m\u001b[0;34m.\u001b[0m\u001b[0mindex\u001b[0m\u001b[0;34m(\u001b[0m\u001b[0;34m'poodle'\u001b[0m\u001b[0;34m)\u001b[0m\u001b[0;34m)\u001b[0m\u001b[0;34m\u001b[0m\u001b[0;34m\u001b[0m\u001b[0m\n\u001b[0m",
      "\u001b[0;31mValueError\u001b[0m: 'poodle' is not in list"
     ]
    }
   ],
   "source": [
    "print(dogs.index('poodle'))"
   ]
  },
  {
   "cell_type": "markdown",
   "metadata": {
    "id": "KRi8W771BDgs"
   },
   "source": [
    "Проверяем наличие элемента в списке"
   ]
  },
  {
   "cell_type": "code",
   "execution_count": null,
   "metadata": {
    "colab": {
     "base_uri": "https://localhost:8080/"
    },
    "executionInfo": {
     "elapsed": 275,
     "status": "ok",
     "timestamp": 1662286827309,
     "user": {
      "displayName": "Anastasia Moshkova",
      "userId": "17895988911170149439"
     },
     "user_tz": -180
    },
    "id": "jb3uHGhYBANi",
    "outputId": "a1f4e29a-e46f-4630-a7d3-b62b25e0dc69"
   },
   "outputs": [
    {
     "name": "stdout",
     "output_type": "stream",
     "text": [
      "True\n",
      "False\n"
     ]
    }
   ],
   "source": [
    "print('australian cattle dog' in dogs)\n",
    "print('poodle' in dogs)"
   ]
  },
  {
   "cell_type": "markdown",
   "metadata": {
    "id": "7n4xQ-sBBVgK"
   },
   "source": [
    "Добавляем элемент"
   ]
  },
  {
   "cell_type": "code",
   "execution_count": null,
   "metadata": {
    "colab": {
     "base_uri": "https://localhost:8080/"
    },
    "executionInfo": {
     "elapsed": 9,
     "status": "ok",
     "timestamp": 1662287808230,
     "user": {
      "displayName": "Anastasia Moshkova",
      "userId": "17895988911170149439"
     },
     "user_tz": -180
    },
    "id": "qKdkRVMNBLS2",
    "outputId": "aefc1618-184d-4c94-a90a-1afb11e543a0"
   },
   "outputs": [
    {
     "data": {
      "text/plain": [
       "['border collie', 'australian cattle dog', 'labrador retriever', 'poodle']"
      ]
     },
     "execution_count": 12,
     "metadata": {},
     "output_type": "execute_result"
    }
   ],
   "source": [
    "dogs = ['border collie', 'australian cattle dog', 'labrador retriever']\n",
    "dogs.append('poodle')\n",
    "dogs"
   ]
  },
  {
   "cell_type": "markdown",
   "metadata": {
    "id": "GLRZyX1ZBe3Z"
   },
   "source": [
    "Вставляем элемент"
   ]
  },
  {
   "cell_type": "code",
   "execution_count": null,
   "metadata": {
    "colab": {
     "base_uri": "https://localhost:8080/"
    },
    "executionInfo": {
     "elapsed": 312,
     "status": "ok",
     "timestamp": 1662287810126,
     "user": {
      "displayName": "Anastasia Moshkova",
      "userId": "17895988911170149439"
     },
     "user_tz": -180
    },
    "id": "TCwrfi1iBeRm",
    "outputId": "c4cb363b-47a4-4a50-bf99-cc2bc081f5e6"
   },
   "outputs": [
    {
     "name": "stdout",
     "output_type": "stream",
     "text": [
      "['border collie', 'poodle', 'australian cattle dog', 'labrador retriever']\n"
     ]
    }
   ],
   "source": [
    "dogs = ['border collie', 'australian cattle dog', 'labrador retriever']\n",
    "dogs.insert(1, 'poodle')\n",
    "print(dogs)"
   ]
  },
  {
   "cell_type": "code",
   "execution_count": 23,
   "metadata": {
    "colab": {
     "base_uri": "https://localhost:8080/"
    },
    "executionInfo": {
     "elapsed": 14,
     "status": "ok",
     "timestamp": 1694861841099,
     "user": {
      "displayName": "Anastasia Moshkova",
      "userId": "17895988911170149439"
     },
     "user_tz": -180
    },
    "id": "x-x5SBn7ox9b",
    "outputId": "c72e44d6-e02f-4568-9142-df5c3447be8b"
   },
   "outputs": [
    {
     "data": {
      "text/plain": [
       "[1, 2, 8, 3, 2]"
      ]
     },
     "execution_count": 23,
     "metadata": {},
     "output_type": "execute_result"
    }
   ],
   "source": [
    "a = [1, 2, 3, 2]\n",
    "a.insert(2, 8)\n",
    "a"
   ]
  },
  {
   "cell_type": "markdown",
   "metadata": {
    "id": "dnbhVawlE4fO"
   },
   "source": [
    "Заполняем пустой список"
   ]
  },
  {
   "cell_type": "code",
   "execution_count": 24,
   "metadata": {
    "colab": {
     "base_uri": "https://localhost:8080/"
    },
    "executionInfo": {
     "elapsed": 369,
     "status": "ok",
     "timestamp": 1694861875340,
     "user": {
      "displayName": "Anastasia Moshkova",
      "userId": "17895988911170149439"
     },
     "user_tz": -180
    },
    "id": "ddCs2QLpBjKW",
    "outputId": "3c9f18fe-3d9d-4f6c-c3b6-a7227bcbf44b"
   },
   "outputs": [
    {
     "name": "stdout",
     "output_type": "stream",
     "text": [
      "Welcome, Bernice!\n",
      "Welcome, Cody!\n",
      "Welcome, Aaron!\n"
     ]
    }
   ],
   "source": [
    "usernames = []\n",
    "\n",
    "usernames.append('bernice')\n",
    "usernames.append('cody')\n",
    "usernames.append('aaron')\n",
    "\n",
    "for username in usernames:\n",
    "    print(\"Welcome, \" + username.title() + '!')"
   ]
  },
  {
   "cell_type": "code",
   "execution_count": 29,
   "metadata": {
    "colab": {
     "base_uri": "https://localhost:8080/"
    },
    "executionInfo": {
     "elapsed": 433,
     "status": "ok",
     "timestamp": 1694861933004,
     "user": {
      "displayName": "Anastasia Moshkova",
      "userId": "17895988911170149439"
     },
     "user_tz": -180
    },
    "id": "38xBhlB9o--D",
    "outputId": "8049679a-bd05-4dae-fb86-915f6bbb3c72"
   },
   "outputs": [
    {
     "data": {
      "text/plain": [
       "[1, 2, 2, 3]"
      ]
     },
     "execution_count": 29,
     "metadata": {},
     "output_type": "execute_result"
    }
   ],
   "source": [
    "a = [1, 2, 3, 2]\n",
    "sorted(a)"
   ]
  },
  {
   "cell_type": "markdown",
   "metadata": {
    "id": "3qEDnfU1FG1y"
   },
   "source": [
    "Сортируем список"
   ]
  },
  {
   "cell_type": "code",
   "execution_count": null,
   "metadata": {
    "colab": {
     "base_uri": "https://localhost:8080/"
    },
    "executionInfo": {
     "elapsed": 271,
     "status": "ok",
     "timestamp": 1662287973403,
     "user": {
      "displayName": "Anastasia Moshkova",
      "userId": "17895988911170149439"
     },
     "user_tz": -180
    },
    "id": "Tb2fuJhYE92Q",
    "outputId": "5cf7f3fc-5ea6-4d9d-cb5e-373a39cf653d"
   },
   "outputs": [
    {
     "name": "stdout",
     "output_type": "stream",
     "text": [
      "В алфавитном порядке.\n",
      "Aaron\n",
      "Bernice\n",
      "Cody\n",
      "\n",
      "В обратном порядке.\n",
      "Cody\n",
      "Bernice\n",
      "Aaron\n"
     ]
    }
   ],
   "source": [
    "students = ['bernice', 'aaron', 'cody']\n",
    "\n",
    "students.sort()\n",
    "\n",
    "print(\"В алфавитном порядке.\")\n",
    "for student in students:\n",
    "    print(student.title())\n",
    "\n",
    "students.sort(reverse=True)\n",
    "\n",
    "print(\"\\nВ обратном порядке.\")\n",
    "for student in students:\n",
    "    print(student.title())"
   ]
  },
  {
   "cell_type": "markdown",
   "metadata": {
    "id": "-U2VC9nLFcwL"
   },
   "source": [
    "sorted() vs. sort()\n",
    "\n",
    "Если вы хотите отобразить список в отсортированном порядке, но сохранить исходный порядок, вы можете использовать функцию sorted(). Функция sorted() также принимает необязательный аргумент reverse=True."
   ]
  },
  {
   "cell_type": "code",
   "execution_count": null,
   "metadata": {
    "colab": {
     "base_uri": "https://localhost:8080/"
    },
    "executionInfo": {
     "elapsed": 280,
     "status": "ok",
     "timestamp": 1662288151253,
     "user": {
      "displayName": "Anastasia Moshkova",
      "userId": "17895988911170149439"
     },
     "user_tz": -180
    },
    "id": "Plq_NKzlFaQN",
    "outputId": "5d46fdd8-3c34-4e61-cccb-2913f77a8e23"
   },
   "outputs": [
    {
     "name": "stdout",
     "output_type": "stream",
     "text": [
      "В алфавитном порядке.\n",
      "Aaron\n",
      "Bernice\n",
      "Cody\n",
      "\n",
      "В обратном порядке.\n",
      "Cody\n",
      "Bernice\n",
      "Aaron\n",
      "\n",
      "Исходный порядок.\n",
      "Bernice\n",
      "Aaron\n",
      "Cody\n"
     ]
    }
   ],
   "source": [
    "students = ['bernice', 'aaron', 'cody']\n",
    "\n",
    "print(\"В алфавитном порядке.\")\n",
    "for student in sorted(students):\n",
    "    print(student.title())\n",
    "\n",
    "print(\"\\nВ обратном порядке.\")\n",
    "for student in sorted(students, reverse=True):\n",
    "    print(student.title())\n",
    "\n",
    "print(\"\\nИсходный порядок.\")\n",
    "for student in students:\n",
    "    print(student.title())"
   ]
  },
  {
   "cell_type": "code",
   "execution_count": null,
   "metadata": {
    "colab": {
     "base_uri": "https://localhost:8080/"
    },
    "executionInfo": {
     "elapsed": 276,
     "status": "ok",
     "timestamp": 1662288246496,
     "user": {
      "displayName": "Anastasia Moshkova",
      "userId": "17895988911170149439"
     },
     "user_tz": -180
    },
    "id": "vuwhD1hrGZpO",
    "outputId": "1bb8e46e-b352-4631-8291-49a9dabac430"
   },
   "outputs": [
    {
     "name": "stdout",
     "output_type": "stream",
     "text": [
      "[1, 2, 3, 4]\n",
      "[4, 3, 2, 1]\n"
     ]
    }
   ],
   "source": [
    "numbers = [1, 3, 4, 2]\n",
    "\n",
    "numbers.sort()\n",
    "print(numbers)\n",
    "\n",
    "numbers.sort(reverse=True)\n",
    "print(numbers)"
   ]
  },
  {
   "cell_type": "code",
   "execution_count": null,
   "metadata": {
    "colab": {
     "base_uri": "https://localhost:8080/"
    },
    "executionInfo": {
     "elapsed": 280,
     "status": "ok",
     "timestamp": 1662288258300,
     "user": {
      "displayName": "Anastasia Moshkova",
      "userId": "17895988911170149439"
     },
     "user_tz": -180
    },
    "id": "t3AVMitRGc-9",
    "outputId": "a84431fc-7a73-4b4b-d27d-385fedeb5d66"
   },
   "outputs": [
    {
     "name": "stdout",
     "output_type": "stream",
     "text": [
      "[1, 2, 3, 4]\n",
      "[1, 3, 4, 2]\n"
     ]
    }
   ],
   "source": [
    "numbers = [1, 3, 4, 2]\n",
    "\n",
    "print(sorted(numbers))\n",
    "print(numbers)"
   ]
  },
  {
   "cell_type": "markdown",
   "metadata": {
    "id": "ebwzFklNGSOo"
   },
   "source": [
    "Разворот списка"
   ]
  },
  {
   "cell_type": "code",
   "execution_count": null,
   "metadata": {
    "colab": {
     "base_uri": "https://localhost:8080/"
    },
    "executionInfo": {
     "elapsed": 277,
     "status": "ok",
     "timestamp": 1662288223327,
     "user": {
      "displayName": "Anastasia Moshkova",
      "userId": "17895988911170149439"
     },
     "user_tz": -180
    },
    "id": "Au170n2dGRrL",
    "outputId": "20ea96fc-2e4b-4f44-afb9-0e3fe6d73a51"
   },
   "outputs": [
    {
     "name": "stdout",
     "output_type": "stream",
     "text": [
      "['cody', 'aaron', 'bernice']\n"
     ]
    }
   ],
   "source": [
    "students = ['bernice', 'aaron', 'cody']\n",
    "students.reverse()\n",
    "\n",
    "print(students)"
   ]
  },
  {
   "cell_type": "markdown",
   "metadata": {
    "id": "Ydj_T39ZG3ko"
   },
   "source": [
    "Удаление элемента\n",
    "\n",
    "Если вы знаете положение элемента в списке, вы можете удалить этот элемент с помощью команды del. Чтобы использовать этот подход, используйте команду del и имя вашего списка с индексом элемента, который вы хотите удалить, в квадратных скобках:"
   ]
  },
  {
   "cell_type": "code",
   "execution_count": 31,
   "metadata": {
    "colab": {
     "base_uri": "https://localhost:8080/"
    },
    "executionInfo": {
     "elapsed": 340,
     "status": "ok",
     "timestamp": 1694862010495,
     "user": {
      "displayName": "Anastasia Moshkova",
      "userId": "17895988911170149439"
     },
     "user_tz": -180
    },
    "id": "-Gp3IsRRGV47",
    "outputId": "d5123162-189b-45d8-f551-ba6b71c1a087"
   },
   "outputs": [
    {
     "name": "stdout",
     "output_type": "stream",
     "text": [
      "['australian cattle dog', 'labrador retriever']\n"
     ]
    }
   ],
   "source": [
    "dogs = ['border collie', 'australian cattle dog', 'labrador retriever']\n",
    "del dogs[0]\n",
    "\n",
    "print(dogs)"
   ]
  },
  {
   "cell_type": "markdown",
   "metadata": {
    "id": "wWQyDenqHLu4"
   },
   "source": [
    "Вы также можете удалить элемент из списка, если знаете его значение. Для этого мы используем функцию remove(). Укажите имя списка, за которым следует слово remove со значением элемента, который вы хотите удалить, в скобках. Python просматривает ваш список, находит первый элемент с этим значением и удаляет его."
   ]
  },
  {
   "cell_type": "code",
   "execution_count": 32,
   "metadata": {
    "colab": {
     "base_uri": "https://localhost:8080/"
    },
    "executionInfo": {
     "elapsed": 362,
     "status": "ok",
     "timestamp": 1694862015367,
     "user": {
      "displayName": "Anastasia Moshkova",
      "userId": "17895988911170149439"
     },
     "user_tz": -180
    },
    "id": "xl_ml4CCHNva",
    "outputId": "95998adc-124c-43ed-b20a-8f3313d30f50"
   },
   "outputs": [
    {
     "name": "stdout",
     "output_type": "stream",
     "text": [
      "['border collie', 'labrador retriever']\n"
     ]
    }
   ],
   "source": [
    "dogs = ['border collie', 'australian cattle dog', 'labrador retriever']\n",
    "dogs.remove('australian cattle dog')\n",
    "\n",
    "print(dogs)"
   ]
  },
  {
   "cell_type": "markdown",
   "metadata": {
    "id": "5s4vvNugHiZK"
   },
   "source": [
    "Обратите внимание, что удаляется только первый элемент с этим значением. Если у вас есть несколько элементов с одинаковым значением, в вашем списке останутся некоторые элементы с этим значением."
   ]
  },
  {
   "cell_type": "code",
   "execution_count": null,
   "metadata": {
    "colab": {
     "base_uri": "https://localhost:8080/"
    },
    "executionInfo": {
     "elapsed": 259,
     "status": "ok",
     "timestamp": 1662288550320,
     "user": {
      "displayName": "Anastasia Moshkova",
      "userId": "17895988911170149439"
     },
     "user_tz": -180
    },
    "id": "cibYuhAHHjaE",
    "outputId": "f418ac21-8f4f-44cd-9330-63f85861c393"
   },
   "outputs": [
    {
     "name": "stdout",
     "output_type": "stream",
     "text": [
      "['b', 'c', 'a', 'b', 'c']\n"
     ]
    }
   ],
   "source": [
    "letters = ['a', 'b', 'c', 'a', 'b', 'c']\n",
    "letters.remove('a')\n",
    "\n",
    "print(letters)"
   ]
  },
  {
   "cell_type": "markdown",
   "metadata": {
    "id": "XhX5JcDpHw-L"
   },
   "source": [
    "В программировании есть классная концепция, называемая \"извлечение\" элементов из коллекции. В каждом языке программирования есть какая-то структура данных, похожая на списки Python. Все эти структуры можно использовать в качестве очередей, и существуют различные способы обработки элементов в очереди.\n",
    "\n",
    "Один простой подход — начать с пустого списка, а затем добавить элементы в этот список. Когда вы хотите работать с элементами в списке, вы всегда берете последний элемент из списка, что-то делаете с ним, а затем удаляете этот элемент. Функция pop() упрощает эту задачу. Он удаляет последний элемент из списка и отдает его нам, чтобы мы могли с ним работать."
   ]
  },
  {
   "cell_type": "code",
   "execution_count": null,
   "metadata": {
    "colab": {
     "base_uri": "https://localhost:8080/"
    },
    "executionInfo": {
     "elapsed": 267,
     "status": "ok",
     "timestamp": 1662288610196,
     "user": {
      "displayName": "Anastasia Moshkova",
      "userId": "17895988911170149439"
     },
     "user_tz": -180
    },
    "id": "FGwlW74KHmIe",
    "outputId": "dab7d4ea-c571-4789-990f-083d39282898"
   },
   "outputs": [
    {
     "name": "stdout",
     "output_type": "stream",
     "text": [
      "labrador retriever\n",
      "['border collie', 'australian cattle dog']\n"
     ]
    }
   ],
   "source": [
    "dogs = ['border collie', 'australian cattle dog', 'labrador retriever']\n",
    "last_dog = dogs.pop()\n",
    "\n",
    "print(last_dog)\n",
    "print(dogs)"
   ]
  },
  {
   "cell_type": "markdown",
   "metadata": {
    "id": "T9qOHIjzH9Fq"
   },
   "source": [
    "На самом деле вы можете извлечь из списка любой элемент, который хотите, указав индекс элемента, который вы хотите извлечь. Таким образом, мы могли бы использовать подход «первым пришел — первым вышел», вытащив первый элемент из списка:"
   ]
  },
  {
   "cell_type": "code",
   "execution_count": null,
   "metadata": {
    "colab": {
     "base_uri": "https://localhost:8080/"
    },
    "executionInfo": {
     "elapsed": 290,
     "status": "ok",
     "timestamp": 1662288655415,
     "user": {
      "displayName": "Anastasia Moshkova",
      "userId": "17895988911170149439"
     },
     "user_tz": -180
    },
    "id": "Pdkxi7TJH024",
    "outputId": "661937f1-22a2-42a8-b995-92973183e714"
   },
   "outputs": [
    {
     "name": "stdout",
     "output_type": "stream",
     "text": [
      "border collie\n",
      "['australian cattle dog', 'labrador retriever']\n"
     ]
    }
   ],
   "source": [
    "dogs = ['border collie', 'australian cattle dog', 'labrador retriever']\n",
    "first_dog = dogs.pop(0)\n",
    "\n",
    "print(first_dog)\n",
    "print(dogs)"
   ]
  },
  {
   "cell_type": "markdown",
   "metadata": {
    "id": "n9V1vDAAIMLz"
   },
   "source": [
    "Срезы"
   ]
  },
  {
   "cell_type": "code",
   "execution_count": null,
   "metadata": {
    "colab": {
     "base_uri": "https://localhost:8080/"
    },
    "executionInfo": {
     "elapsed": 276,
     "status": "ok",
     "timestamp": 1662288715540,
     "user": {
      "displayName": "Anastasia Moshkova",
      "userId": "17895988911170149439"
     },
     "user_tz": -180
    },
    "id": "It8Gl1wZINF2",
    "outputId": "41aaad85-739b-4f8d-858e-6504105bdb9d"
   },
   "outputs": [
    {
     "name": "stdout",
     "output_type": "stream",
     "text": [
      "Bernice\n",
      "Cody\n",
      "Aaron\n"
     ]
    }
   ],
   "source": [
    "usernames = ['bernice', 'cody', 'aaron', 'ever', 'dalia']\n",
    "\n",
    "# Grab the first three users in the list.\n",
    "first_batch = usernames[0:3]\n",
    "\n",
    "for user in first_batch:\n",
    "    print(user.title())"
   ]
  },
  {
   "cell_type": "markdown",
   "metadata": {
    "id": "zGaa-R_EIYH6"
   },
   "source": [
    "Копирование"
   ]
  },
  {
   "cell_type": "code",
   "execution_count": null,
   "metadata": {
    "colab": {
     "base_uri": "https://localhost:8080/"
    },
    "executionInfo": {
     "elapsed": 279,
     "status": "ok",
     "timestamp": 1662288816898,
     "user": {
      "displayName": "Anastasia Moshkova",
      "userId": "17895988911170149439"
     },
     "user_tz": -180
    },
    "id": "MMA1RxvUIZWU",
    "outputId": "f818f6f2-10c3-4af4-ced4-7f75ce4fe37c"
   },
   "outputs": [
    {
     "name": "stdout",
     "output_type": "stream",
     "text": [
      "Скопированный лист:\n",
      "\t ['bernice', 'cody', 'aaron', 'ever', 'dalia']\n",
      "\n",
      "Лист после удаления элементов:\n",
      "\t ['aaron', 'ever', 'dalia']\n",
      "\n",
      "Исходный лист:\n",
      "\t ['bernice', 'cody', 'aaron', 'ever', 'dalia']\n"
     ]
    }
   ],
   "source": [
    "usernames = ['bernice', 'cody', 'aaron', 'ever', 'dalia']\n",
    "\n",
    "copied_usernames = usernames[:]\n",
    "print(\"Скопированный лист:\\n\\t\", copied_usernames)\n",
    "\n",
    "del copied_usernames[0]\n",
    "del copied_usernames[0]\n",
    "print(\"\\nЛист после удаления элементов:\\n\\t\", copied_usernames)\n",
    "\n",
    "print(\"\\nИсходный лист:\\n\\t\", usernames)"
   ]
  },
  {
   "cell_type": "markdown",
   "metadata": {
    "id": "gSYP6aShIvBL"
   },
   "source": [
    "range()"
   ]
  },
  {
   "cell_type": "code",
   "execution_count": null,
   "metadata": {
    "colab": {
     "base_uri": "https://localhost:8080/"
    },
    "executionInfo": {
     "elapsed": 267,
     "status": "ok",
     "timestamp": 1662288864363,
     "user": {
      "displayName": "Anastasia Moshkova",
      "userId": "17895988911170149439"
     },
     "user_tz": -180
    },
    "id": "DiTXKCl7Ixco",
    "outputId": "c6e9cd9e-7ccc-45be-ec8d-d9a7a9391600"
   },
   "outputs": [
    {
     "name": "stdout",
     "output_type": "stream",
     "text": [
      "[1, 2, 3, 4, 5, 6, 7, 8, 9, 10]\n"
     ]
    }
   ],
   "source": [
    "numbers = list(range(1,11))\n",
    "print(numbers)"
   ]
  },
  {
   "cell_type": "markdown",
   "metadata": {
    "id": "YMxeSjyAI2YM"
   },
   "source": [
    "min(), max(), sum()"
   ]
  },
  {
   "cell_type": "code",
   "execution_count": null,
   "metadata": {
    "colab": {
     "base_uri": "https://localhost:8080/"
    },
    "executionInfo": {
     "elapsed": 7,
     "status": "ok",
     "timestamp": 1662288897396,
     "user": {
      "displayName": "Anastasia Moshkova",
      "userId": "17895988911170149439"
     },
     "user_tz": -180
    },
    "id": "pW00nT5LI32k",
    "outputId": "07a6b23c-c9c9-4461-e084-eae568b025b3"
   },
   "outputs": [
    {
     "name": "stdout",
     "output_type": "stream",
     "text": [
      "Our youngest reader is 11 years old.\n",
      "Our oldest reader is 38 years old.\n",
      "Together, we have 149 years worth of life experience.\n"
     ]
    }
   ],
   "source": [
    "ages = [23, 16, 14, 28, 19, 11, 38]\n",
    "\n",
    "youngest = min(ages)\n",
    "oldest = max(ages)\n",
    "total_years = sum(ages)\n",
    "\n",
    "print(\"Our youngest reader is \" + str(youngest) + \" years old.\")\n",
    "print(\"Our oldest reader is \" + str(oldest) + \" years old.\")\n",
    "print(\"Together, we have \" + str(total_years) +\n",
    "      \" years worth of life experience.\")"
   ]
  },
  {
   "cell_type": "markdown",
   "metadata": {
    "id": "p1j5XxnRJE5u"
   },
   "source": [
    "Циклы"
   ]
  },
  {
   "cell_type": "code",
   "execution_count": null,
   "metadata": {
    "colab": {
     "base_uri": "https://localhost:8080/"
    },
    "executionInfo": {
     "elapsed": 10,
     "status": "ok",
     "timestamp": 1662288986091,
     "user": {
      "displayName": "Anastasia Moshkova",
      "userId": "17895988911170149439"
     },
     "user_tz": -180
    },
    "id": "JNTUaFBWJEP_",
    "outputId": "d38c4f2c-7402-4043-9172-87a687d30b13"
   },
   "outputs": [
    {
     "name": "stdout",
     "output_type": "stream",
     "text": [
      "1\n",
      "4\n",
      "9\n",
      "16\n",
      "25\n",
      "36\n",
      "49\n",
      "64\n",
      "81\n",
      "100\n"
     ]
    }
   ],
   "source": [
    "squares = []\n",
    "\n",
    "for number in range(1,11):\n",
    "    new_square = number**2\n",
    "    squares.append(new_square)\n",
    "\n",
    "for square in squares:\n",
    "    print(square)"
   ]
  },
  {
   "cell_type": "code",
   "execution_count": null,
   "metadata": {
    "colab": {
     "base_uri": "https://localhost:8080/"
    },
    "executionInfo": {
     "elapsed": 324,
     "status": "ok",
     "timestamp": 1662288984790,
     "user": {
      "displayName": "Anastasia Moshkova",
      "userId": "17895988911170149439"
     },
     "user_tz": -180
    },
    "id": "DzvnxAHiJKvW",
    "outputId": "10f579a3-8733-4525-e89a-ac14fef1cdd3"
   },
   "outputs": [
    {
     "name": "stdout",
     "output_type": "stream",
     "text": [
      "1\n",
      "4\n",
      "9\n",
      "16\n",
      "25\n",
      "36\n",
      "49\n",
      "64\n",
      "81\n",
      "100\n"
     ]
    }
   ],
   "source": [
    "squares = [number**2 for number in range(1,11)]\n",
    "\n",
    "for square in squares:\n",
    "    print(square)"
   ]
  },
  {
   "cell_type": "markdown",
   "metadata": {
    "id": "2yKXq_phR951"
   },
   "source": [
    "#Кортежи"
   ]
  },
  {
   "cell_type": "markdown",
   "metadata": {
    "id": "2d_DT2rbJ5R1"
   },
   "source": [
    "Внешне кортежи несильно отличаются от списков. Единственное внешнее отличие ‒ элементы кортежа заключаются в круглые, а не в квадратные скобки."
   ]
  },
  {
   "cell_type": "code",
   "execution_count": null,
   "metadata": {
    "id": "mNNTQ4-tJ5R6"
   },
   "outputs": [],
   "source": [
    "my_tuple = (1, 2, 4, 6, 9)"
   ]
  },
  {
   "cell_type": "markdown",
   "metadata": {
    "id": "lSl6O3U5J5SB"
   },
   "source": [
    "К элементам кортежа можно обращаться точно так же, как к элементам списка:"
   ]
  },
  {
   "cell_type": "code",
   "execution_count": null,
   "metadata": {
    "id": "2rFmUsYVJ5SD",
    "outputId": "4d3cdeab-eb71-47c2-cca6-c9463376d7b6"
   },
   "outputs": [
    {
     "data": {
      "text/plain": [
       "1"
      ]
     },
     "execution_count": 2,
     "metadata": {},
     "output_type": "execute_result"
    }
   ],
   "source": [
    "my_tuple[0]"
   ]
  },
  {
   "cell_type": "markdown",
   "metadata": {
    "id": "YKFgkc7ZJ5SI"
   },
   "source": [
    "Но, несмотря на кажущееся сходство, кортежи и списки – принципиально разные объекты. Главное отличие кортежей от списков заключается в том, что кортежи – неизменяемые структуры данных. Другими словами, изменять элементы кортежа нельзя. Проверим:"
   ]
  },
  {
   "cell_type": "code",
   "execution_count": null,
   "metadata": {
    "id": "LH84ZpYvJ5SL",
    "outputId": "4b613185-cbe5-4035-d28d-6d32fdeed3a2"
   },
   "outputs": [
    {
     "ename": "TypeError",
     "evalue": "'tuple' object does not support item assignment",
     "output_type": "error",
     "traceback": [
      "\u001b[0;31m---------------------------------------------------------------------------\u001b[0m",
      "\u001b[0;31mTypeError\u001b[0m                                 Traceback (most recent call last)",
      "\u001b[0;32m<ipython-input-3-a0083389ad43>\u001b[0m in \u001b[0;36m<module>\u001b[0;34m()\u001b[0m\n\u001b[0;32m----> 1\u001b[0;31m \u001b[0mmy_tuple\u001b[0m\u001b[0;34m[\u001b[0m\u001b[0;36m2\u001b[0m\u001b[0;34m]\u001b[0m \u001b[0;34m=\u001b[0m \u001b[0;36m65\u001b[0m\u001b[0;34m\u001b[0m\u001b[0m\n\u001b[0m",
      "\u001b[0;31mTypeError\u001b[0m: 'tuple' object does not support item assignment"
     ]
    }
   ],
   "source": [
    "my_tuple[2] = 65"
   ]
  },
  {
   "cell_type": "markdown",
   "metadata": {
    "id": "UdkWsVsiJ5SQ"
   },
   "source": [
    "Иногда это свойство бывает полезным (некоторая «защита» от изменений), многие функции могут возвращать результат или, наоборот, принимать на вход только кортежи или только списки."
   ]
  },
  {
   "cell_type": "markdown",
   "metadata": {
    "id": "qKiGlbQZJ5ST"
   },
   "source": [
    "При желании кортеж можно превратить в список:"
   ]
  },
  {
   "cell_type": "code",
   "execution_count": null,
   "metadata": {
    "id": "pY72xyriJ5SX",
    "outputId": "1feeb6b9-d130-4934-f856-ad8ab5a7486a"
   },
   "outputs": [
    {
     "data": {
      "text/plain": [
       "[1, 2, 4, 6, 9]"
      ]
     },
     "execution_count": 4,
     "metadata": {},
     "output_type": "execute_result"
    }
   ],
   "source": [
    "list(my_tuple)"
   ]
  },
  {
   "cell_type": "markdown",
   "metadata": {
    "id": "exDaQ0_TJ5Sa"
   },
   "source": [
    "И наоборот:"
   ]
  },
  {
   "cell_type": "code",
   "execution_count": null,
   "metadata": {
    "id": "LjhrWuMsJ5Sc",
    "outputId": "2c6811e4-d84d-4bfc-aac2-c6765c1e4713"
   },
   "outputs": [
    {
     "data": {
      "text/plain": [
       "(1, 2, 3)"
      ]
     },
     "execution_count": 5,
     "metadata": {},
     "output_type": "execute_result"
    }
   ],
   "source": [
    "tuple([1,2,3])"
   ]
  },
  {
   "cell_type": "markdown",
   "metadata": {
    "id": "iMl8yo2zSHWx"
   },
   "source": [
    "#Множества"
   ]
  },
  {
   "cell_type": "markdown",
   "metadata": {
    "id": "Q4WBqTqCKfFe"
   },
   "source": [
    "Иногда возникает необходимость проверять разные отношения между двумя наборами элементов. Например, проверить, есть ли у двух списков общие элементы. Для этого можно воспользоваться уже известным оператором `in`:"
   ]
  },
  {
   "cell_type": "code",
   "execution_count": 33,
   "metadata": {
    "colab": {
     "base_uri": "https://localhost:8080/"
    },
    "executionInfo": {
     "elapsed": 5,
     "status": "ok",
     "timestamp": 1694862315535,
     "user": {
      "displayName": "Anastasia Moshkova",
      "userId": "17895988911170149439"
     },
     "user_tz": -180
    },
    "id": "P3KWlxmfqmVY",
    "outputId": "3d3d57f0-c2a7-40c3-dab0-daa078cba355"
   },
   "outputs": [
    {
     "data": {
      "text/plain": [
       "set()"
      ]
     },
     "execution_count": 33,
     "metadata": {},
     "output_type": "execute_result"
    }
   ],
   "source": [
    "a = set()\n",
    "a ={1,2,3}"
   ]
  },
  {
   "cell_type": "code",
   "execution_count": null,
   "metadata": {
    "id": "wibXHTfhKfFg"
   },
   "outputs": [],
   "source": [
    "L1 = [1, 3, 4]\n",
    "L2 = [1, 4, 5, 6]"
   ]
  },
  {
   "cell_type": "code",
   "execution_count": null,
   "metadata": {
    "id": "ZMUtJmaLKfFk",
    "outputId": "84f408f7-0ba9-49ba-ba64-3e0856e2c3f3"
   },
   "outputs": [
    {
     "name": "stdout",
     "output_type": "stream",
     "text": [
      "1\n",
      "4\n"
     ]
    }
   ],
   "source": [
    "for i in L2:\n",
    "    if i in L1:\n",
    "        print(i)"
   ]
  },
  {
   "cell_type": "markdown",
   "metadata": {
    "id": "a2A4zQurKfFo"
   },
   "source": [
    "Но иногда удобно превратить списки в множества (`sets`) и выполнять операции, которые определены для множеств в математике: пересечение, объединение, разность и так далее."
   ]
  },
  {
   "cell_type": "code",
   "execution_count": null,
   "metadata": {
    "id": "YQCS9rogKfFq",
    "outputId": "6ec0bdd5-49d8-4fe2-ac36-e0df1b5386f0"
   },
   "outputs": [
    {
     "data": {
      "text/plain": [
       "set()"
      ]
     },
     "execution_count": 3,
     "metadata": {},
     "output_type": "execute_result"
    }
   ],
   "source": [
    "set()  # пустое множество"
   ]
  },
  {
   "cell_type": "code",
   "execution_count": 35,
   "metadata": {
    "colab": {
     "base_uri": "https://localhost:8080/"
    },
    "executionInfo": {
     "elapsed": 10,
     "status": "ok",
     "timestamp": 1694862397828,
     "user": {
      "displayName": "Anastasia Moshkova",
      "userId": "17895988911170149439"
     },
     "user_tz": -180
    },
    "id": "dK2QmYhiKfFr",
    "outputId": "94ef5a23-0133-468d-b503-5ad9d4c029a2"
   },
   "outputs": [
    {
     "data": {
      "text/plain": [
       "{1, 2, 6}"
      ]
     },
     "execution_count": 35,
     "metadata": {},
     "output_type": "execute_result"
    }
   ],
   "source": [
    "set([1, 2, 6, 2])  # множество, полученное из списка"
   ]
  },
  {
   "cell_type": "markdown",
   "metadata": {
    "id": "G0wFr-6wKfFt"
   },
   "source": [
    "Важно иметь в виду, что в множествах (как в программировании, так и в математике) не может быть повторяющихся элементов. Поэтому, если в списке есть повторяющиеся значения, и они важны, превращать спискок в множество не стоит, так как можно потерять элементы."
   ]
  },
  {
   "cell_type": "code",
   "execution_count": null,
   "metadata": {
    "id": "sccGag6HKfFu",
    "outputId": "5f34baa6-e136-4c9f-85d4-c9a7a27352f1"
   },
   "outputs": [
    {
     "data": {
      "text/plain": [
       "{1, 2, 6}"
      ]
     },
     "execution_count": 5,
     "metadata": {},
     "output_type": "execute_result"
    }
   ],
   "source": [
    "set([1, 2, 6, 6, 1, 2])  # потеряли повторы"
   ]
  },
  {
   "cell_type": "markdown",
   "metadata": {
    "id": "zHCqpfc9KfFx"
   },
   "source": [
    "Но зато с помощью множеств можно получить список уникальных элементов списка:"
   ]
  },
  {
   "cell_type": "code",
   "execution_count": 36,
   "metadata": {
    "colab": {
     "base_uri": "https://localhost:8080/"
    },
    "executionInfo": {
     "elapsed": 11,
     "status": "ok",
     "timestamp": 1694862406899,
     "user": {
      "displayName": "Anastasia Moshkova",
      "userId": "17895988911170149439"
     },
     "user_tz": -180
    },
    "id": "2GmCaIKUKfFz",
    "outputId": "486bf306-d6d8-4d2d-e81d-56de6b768f30"
   },
   "outputs": [
    {
     "data": {
      "text/plain": [
       "[1, 2, 6]"
      ]
     },
     "execution_count": 36,
     "metadata": {},
     "output_type": "execute_result"
    }
   ],
   "source": [
    "list(set([1, 2, 6, 6, 1, 2]))"
   ]
  },
  {
   "cell_type": "markdown",
   "metadata": {
    "id": "CnpzkADhKfF0"
   },
   "source": [
    "А теперь превратим два числовых списка в множества A и B и попробуем произвести некоторые операции."
   ]
  },
  {
   "cell_type": "code",
   "execution_count": 37,
   "metadata": {
    "executionInfo": {
     "elapsed": 410,
     "status": "ok",
     "timestamp": 1694862413931,
     "user": {
      "displayName": "Anastasia Moshkova",
      "userId": "17895988911170149439"
     },
     "user_tz": -180
    },
    "id": "tl7PH8zjKfF1"
   },
   "outputs": [],
   "source": [
    "A = set([1, 2, 4, 6])\n",
    "B = set([2, 3, 6, 8])"
   ]
  },
  {
   "cell_type": "markdown",
   "metadata": {
    "id": "RIg4iF_0KfF3"
   },
   "source": [
    "Пересечение множеств A и B – общие элементы этих двух множеств ($A \\cap B$):"
   ]
  },
  {
   "cell_type": "code",
   "execution_count": 38,
   "metadata": {
    "colab": {
     "base_uri": "https://localhost:8080/"
    },
    "executionInfo": {
     "elapsed": 274,
     "status": "ok",
     "timestamp": 1694862416410,
     "user": {
      "displayName": "Anastasia Moshkova",
      "userId": "17895988911170149439"
     },
     "user_tz": -180
    },
    "id": "qEYfSHfeKfF3",
    "outputId": "46a0561f-2d66-4a58-ff68-9e41fe742e09"
   },
   "outputs": [
    {
     "data": {
      "text/plain": [
       "{2, 6}"
      ]
     },
     "execution_count": 38,
     "metadata": {},
     "output_type": "execute_result"
    }
   ],
   "source": [
    "A.intersection(B)"
   ]
  },
  {
   "cell_type": "markdown",
   "metadata": {
    "id": "g-Yfd55zKfF4"
   },
   "source": [
    "Объединение множеств A и B – все элементы множества A и множества B, конечно, без повторений ($A \\cup B$):"
   ]
  },
  {
   "cell_type": "code",
   "execution_count": 39,
   "metadata": {
    "colab": {
     "base_uri": "https://localhost:8080/"
    },
    "executionInfo": {
     "elapsed": 294,
     "status": "ok",
     "timestamp": 1694862448413,
     "user": {
      "displayName": "Anastasia Moshkova",
      "userId": "17895988911170149439"
     },
     "user_tz": -180
    },
    "id": "oZ-UijoGKfF6",
    "outputId": "a1556611-c0f2-478a-8851-6397913ede45"
   },
   "outputs": [
    {
     "data": {
      "text/plain": [
       "{1, 2, 3, 4, 6, 8}"
      ]
     },
     "execution_count": 39,
     "metadata": {},
     "output_type": "execute_result"
    }
   ],
   "source": [
    "A.union(B)"
   ]
  },
  {
   "cell_type": "markdown",
   "metadata": {
    "id": "330ne2J4KfF7"
   },
   "source": [
    "Разность множеств A и B – все элементы множества A, которых нет в B ($A\\text{\\\\}B$)."
   ]
  },
  {
   "cell_type": "code",
   "execution_count": null,
   "metadata": {
    "id": "hJzO6iDYKfF9",
    "outputId": "5ef91ca1-517e-4aca-97be-905aaf421bf7"
   },
   "outputs": [
    {
     "data": {
      "text/plain": [
       "{1, 4}"
      ]
     },
     "execution_count": 10,
     "metadata": {},
     "output_type": "execute_result"
    }
   ],
   "source": [
    "A.difference(B)"
   ]
  },
  {
   "cell_type": "markdown",
   "metadata": {
    "id": "fDT3ol24KfF-"
   },
   "source": [
    "Разность множеств B и A – все элементы множества B, которых нет в A ($B\\text{\\\\}A$)."
   ]
  },
  {
   "cell_type": "code",
   "execution_count": null,
   "metadata": {
    "id": "UhIqiImPKfF_",
    "outputId": "00fca535-938f-4fb9-bc10-eeb5c6ddf623"
   },
   "outputs": [
    {
     "data": {
      "text/plain": [
       "{3, 8}"
      ]
     },
     "execution_count": 11,
     "metadata": {},
     "output_type": "execute_result"
    }
   ],
   "source": [
    "B.difference(A)"
   ]
  },
  {
   "cell_type": "markdown",
   "metadata": {
    "id": "M1D3DsSFKfGA"
   },
   "source": [
    "Симметрическая разность множеств A и B – все элементы А и B, которые не входят в пересечение этих множеств:"
   ]
  },
  {
   "cell_type": "code",
   "execution_count": null,
   "metadata": {
    "id": "5PipnQVsKfGB",
    "outputId": "db439e6a-4f06-4748-f86e-db8cc4fc0844"
   },
   "outputs": [
    {
     "data": {
      "text/plain": [
       "{1, 3, 4, 8}"
      ]
     },
     "execution_count": 12,
     "metadata": {},
     "output_type": "execute_result"
    }
   ],
   "source": [
    "A.symmetric_difference(B)"
   ]
  },
  {
   "cell_type": "markdown",
   "metadata": {
    "id": "VsCaNR9vKfGC"
   },
   "source": [
    "Обратите внимание: результат, полученный после использования методов для множеств, тоже является множеством – элементы перечислены в фигурных скобках. Но при желании результат можно превратить в список:"
   ]
  },
  {
   "cell_type": "code",
   "execution_count": null,
   "metadata": {
    "id": "itQp95O8KfGD",
    "outputId": "308d0448-cd05-43c6-a8fe-465c2277b610"
   },
   "outputs": [
    {
     "data": {
      "text/plain": [
       "[1, 3, 4, 8]"
      ]
     },
     "execution_count": 13,
     "metadata": {},
     "output_type": "execute_result"
    }
   ],
   "source": [
    "list(A.symmetric_difference(B))"
   ]
  },
  {
   "cell_type": "markdown",
   "metadata": {
    "id": "xBpb4YsnKfGD"
   },
   "source": [
    "На множествах определены особые методы, которые облегчают сравнение наборов элементов. Например, можно проверить, являются ли множества A и B непересекающимися (не имеющими общих элементов):"
   ]
  },
  {
   "cell_type": "code",
   "execution_count": null,
   "metadata": {
    "id": "BmTTk_qvKfGE",
    "outputId": "1a5c065f-6503-46e3-a2ea-9bab879794a1"
   },
   "outputs": [
    {
     "data": {
      "text/plain": [
       "False"
      ]
     },
     "execution_count": 14,
     "metadata": {},
     "output_type": "execute_result"
    }
   ],
   "source": [
    "A.isdisjoint(B)  # joint - пересекающиеся, disjoint - непересекающиеся"
   ]
  },
  {
   "cell_type": "markdown",
   "metadata": {
    "id": "V8MzeZOjKfGF"
   },
   "source": [
    "Или проверить, является ли множество A подмножеством B (все элементы A входят в B):"
   ]
  },
  {
   "cell_type": "code",
   "execution_count": null,
   "metadata": {
    "id": "wPAQiu2mKfGF",
    "outputId": "163857cd-68d0-46a7-84f8-704fd14edb4e"
   },
   "outputs": [
    {
     "data": {
      "text/plain": [
       "False"
      ]
     },
     "execution_count": 15,
     "metadata": {},
     "output_type": "execute_result"
    }
   ],
   "source": [
    "A.issubset(B)"
   ]
  },
  {
   "cell_type": "markdown",
   "metadata": {
    "id": "Ej95_FdRKfGG"
   },
   "source": [
    "Множество в Python, наверное, не такой распространенный объект как список, кортеж или словарь, но знать о них полезно, потому что в некоторых задачах использовать методы для множеств гораздо эффективнее, чем писать какие-то циклы с разными условиями."
   ]
  },
  {
   "cell_type": "code",
   "execution_count": 41,
   "metadata": {
    "colab": {
     "base_uri": "https://localhost:8080/"
    },
    "executionInfo": {
     "elapsed": 283,
     "status": "ok",
     "timestamp": 1694862577932,
     "user": {
      "displayName": "Anastasia Moshkova",
      "userId": "17895988911170149439"
     },
     "user_tz": -180
    },
    "id": "nS3F2txxrRYd",
    "outputId": "b47974a5-20ae-438a-e408-868b7a7c28c2"
   },
   "outputs": [
    {
     "data": {
      "text/plain": [
       "{8}"
      ]
     },
     "execution_count": 41,
     "metadata": {},
     "output_type": "execute_result"
    }
   ],
   "source": [
    "a = [[1,2,3], [3, 4,5], [5, 6 ,7]]\n",
    "B.difference(*a)"
   ]
  },
  {
   "cell_type": "markdown",
   "metadata": {
    "id": "j6i25-JfYftk"
   },
   "source": [
    "#Задачи для решения на семинаре"
   ]
  },
  {
   "cell_type": "markdown",
   "metadata": {
    "id": "QCjuAaIF0G6N"
   },
   "source": [
    "1. Проверить является ли строка палиндромом.\n",
    "2. Записать слова строки в алфавитном порядке.\n",
    "3. Дан одномерный массив числовых значений, насчитывающий N элементов. После каждого отрицательного элемента вставить новый элемент, равный квадрату этого отрицательного элемента.\n",
    "4. Написать функцию суммирования целых чисел в заданнном диапазоне. Если первое число больше чем второе, то поменять их местами.\n",
    "5. Вывести количестов уникальных символов в предложении.\n",
    "6. Есть 2 множества. Вывести уникальные элементы, присущие каждому из множеств.\n"
   ]
  },
  {
   "cell_type": "code",
   "execution_count": null,
   "metadata": {
    "id": "dIx0rfJlyv9q"
   },
   "outputs": [],
   "source": []
  }
 ],
 "metadata": {
  "colab": {
   "authorship_tag": "ABX9TyN7guHNf+O0fP0XZaN2ikgo",
   "collapsed_sections": [
    "wcnNOAcagP1W",
    "l9vswDg7jjxG",
    "opHm8cz0l6yx"
   ],
   "provenance": []
  },
  "kernelspec": {
   "display_name": "Python 3 (ipykernel)",
   "language": "python",
   "name": "python3"
  },
  "language_info": {
   "codemirror_mode": {
    "name": "ipython",
    "version": 3
   },
   "file_extension": ".py",
   "mimetype": "text/x-python",
   "name": "python",
   "nbconvert_exporter": "python",
   "pygments_lexer": "ipython3",
   "version": "3.10.11"
  }
 },
 "nbformat": 4,
 "nbformat_minor": 4
}
