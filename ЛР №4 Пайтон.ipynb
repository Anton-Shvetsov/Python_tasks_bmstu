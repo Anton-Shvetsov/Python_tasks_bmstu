{
 "cells": [
  {
   "cell_type": "markdown",
   "metadata": {
    "id": "lhLob9zN-iVt"
   },
   "source": [
    "#ЛР №4\n",
    "\n",
    "Словари. Работа с файлами."
   ]
  },
  {
   "cell_type": "markdown",
   "metadata": {
    "id": "-5EeVmGm-x2f"
   },
   "source": [
    "###Словари"
   ]
  },
  {
   "cell_type": "markdown",
   "metadata": {},
   "source": []
  },
  {
   "cell_type": "markdown",
   "metadata": {
    "id": "BG-CA7iE-LIG"
   },
   "source": [
    "**Задача 1**\n"
   ]
  },
  {
   "cell_type": "code",
   "execution_count": 1,
   "metadata": {
    "id": "GitAOGilDkMX"
   },
   "outputs": [],
   "source": [
    "rept = {\"python\" : \"питон\", \"anaconda\" : \"анаконда\", \"tortoize\" : \"черепаха\" }"
   ]
  },
  {
   "cell_type": "markdown",
   "metadata": {
    "id": "3sUcwVtFDkMY"
   },
   "source": [
    "* Добавьте в словарь пару \"snake\" - \" змея\".\n",
    "* Исправьте ключ \"tortoize\" на правильный \"tortoise\".\n",
    "* Выведите на экран сообщения вида\n",
    "\n",
    "    питон по-английски будет python;\n",
    "\n",
    "для всех слов в словаре (сообщение для каждого слова ‒ с новой строчки)."
   ]
  },
  {
   "cell_type": "code",
   "execution_count": 2,
   "metadata": {},
   "outputs": [
    {
     "name": "stdout",
     "output_type": "stream",
     "text": [
      "питон по английски будет python\n",
      "анаконда по английски будет anaconda\n",
      "змея по английски будет snake\n",
      "черепаха по английски будет tortoise\n"
     ]
    }
   ],
   "source": [
    "rept['snake'] = 'змея'\n",
    "rept['tortoise'] = rept['tortoize']\n",
    "del rept['tortoize']\n",
    "for i,x in rept.items():\n",
    "    print(f'{x} по английски будет {i}')"
   ]
  },
  {
   "cell_type": "markdown",
   "metadata": {
    "id": "O1XyysKvkx0y"
   },
   "source": [
    "**Задача 2**\n"
   ]
  },
  {
   "cell_type": "markdown",
   "metadata": {
    "id": "ToKcmGBUD7ur"
   },
   "source": [
    "В списке cnt хранятся названия стран, а в списке fh ‒ значения индекса Freedom House для этих стран. Создайте словарь, используя в качестве ключей названия стран, а в качестве значений ‒ значения индекса."
   ]
  },
  {
   "cell_type": "code",
   "execution_count": 3,
   "metadata": {
    "id": "2Ivk3o3tD_2b"
   },
   "outputs": [],
   "source": [
    "cnt = [\"Andorra\", \"Belarus\", \"Denmark\", \"Kenya\", \"Jamaica\", \"Romania\"]\n",
    "fh = [1.0, 6.0, 1.0, 4.0, 2.5, 2.0]"
   ]
  },
  {
   "cell_type": "code",
   "execution_count": 4,
   "metadata": {},
   "outputs": [],
   "source": [
    "dictionary = {}\n",
    "for key,value in zip(cnt,fh):\n",
    "    dictionary[key] = value"
   ]
  },
  {
   "cell_type": "markdown",
   "metadata": {
    "id": "RwoDKLpSxQS1"
   },
   "source": [
    "**Задача 3**\n",
    "\n",
    "\n",
    "Напишите функцию, которая принимает на вход два списка (имена людей и их возраст) и делает следующее:\n",
    "\n",
    "* если эти два списка имеют одинаковую длину, то возвращает словарь с парами имя-возраст;\n",
    "\n",
    "* если эти два списка имеют разную длину, то функция выводит на экран сообщение \"Списки имеют разную длину\" и возвращает пустой словарь.\n",
    "\n",
    "**Пример:**\n",
    "\n",
    "*Входные данные:*\n",
    "\n",
    "    [\"Ann\", \"Tim\", \"Sam\"]\n",
    "    [12, 23, 17]\n",
    "\n",
    "*Выходные данные:*\n",
    "\n",
    "    {\"Ann\": 12, \"Tim\": 23, \"Sam\": 17}\n",
    "\n",
    "*Входные данные:*\n",
    "\n",
    "    [\"Ann\", \"Tim\", \"Sam\"]\n",
    "    [12, 23, 17, 45]\n",
    "\n",
    "*Выходные данные:*\n",
    "    \n",
    "    Списки имеют разную длину\n",
    "    {}"
   ]
  },
  {
   "cell_type": "code",
   "execution_count": 5,
   "metadata": {},
   "outputs": [],
   "source": [
    "def create_dict(keys,values):\n",
    "    dictionary = {}\n",
    "    if len(keys) == len(values):\n",
    "        for key, value in zip(keys,values):\n",
    "            dictionary[key] = value\n",
    "    else:\n",
    "        print('Списки имеют разную длину')\n",
    "    return dictionary"
   ]
  },
  {
   "cell_type": "code",
   "execution_count": 6,
   "metadata": {},
   "outputs": [
    {
     "data": {
      "text/plain": [
       "{'Ann': 12, 'Tim': 23, 'Sam': 17}"
      ]
     },
     "execution_count": 6,
     "metadata": {},
     "output_type": "execute_result"
    }
   ],
   "source": [
    "create_dict([\"Ann\", \"Tim\", \"Sam\"],[12, 23, 17])"
   ]
  },
  {
   "cell_type": "code",
   "execution_count": 7,
   "metadata": {},
   "outputs": [
    {
     "name": "stdout",
     "output_type": "stream",
     "text": [
      "Списки имеют разную длину\n"
     ]
    },
    {
     "data": {
      "text/plain": [
       "{}"
      ]
     },
     "execution_count": 7,
     "metadata": {},
     "output_type": "execute_result"
    }
   ],
   "source": [
    "create_dict([\"Ann\", \"Tim\", \"Sam\"],[12, 23, 17,45])"
   ]
  },
  {
   "cell_type": "markdown",
   "metadata": {
    "id": "hEk51uFc8Nwt"
   },
   "source": [
    "**Задача 4**\n"
   ]
  },
  {
   "cell_type": "markdown",
   "metadata": {
    "id": "XywnLQkxDuwV"
   },
   "source": [
    "Представим, что журнал оценок студентов по изучаемым дисциплинам - это вложенный словарь.\n",
    "\n",
    "Например, {'Ivanov': {'Math':4, 'Physics':5}, 'Sidorov': {'Java':5}}.\n",
    "\n",
    " Ключи журнала - список уникальных фамилий, значения - словарь, где ключ - это дисциплина, а значения - оценки по ним.\n",
    "\n",
    " Напишите функцию, которая вносит изменения в журнал.\n",
    "\n",
    " В качестве аргумента функции передается словарь вида: {'namе': 'Ivanov', 'subject': 'Python', 'mark':5}.\n",
    "\n",
    " Результат работы функции: {'Ivanov': {'Math':4, 'Physics':5, 'Python':5}, 'Sidorov': {'Java':5}}\n",
    "\n",
    " Если оценка по дисциплине уже существует и отличается от вносимой, необходимо изменить оценку в журнале и вывести сообщение - \"оценка изменена\".\n",
    "\n",
    " Если дисциплина оценка и дисциплина полностью совпадают с тем, что уже есть в журнале, то вевести сообщение \"оценка по дисциплине ______ уже существует\".\n"
   ]
  },
  {
   "cell_type": "code",
   "execution_count": 8,
   "metadata": {},
   "outputs": [],
   "source": [
    "dictionary = {'Ivanov': {'Math':4, 'Physics':5}, 'Sidorov': {'Java':5}}"
   ]
  },
  {
   "cell_type": "code",
   "execution_count": 9,
   "metadata": {},
   "outputs": [],
   "source": [
    "def modify_dict(dictionary,change):\n",
    "    if not dictionary.get(change['name']):\n",
    "        dictionary[change['name']] = {change['subject']:change['mark']}\n",
    "    elif not dictionary[change['name']].get(change['subject']):\n",
    "        dictionary[change['name']][change['subject']] = change['mark']\n",
    "    elif dictionary[change['name']][change['subject']] != change['mark']:\n",
    "        dictionary[change['name']][change['subject']] = change['mark']\n",
    "        print('оценка изменена')\n",
    "    else:\n",
    "        print(f'оценка по дисциплине {change[\"subject\"]} уже существует')\n",
    "    return dictionary"
   ]
  },
  {
   "cell_type": "code",
   "execution_count": 10,
   "metadata": {},
   "outputs": [
    {
     "data": {
      "text/plain": [
       "{'Ivanov': {'Math': 4, 'Physics': 5, 'Python': 5}, 'Sidorov': {'Java': 5}}"
      ]
     },
     "execution_count": 10,
     "metadata": {},
     "output_type": "execute_result"
    }
   ],
   "source": [
    "modify_dict(dictionary,{'name': 'Ivanov', 'subject': 'Python', 'mark':5})"
   ]
  },
  {
   "cell_type": "markdown",
   "metadata": {
    "id": "sYsOBH-r8MaQ"
   },
   "source": [
    "**Задача 5**\n"
   ]
  },
  {
   "cell_type": "markdown",
   "metadata": {
    "id": "sk3FDUQ5k6z-"
   },
   "source": [
    "Есть список товаров с указанием их количества в виде словаря: [{'product':'shirt', 'number':10}, {'product':'jeans', 'number':5}, {'product':'shuffle', 'number':4}]\n",
    "\n",
    "Вывести наименование товара с наибольшим количеством."
   ]
  },
  {
   "cell_type": "code",
   "execution_count": 11,
   "metadata": {},
   "outputs": [],
   "source": [
    "product_list = [{'product':'shirt', 'number':10}, {'product':'jeans', 'number':5}, {'product':'shuffle', 'number':4}]"
   ]
  },
  {
   "cell_type": "code",
   "execution_count": 12,
   "metadata": {},
   "outputs": [
    {
     "name": "stdout",
     "output_type": "stream",
     "text": [
      "shirt\n"
     ]
    }
   ],
   "source": [
    "max_number = 0; product_name = None\n",
    "for product in product_list:\n",
    "    if product['number'] > max_number:\n",
    "        max_number = product['number']\n",
    "        product_name = product['product']\n",
    "print(product_name)"
   ]
  },
  {
   "cell_type": "markdown",
   "metadata": {
    "id": "JBNMO47GEqUE"
   },
   "source": [
    "###Файлы\n"
   ]
  },
  {
   "cell_type": "markdown",
   "metadata": {
    "id": "9BzwyFbAFbPv"
   },
   "source": [
    " **Задача 6**\n",
    " 1. Загрузите txt файл с вашим ФИО на первой строчке на гугл диск или локально\n",
    " 2. Дополните файл строкой \"Ваш возраст: \", сохраните файл\n",
    " 3. Оформите код в виде функцию, где аргументы функции - путь к файлу и возраст"
   ]
  },
  {
   "cell_type": "code",
   "execution_count": 13,
   "metadata": {},
   "outputs": [],
   "source": [
    "def save_txt(path,age):\n",
    "    with open(path,'r') as f:\n",
    "        data = f.readlines()\n",
    "    data.append('\\n'+\"Ваш возраст: \" + str(age))\n",
    "    with open(path,'w') as f:\n",
    "        f.writelines(data)"
   ]
  }
 ],
 "metadata": {
  "colab": {
   "authorship_tag": "ABX9TyNpXWYlVPPtrmLuRpte3Mob",
   "provenance": []
  },
  "kernelspec": {
   "display_name": "base",
   "language": "python",
   "name": "python3"
  },
  "language_info": {
   "codemirror_mode": {
    "name": "ipython",
    "version": 3
   },
   "file_extension": ".py",
   "mimetype": "text/x-python",
   "name": "python",
   "nbconvert_exporter": "python",
   "pygments_lexer": "ipython3",
   "version": "3.11.5"
  }
 },
 "nbformat": 4,
 "nbformat_minor": 4
}
