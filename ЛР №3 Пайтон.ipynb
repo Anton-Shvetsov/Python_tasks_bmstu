{
 "cells": [
  {
   "cell_type": "markdown",
   "metadata": {
    "id": "lhLob9zN-iVt"
   },
   "source": [
    "# ЛР №3 Функции. Локальные и глобальные переменные. Передача аргументов. Строки. Списки. Кортежи. Множества."
   ]
  },
  {
   "cell_type": "markdown",
   "metadata": {},
   "source": [
    "*Выполнил: студент группы БМТ1-13М Швецов Антон*"
   ]
  },
  {
   "cell_type": "markdown",
   "metadata": {
    "id": "_ot7J5B7-lqU"
   },
   "source": [
    "###Строки"
   ]
  },
  {
   "cell_type": "markdown",
   "metadata": {
    "id": "sR3UwvJQ9Uvs"
   },
   "source": [
    "**Задача 1**\n",
    "\n",
    "Дана строка, содержащая русскоязычный текст. Найти количество слов, начинающихся с буквы \"е\"."
   ]
  },
  {
   "cell_type": "code",
   "execution_count": 1,
   "metadata": {},
   "outputs": [
    {
     "name": "stdout",
     "output_type": "stream",
     "text": [
      "2\n"
     ]
    }
   ],
   "source": [
    "string = list(input().split())\n",
    "print(sum(list(map(lambda i: i[0] == 'е',string))))\n",
    "#re"
   ]
  },
  {
   "cell_type": "markdown",
   "metadata": {
    "id": "eWHksfRo91M7"
   },
   "source": [
    "**Задача 2**\n",
    "\n",
    "Дана строка, заканчивающаяся точкой. Подсчитать, сколько слов в строке.\n",
    "\n"
   ]
  },
  {
   "cell_type": "code",
   "execution_count": 2,
   "metadata": {},
   "outputs": [
    {
     "name": "stdout",
     "output_type": "stream",
     "text": [
      "4\n"
     ]
    }
   ],
   "source": [
    "print(len(list(input().split())))\n",
    "'fjgkjgkj .'\n"
   ]
  },
  {
   "cell_type": "markdown",
   "metadata": {
    "id": "Ce8Ro3I5984e"
   },
   "source": [
    "**Задача 3**\n",
    "\n",
    "В строке заменить все двоеточия (:) знаком процента (%). Подсчитать\n",
    "количество замен."
   ]
  },
  {
   "cell_type": "code",
   "execution_count": 3,
   "metadata": {},
   "outputs": [
    {
     "name": "stdout",
     "output_type": "stream",
     "text": [
      "Количество замен: 3 \n",
      "Исправленная строка: a % b % c % d\n"
     ]
    }
   ],
   "source": [
    "string = input()\n",
    "print('Количество замен:',string.count(':'),'\\n'+'Исправленная строка:',string.replace(':','%'))"
   ]
  },
  {
   "cell_type": "markdown",
   "metadata": {
    "id": "hOMAXar6-fO1"
   },
   "source": [
    "###Списки"
   ]
  },
  {
   "cell_type": "markdown",
   "metadata": {
    "id": "CABMlL55-IQW"
   },
   "source": [
    "**Задача 4**\n",
    "\n",
    "1. Дан одномерный массив из 10 целых чисел. Найти максимальный элемент и\n",
    "сравнить с ним остальные элементы. Вывести количество меньших\n",
    "максимального и больших максимального элемента.\n",
    "2. Одномерный массив из 10-и целых чисел заполнить с клавиатуры,\n",
    "определить сумму тех чисел, которые >5."
   ]
  },
  {
   "cell_type": "code",
   "execution_count": 4,
   "metadata": {},
   "outputs": [
    {
     "name": "stdout",
     "output_type": "stream",
     "text": [
      "Кол-во меньших: 9 \n",
      "Кол-во больших: 0 \n",
      "Cумма элементов больше 5: 606\n"
     ]
    }
   ],
   "source": [
    "arr = list(map(int,input().split()))\n",
    "max_el = max(arr)\n",
    "num_less = sum(list(map(lambda i: i<max_el,arr)))\n",
    "num_more = sum(list(map(lambda i: i>max_el,arr)))\n",
    "sum_more_5 = sum(list(map(lambda i: i if i>5 else 0,arr)))\n",
    "print('Кол-во меньших:',num_less,'\\n'+'Кол-во больших:',num_more,'\\n'+'Cумма элементов больше 5:',sum_more_5)"
   ]
  },
  {
   "cell_type": "code",
   "execution_count": 1,
   "metadata": {},
   "outputs": [
    {
     "data": {
      "text/plain": [
       "[3, 2, 1]"
      ]
     },
     "execution_count": 1,
     "metadata": {},
     "output_type": "execute_result"
    }
   ],
   "source": [
    "a = [1,2,3]\n",
    "a[::-1]"
   ]
  },
  {
   "cell_type": "markdown",
   "metadata": {
    "id": "hLIYEyrt-KdW"
   },
   "source": [
    "**Задача 5**\n",
    "\n",
    "1. Дан одномерный массив, состоящий из N вещественных элементов. Ввести\n",
    "массив с клавиатуры. Найти и вывести минимальный по модулю элемент.\n",
    "Вывести массив на экран в обратном порядке.\n",
    "2. Даны массивы A и B одинакового размера 10. Вывести исходные массивы.\n",
    "Поменять местами их содержимое и вывести в начале элементы\n",
    "преобразованного массива A, а затем — элементы преобразованного массива\n",
    "B."
   ]
  },
  {
   "cell_type": "code",
   "execution_count": 5,
   "metadata": {},
   "outputs": [],
   "source": [
    "import numpy as np"
   ]
  },
  {
   "cell_type": "code",
   "execution_count": 6,
   "metadata": {},
   "outputs": [
    {
     "name": "stdout",
     "output_type": "stream",
     "text": [
      "Минимальный элемент: 2.0\n",
      "Массив в обратном порядке: [ 2.  9.  7. -5. -3.]\n"
     ]
    }
   ],
   "source": [
    "arr = np.array(tuple(map(float,input('Input the array:').split())))\n",
    "print('Минимальный элемент:',abs(arr).min())\n",
    "print('Массив в обратном порядке:',np.flip(arr))"
   ]
  },
  {
   "cell_type": "code",
   "execution_count": 7,
   "metadata": {},
   "outputs": [
    {
     "name": "stdout",
     "output_type": "stream",
     "text": [
      "Массив A: [ 11.  22.  33.  44.  55.  66.  77.  88.  99. 111.]\n",
      "Массив B: [ 1.  2.  3.  4.  5.  6.  7.  8.  9. 10.]\n",
      "Измененный массив A: [ 1.  2.  3.  4.  5.  6.  7.  8.  9. 10.]\n",
      "Измененный массив B: [ 11.  22.  33.  44.  55.  66.  77.  88.  99. 111.]\n"
     ]
    }
   ],
   "source": [
    "A = np.array(tuple(map(float,input('Input the first array:').split())))\n",
    "B = np.array(tuple(map(float,input('Input the second array:').split())))\n",
    "print('Массив A:',A)\n",
    "print('Массив B:',B)\n",
    "A += B\n",
    "B = A - B\n",
    "A -= B\n",
    "print('Измененный массив A:',A)\n",
    "print('Измененный массив B:',B)"
   ]
  },
  {
   "cell_type": "markdown",
   "metadata": {
    "id": "Lz0Qs2Eh-oJj"
   },
   "source": [
    "###Функции"
   ]
  },
  {
   "cell_type": "markdown",
   "metadata": {
    "id": "sY1c1WF--K5N"
   },
   "source": [
    "**Задача 6**\n",
    "\n",
    "1. Составить программу для вычисления площади разных геометрических\n",
    "фигур.\n",
    "2. Даны 3 различных массива целых чисел (размер каждого не превышает 15). В\n",
    "каждом массиве найти сумму элементов и среднеарифметическое значение."
   ]
  },
  {
   "cell_type": "code",
   "execution_count": 8,
   "metadata": {},
   "outputs": [],
   "source": [
    "def area(figure,r=None,a=None,b=None):\n",
    "    '''\n",
    "    Inputs:\n",
    "        figure (str) - Тип геометрической фигуры: circle or rectangle\n",
    "        r (float) - Радиус круга (figure == circle)\n",
    "        a (float) - Одна из сторон прямоугольника (figure == rectangle)\n",
    "        b (float) - Вторая из сторон прямоугольника (figure == rectangle)\n",
    "    Outputs:\n",
    "        area (float) - Площадь заданной фигуры\n",
    "    '''\n",
    "    if figure=='circle':\n",
    "        if r:\n",
    "            area = 2*np.pi*r\n",
    "        else:\n",
    "            raise EOFError('Укажите значение радиуса')\n",
    "    if figure=='rectangle':\n",
    "        if a and b:\n",
    "            area = a*b\n",
    "        else:\n",
    "            raise EOFError('Укажите значение сторон прямоугольника')\n",
    "    return area"
   ]
  },
  {
   "cell_type": "code",
   "execution_count": 9,
   "metadata": {},
   "outputs": [
    {
     "data": {
      "text/plain": [
       "6.283185307179586"
      ]
     },
     "execution_count": 9,
     "metadata": {},
     "output_type": "execute_result"
    }
   ],
   "source": [
    "area('circle',r=1)"
   ]
  },
  {
   "cell_type": "code",
   "execution_count": 10,
   "metadata": {},
   "outputs": [
    {
     "data": {
      "text/plain": [
       "2"
      ]
     },
     "execution_count": 10,
     "metadata": {},
     "output_type": "execute_result"
    }
   ],
   "source": [
    "area('rectangle',a=1,b=2)"
   ]
  },
  {
   "cell_type": "code",
   "execution_count": 11,
   "metadata": {},
   "outputs": [],
   "source": [
    "def array_processing(A,B,C):\n",
    "    '''\n",
    "    Inputs:\n",
    "        A (array) - first array\n",
    "        B (array) - second array\n",
    "        C (array) - third array\n",
    "    Outputs:\n",
    "        sum_A (int) - sum of array A\n",
    "        sum_B (int) - sum of array B\n",
    "        sum_C (int) - sum of array C\n",
    "        mean_A (float) - mean value of array A\n",
    "        mean_B (float) - mean value of array B\n",
    "        mean_C (float) - mean value of array C\n",
    "    '''\n",
    "    sum_A = A.sum()\n",
    "    sum_B = B.sum()\n",
    "    sum_C = C.sum()\n",
    "    mean_A = A.mean()\n",
    "    mean_B = B.mean()\n",
    "    mean_C = C.mean()\n",
    "    return sum_A, sum_B, sum_C, mean_A, mean_B, mean_C "
   ]
  },
  {
   "cell_type": "markdown",
   "metadata": {
    "id": "Je2eui4dxQSM"
   },
   "source": [
    "**Задача 7**\n",
    "\n",
    "Напишите функцию `square()`, которая принимает на вход число и:\n",
    "\n",
    "* возвращает его квадрат;\n",
    "* выводит на экран сообщение вида \"Квадрат числа равен: n\" и ничего не возвращает;\n",
    "* выводит на экран сообщение вида \"Квадрат числа равен: n\" и возвращает квадрат числа;"
   ]
  },
  {
   "cell_type": "code",
   "execution_count": 12,
   "metadata": {},
   "outputs": [],
   "source": [
    "def square(number):\n",
    "    return number**2\n",
    "\n",
    "def square(number):\n",
    "    print(number**2)\n",
    "\n",
    "def square(number):\n",
    "    print(number**2)\n",
    "    return number**2"
   ]
  },
  {
   "cell_type": "markdown",
   "metadata": {
    "id": "B58-9v4_xQS0"
   },
   "source": [
    "**Задача 8**\n",
    "\n",
    "Напишите функцию `nums()`, которая принимает на вход целое число, а возвращает список из двух элементов: целое число, предшествующее принятому на вход, и число, следующее за ним.\n",
    "\n",
    "**Пример:**\n",
    "\n",
    "*Входные данные:*\n",
    "\n",
    "    7\n",
    "\n",
    "*Выходные данные:*\n",
    "\n",
    "    [6, 8]"
   ]
  },
  {
   "cell_type": "code",
   "execution_count": 13,
   "metadata": {},
   "outputs": [],
   "source": [
    "def nums(number):\n",
    "    return list((number-1,number+1))"
   ]
  },
  {
   "cell_type": "code",
   "execution_count": 14,
   "metadata": {},
   "outputs": [
    {
     "data": {
      "text/plain": [
       "[6, 8]"
      ]
     },
     "execution_count": 14,
     "metadata": {},
     "output_type": "execute_result"
    }
   ],
   "source": [
    "nums(7)"
   ]
  },
  {
   "cell_type": "markdown",
   "metadata": {
    "id": "6NccBpE-xQS0"
   },
   "source": [
    "**Задача 9**\n",
    "\n",
    "Напишите функцию `str_lower()`, которая принимает на вход строку (набор слов через пробел), а возвращает список ее элементов в нижнем регистре.\n",
    "\n",
    "**Пример:**\n",
    "\n",
    "*Входные данные:*\n",
    "\n",
    "    \"В лесу родилась ёлочка В лесу она росла\"\n",
    "\n",
    "*Выходные данные:*\n",
    "\n",
    "    ['в', 'лесу', 'родилась', 'ёлочка', 'в', 'лесу', 'она', 'росла']"
   ]
  },
  {
   "cell_type": "code",
   "execution_count": 15,
   "metadata": {},
   "outputs": [],
   "source": [
    "def str_lower(string):\n",
    "    return list(string.lower().split())"
   ]
  },
  {
   "cell_type": "code",
   "execution_count": 16,
   "metadata": {},
   "outputs": [
    {
     "data": {
      "text/plain": [
       "['в', 'лесу', 'родилась', 'ёлочка', 'в', 'лесу', 'она', 'росла']"
      ]
     },
     "execution_count": 16,
     "metadata": {},
     "output_type": "execute_result"
    }
   ],
   "source": [
    "str_lower('В лесу родилась ёлочка В лесу она росла')"
   ]
  },
  {
   "cell_type": "markdown",
   "metadata": {
    "id": "WB3hG0lcxQS1"
   },
   "source": [
    "**Задача 10**\n",
    "\n",
    "Напишите функцию `my_log()`, которая принимает на вход список чисел, и возвращает список их натуральных логарифмов. Если число меньше или равно 0, на его месте в возвращаемом списке должно быть None.\n",
    "\n",
    "**Пример:**\n",
    "\n",
    "*Входные данные:*\n",
    "\n",
    "    [1, 3, 2.5, -1, 9, 0, 2.71]\n",
    "\n",
    "*Выходные данные:*\n",
    "\n",
    "    [0.0,\n",
    "     1.0986122886681098,\n",
    "     0.9162907318741551,\n",
    "     None,\n",
    "     2.1972245773362196,\n",
    "     None,\n",
    "     0.9969486348916096]"
   ]
  },
  {
   "cell_type": "code",
   "execution_count": 17,
   "metadata": {},
   "outputs": [],
   "source": [
    "def my_log(arr):\n",
    "    return list(map(lambda x: np.log(x) if x>0 else None,arr))"
   ]
  },
  {
   "cell_type": "code",
   "execution_count": 18,
   "metadata": {},
   "outputs": [
    {
     "data": {
      "text/plain": [
       "[0.0,\n",
       " 1.0986122886681098,\n",
       " 0.9162907318741551,\n",
       " None,\n",
       " 2.1972245773362196,\n",
       " None,\n",
       " 0.9969486348916096]"
      ]
     },
     "execution_count": 18,
     "metadata": {},
     "output_type": "execute_result"
    }
   ],
   "source": [
    "my_log([1, 3, 2.5, -1, 9, 0, 2.71])"
   ]
  },
  {
   "cell_type": "markdown",
   "metadata": {
    "id": "jyDgr5CyxQS1"
   },
   "source": [
    "**Задача 11**\n",
    "\n",
    "Напишите функцию `all_sort()`, которая принимает на вход перечень целых чисел через запятую (не список, а просто сколько угодно значений через запятую) и возвращает список этих значений, отсортированный по возрастанию.\n",
    "\n",
    "**Пример:**\n",
    "\n",
    "*Входные данные:*\n",
    "\n",
    "    7, 6, 1, 3, 8, 0, -2\n",
    "\n",
    "*Выходные данные:*\n",
    "\n",
    "    [-2, 0, 1, 3, 6, 7, 8]"
   ]
  },
  {
   "cell_type": "code",
   "execution_count": 19,
   "metadata": {},
   "outputs": [],
   "source": [
    "def all_sort(*numbers):\n",
    "    return sorted(numbers)"
   ]
  },
  {
   "cell_type": "code",
   "execution_count": 20,
   "metadata": {},
   "outputs": [
    {
     "data": {
      "text/plain": [
       "[-2, 0, 1, 3, 6, 7, 8]"
      ]
     },
     "execution_count": 20,
     "metadata": {},
     "output_type": "execute_result"
    }
   ],
   "source": [
    "all_sort(7, 6, 1, 3, 8, 0, -2)"
   ]
  },
  {
   "cell_type": "markdown",
   "metadata": {
    "id": "8XFMwL5SxQS3"
   },
   "source": [
    "**Задача 12**\n",
    "\n",
    "Напишите программу, которая принимает на вход список слов такого вида:\n",
    "\n",
    "    words = [\"Speak \",\"to\", \"me \", \"of\", \"Florence\" ,\"And \", \"of\", \"the\", \"Renaissance\"]\n",
    "\n",
    "а возвращает список\n",
    "\n",
    "    words_clean = [\"speak\", \"to\", \"me\", \"of\", \"florence\", \"and\", \"of\", \"the\", \"renaissance\"]\n",
    "\n",
    "Другими словами, программа убирает пробелы в словах и приводит все слова к нижнему регистру.\n",
    "\n",
    "**Подсказка:** запросите `help()`  по  методам `.strip()` и `.lower()`."
   ]
  },
  {
   "cell_type": "code",
   "execution_count": 21,
   "metadata": {},
   "outputs": [],
   "source": [
    "def clean_words(words):\n",
    "    words_clean = list(map(lambda x: x.lower(),words))\n",
    "    words_clean = list(map(lambda x: x.replace(' ',''),words_clean))\n",
    "    return words_clean"
   ]
  },
  {
   "cell_type": "code",
   "execution_count": 22,
   "metadata": {},
   "outputs": [
    {
     "data": {
      "text/plain": [
       "['speak', 'to', 'me', 'of', 'florence', 'and', 'of', 'the', 'renaissance']"
      ]
     },
     "execution_count": 22,
     "metadata": {},
     "output_type": "execute_result"
    }
   ],
   "source": [
    "clean_words([\"Speak \",\"to\", \"me \", \"of\", \"Florence\" ,\"And \", \"of\", \"the\", \"Renaissance\"])"
   ]
  },
  {
   "cell_type": "markdown",
   "metadata": {
    "id": "pANOsyNGBZ6E"
   },
   "source": [
    "###Множества"
   ]
  },
  {
   "cell_type": "markdown",
   "metadata": {
    "id": "Wa5EWCae-LTu"
   },
   "source": [
    "**Задача 13**\n",
    "\n",
    "1. Придумайте 2 предложения. Выведите число слов и уникальных букв, которые присутствуют в каждом из двух предложениях.\n",
    "2. Выведите количестов уникальных букв, которые есть и в 1 и во 2 предложении."
   ]
  },
  {
   "cell_type": "code",
   "execution_count": 23,
   "metadata": {},
   "outputs": [
    {
     "name": "stdout",
     "output_type": "stream",
     "text": [
      "Количество слов в первом предложении: 6\n",
      "Количество слов во втором предложении: 6\n",
      "Количество уникальных символов в первом предложении: 21\n",
      "Количество уникальных символов во втором предложении: 16\n",
      "Количество уникальных символов в обоих предложениях (совпадающих): 11\n"
     ]
    }
   ],
   "source": [
    "s1 = 'Мягкую материю проще сдвинуть, чем сжать'\n",
    "s2 = 'С твердой материей вообще все сложно'\n",
    "\n",
    "print('Количество слов в первом предложении:',len(s1.split()))\n",
    "print('Количество слов во втором предложении:',len(s2.split()))\n",
    "\n",
    "s1_unique = list(map(lambda x: x if x.isalpha() else '',s1.lower().replace(' ','').replace('',' ').split()))\n",
    "try:\n",
    "    s1_unique.remove('')\n",
    "except:\n",
    "    None\n",
    "print('Количество уникальных символов в первом предложении:',len(set(s1_unique)))\n",
    "\n",
    "s2_unique = list(map(lambda x: x if x.isalpha() else '',s2.lower().replace(' ','').replace('',' ').split()))\n",
    "try:\n",
    "    s2_unique.remove('')\n",
    "except:\n",
    "    None\n",
    "print('Количество уникальных символов во втором предложении:',len(set(s2_unique)))\n",
    "\n",
    "print('Количество уникальных символов в обоих предложениях (совпадающих):',len(set(s1_unique).symmetric_difference(set(s2_unique))))"
   ]
  },
  {
   "cell_type": "markdown",
   "metadata": {
    "id": "pQkPUzF8zCgS"
   },
   "source": [
    "###Повторение"
   ]
  },
  {
   "cell_type": "markdown",
   "metadata": {
    "id": "p9271Yq8xQS1"
   },
   "source": [
    "**Задача 1**\n",
    "\n",
    "Напишите программу, которая запрашивает у пользователя пароль, и далее:\n",
    "\n",
    "* если пароль верный, выводит на экран сообщение \"Login success\".\n",
    "* если пароль неверный, выводит на экран сообщение \"Incorrect password, try again!\" до тех пор, пока пользователь не введет верный пароль."
   ]
  },
  {
   "cell_type": "code",
   "execution_count": 24,
   "metadata": {},
   "outputs": [],
   "source": [
    "def check_password():\n",
    "    password = input('Введите пароль:')\n",
    "    if password == 'Barsik_2018':\n",
    "        print('Login success')\n",
    "    else:\n",
    "        print('Incorrect password, try again!')"
   ]
  },
  {
   "cell_type": "code",
   "execution_count": 25,
   "metadata": {},
   "outputs": [
    {
     "name": "stdout",
     "output_type": "stream",
     "text": [
      "Login success\n"
     ]
    }
   ],
   "source": [
    "check_password()"
   ]
  },
  {
   "cell_type": "markdown",
   "metadata": {
    "id": "Z7k1ojDZxQS2"
   },
   "source": [
    "**Задача 2**\n",
    "\n",
    "\n",
    "\n",
    "    numbers = [3, 7, 11, 23, 18, 48, 81]\n",
    "\n",
    "Напишите программу, которая просит пользователя ввести целое число, и если оно окажжется среди numbers, на экран будет выводиться сообщение: \"Есть совпадение\", если нет ‒ \"Совпадений не найдено\"."
   ]
  },
  {
   "cell_type": "code",
   "execution_count": 26,
   "metadata": {},
   "outputs": [],
   "source": [
    "def check_number():\n",
    "    number = int(input('Введите целое число'))\n",
    "    numbers = [3, 7, 11, 23, 18, 48, 81]\n",
    "    if number in numbers:\n",
    "        print('Есть совпадение')\n",
    "    else:\n",
    "        print('Совпадений не найдено')"
   ]
  },
  {
   "cell_type": "code",
   "execution_count": 27,
   "metadata": {},
   "outputs": [
    {
     "name": "stdout",
     "output_type": "stream",
     "text": [
      "Совпадений не найдено\n"
     ]
    }
   ],
   "source": [
    "check_number()"
   ]
  },
  {
   "cell_type": "markdown",
   "metadata": {
    "id": "SAgKFqQfxQS2"
   },
   "source": [
    "**Задача 3**\n",
    "\n",
    "Напишите программу, которая запрашивает у пользователя номер мобильного телефона, введенный через дефис, а возвращает номер, записанный без дефисов и пробелов.\n",
    "\n",
    "*Входные данные:*\n",
    "\n",
    "    8-900-123-45-67\n",
    "\n",
    "*Выходные данные:*\n",
    "\n",
    "    89001234567"
   ]
  },
  {
   "cell_type": "code",
   "execution_count": 28,
   "metadata": {},
   "outputs": [],
   "source": [
    "def process_phone_number():\n",
    "    number = input('Введите номер телефона через дефисы')\n",
    "    return number.replace('-','')"
   ]
  },
  {
   "cell_type": "code",
   "execution_count": 29,
   "metadata": {},
   "outputs": [
    {
     "data": {
      "text/plain": [
       "'89001234567'"
      ]
     },
     "execution_count": 29,
     "metadata": {},
     "output_type": "execute_result"
    }
   ],
   "source": [
    "process_phone_number()"
   ]
  }
 ],
 "metadata": {
  "colab": {
   "authorship_tag": "ABX9TyMiLFPwP9K8wlppXGwtMyz+",
   "collapsed_sections": [
    "hOMAXar6-fO1",
    "pQkPUzF8zCgS"
   ],
   "provenance": []
  },
  "kernelspec": {
   "display_name": "base",
   "language": "python",
   "name": "python3"
  },
  "language_info": {
   "codemirror_mode": {
    "name": "ipython",
    "version": 3
   },
   "file_extension": ".py",
   "mimetype": "text/x-python",
   "name": "python",
   "nbconvert_exporter": "python",
   "pygments_lexer": "ipython3",
   "version": "3.11.5"
  }
 },
 "nbformat": 4,
 "nbformat_minor": 4
}
