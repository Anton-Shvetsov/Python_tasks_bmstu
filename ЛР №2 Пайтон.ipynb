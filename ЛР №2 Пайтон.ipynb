{
 "cells": [
  {
   "cell_type": "markdown",
   "metadata": {
    "id": "QtE6SrPxqCEa"
   },
   "source": [
    "# ЛР №2"
   ]
  },
  {
   "cell_type": "code",
   "execution_count": 12,
   "metadata": {},
   "outputs": [],
   "source": [
    "import numpy as np"
   ]
  },
  {
   "cell_type": "markdown",
   "metadata": {
    "id": "BdJ50qlUpsS3"
   },
   "source": [
    "**Задача 1**\n",
    "\n",
    "Даны два списка `a` и `b` (см. ниже).\n",
    "    \n",
    "1. Выведите на экран первый элемент списка `a`, третий элемент списка `a`, последний элемент списка `a`.\n",
    "2. Добавьте в список `b` элемент 7 (просто допишите в конец).\n",
    "3. Замените пятый элемент списка `a` на число 8.\n",
    "4. Создайте список `merged`, который включает в себя все элементы списка `a` и списка `b`.\n",
    "5. Создайте новый список `с`, который получается заменой последнего элемента списка `a` на число 100. Сам список `a` измениться не должен!"
   ]
  },
  {
   "cell_type": "code",
   "execution_count": 1,
   "metadata": {
    "id": "3rHw5j53psS4"
   },
   "outputs": [],
   "source": [
    "a = [1, 0, 9, 12, 18, 34, 89, 91, 33, 127]\n",
    "b = [2, 8, 9, 11, 76, 25, 44]"
   ]
  },
  {
   "cell_type": "code",
   "execution_count": 2,
   "metadata": {},
   "outputs": [
    {
     "name": "stdout",
     "output_type": "stream",
     "text": [
      "1 9 127\n",
      "[2, 8, 9, 11, 76, 25, 44, 7]\n",
      "[1, 0, 9, 12, 8, 34, 89, 91, 33, 127]\n",
      "[1, 0, 9, 12, 8, 34, 89, 91, 33, 127, 2, 8, 9, 11, 76, 25, 44, 7]\n",
      "[1, 0, 9, 12, 8, 34, 89, 91, 33, 100]\n"
     ]
    }
   ],
   "source": [
    "print(a[0], a[2], a[-1])\n",
    "\n",
    "b.append(7)\n",
    "print(b)\n",
    "\n",
    "a[4] = 8\n",
    "print(a)\n",
    "\n",
    "merged = a+b\n",
    "print(merged)\n",
    "\n",
    "c = a.copy()\n",
    "c[-1] = 100\n",
    "print(c)"
   ]
  },
  {
   "cell_type": "markdown",
   "metadata": {
    "id": "y4s_SJZzpsS5"
   },
   "source": [
    "**Задача 2**\n",
    "\n",
    "Есть список имен:"
   ]
  },
  {
   "cell_type": "code",
   "execution_count": 3,
   "metadata": {
    "id": "QSM6QXwppsS5"
   },
   "outputs": [],
   "source": [
    "girls = [\"Иветта\", \"Виолетта\", \"Кассандра\", \"Вирджиния\", \"Амелия\", \"Розамунда\", \"Янина\", \"Беатриса\"]"
   ]
  },
  {
   "cell_type": "code",
   "execution_count": 9,
   "metadata": {},
   "outputs": [
    {
     "name": "stdout",
     "output_type": "stream",
     "text": [
      "['Виолетта', 'Кассандра', 'Вирджиния', 'Амелия']\n",
      "['Вирджиния', 'Амелия', 'Розамунда', 'Янина', 'Беатриса']\n",
      "['Иветта', 'Виолетта', 'Вирджиния', 'Амелия']\n",
      "['Кассандра', 'Амелия', 'Розамунда']\n"
     ]
    }
   ],
   "source": [
    "print(girls[1:5])\n",
    "print(girls[3:])\n",
    "print(girls[0:2]+girls[3:5])\n",
    "print(girls[2:3]+girls[4:6])"
   ]
  },
  {
   "cell_type": "markdown",
   "metadata": {
    "id": "LefMreifpsS6"
   },
   "source": [
    "Используя список `girls`, выведите на экран следующие списки:\n",
    "\n",
    "    [\"Виолетта\", \"Кассандра\", \"Вирджиния\", \"Амелия\"]\n",
    "    [\"Вирджиния\", \"Амелия\", \"Розамунда\", \"Янина\", \"Беатриса\"]\n",
    "    [\"Иветта\", \"Виолетта\", \"Вирджиния\", \"Амелия\"]\n",
    "    [\"Кассандра\", \"Амелия\", \"Розамунда\"]"
   ]
  },
  {
   "cell_type": "markdown",
   "metadata": {
    "id": "2ze0k0HxpsS6"
   },
   "source": [
    "**Задача 3**\n",
    "\n",
    "Дан список `L`. Выведите на экран (последовательно, с новой строчки):\n",
    "\n",
    "* все элементы списка `L`;\n",
    "* логарифмированные значения элементов списка `L`."
   ]
  },
  {
   "cell_type": "code",
   "execution_count": 10,
   "metadata": {
    "id": "S_m2uMT8psS7"
   },
   "outputs": [],
   "source": [
    "L = [12, 3, 8, 125, 10, 98, 54, 199]"
   ]
  },
  {
   "cell_type": "code",
   "execution_count": 11,
   "metadata": {},
   "outputs": [
    {
     "name": "stdout",
     "output_type": "stream",
     "text": [
      "12\n",
      "3\n",
      "8\n",
      "125\n",
      "10\n",
      "98\n",
      "54\n",
      "199\n"
     ]
    }
   ],
   "source": [
    "for l in L:\n",
    "    print(l)"
   ]
  },
  {
   "cell_type": "code",
   "execution_count": 13,
   "metadata": {},
   "outputs": [
    {
     "name": "stdout",
     "output_type": "stream",
     "text": [
      "2.4849066497880004\n",
      "1.0986122886681098\n",
      "2.0794415416798357\n",
      "4.8283137373023015\n",
      "2.302585092994046\n",
      "4.584967478670572\n",
      "3.9889840465642745\n",
      "5.293304824724492\n"
     ]
    }
   ],
   "source": [
    "for l in L:\n",
    "    print(np.log(l))"
   ]
  },
  {
   "cell_type": "markdown",
   "metadata": {
    "id": "-uD4ULVppsS8"
   },
   "source": [
    "**Задача 4**\n",
    "\n",
    "В списке `age` сохранены значения возраста респондентов:\n",
    "\n",
    "    age = [24, 35, 42, 27, 45, 48, 33]\n",
    "    \n",
    "Создайте список `age2`, в котором будут храниться значения возраста, возведенные в квадрат.\n",
    "\n",
    "**Подсказка:** используйте цикл `for`."
   ]
  },
  {
   "cell_type": "code",
   "execution_count": 15,
   "metadata": {},
   "outputs": [
    {
     "name": "stdout",
     "output_type": "stream",
     "text": [
      "[576, 1225, 1764, 729, 2025, 2304, 1089]\n"
     ]
    }
   ],
   "source": [
    "age = [24, 35, 42, 27, 45, 48, 33]\n",
    "\n",
    "age2 = [i**2 for i in age]\n",
    "\n",
    "print(age2)"
   ]
  },
  {
   "cell_type": "markdown",
   "metadata": {
    "id": "ETOgag24psS9"
   },
   "source": [
    "**Задача 5**\n",
    "Необходимо ввести с клавиатуры целое число $k$ от 1 до 10 и вывести на экран $k$-тый элемент списка `numbers`, причем $k$-ый элемент в привычном понимании, в нумерации, которая начинается с единицы.  \n",
    "\n",
    "Список `numbers`:"
   ]
  },
  {
   "cell_type": "code",
   "execution_count": 16,
   "metadata": {
    "id": "mh0OCrsRpsS9"
   },
   "outputs": [],
   "source": [
    "numbers = [1, 5, 6, 8, 10, 21, 25, 1, 0, -9, 9]"
   ]
  },
  {
   "cell_type": "code",
   "execution_count": 18,
   "metadata": {},
   "outputs": [
    {
     "name": "stdout",
     "output_type": "stream",
     "text": [
      "6\n"
     ]
    }
   ],
   "source": [
    "k = int(input())\n",
    "\n",
    "print(numbers[k-1])"
   ]
  },
  {
   "cell_type": "markdown",
   "metadata": {
    "id": "bkfI5BC2psS-"
   },
   "source": [
    "**Пояснение:**\n",
    "    \n",
    "*Входные данные:*\n",
    "\n",
    "    Введите целое число от 1 до 10: 3\n",
    "    \n",
    "*Выходные данные:*\n",
    "\n",
    "    6"
   ]
  },
  {
   "cell_type": "markdown",
   "metadata": {
    "id": "L5V6XjEIpsS-"
   },
   "source": [
    "**Задача 6**\n",
    "\n",
    "Объясните, что делает следующий код и почему он выдает такие результаты:"
   ]
  },
  {
   "cell_type": "code",
   "execution_count": 19,
   "metadata": {
    "id": "DabOIvYxpsS-",
    "outputId": "38d1132c-bd80-4216-ddb2-72556c637c69"
   },
   "outputs": [
    {
     "name": "stdout",
     "output_type": "stream",
     "text": [
      "5\n",
      "3\n",
      "5\n",
      "7\n"
     ]
    }
   ],
   "source": [
    "l = [1,2,3,4]\n",
    "\n",
    "for i in range(len(l)):\n",
    "    a = l[i] + l[i-1]\n",
    "    print(a)"
   ]
  },
  {
   "cell_type": "markdown",
   "metadata": {},
   "source": [
    "1 + 4;\n",
    "2 + 1;\n",
    "3 + 2;\n",
    "4 + 3;"
   ]
  },
  {
   "cell_type": "markdown",
   "metadata": {
    "id": "EyQhlPcZscF4"
   },
   "source": [
    "**Задача 7**\n",
    "\n",
    "Напишите программу, которая просит пользователя ввести положительное число, и если пользователь вводит положительное число, выводит на экран сообщение \"Отлично!\", если нет ‒ \"Это не положительное число.\".\n",
    "\n",
    "Считайте, что пользователь в любом случае вводит числа, а не какой-то текст."
   ]
  },
  {
   "cell_type": "code",
   "execution_count": 21,
   "metadata": {},
   "outputs": [
    {
     "name": "stdout",
     "output_type": "stream",
     "text": [
      "Отлично!\n"
     ]
    }
   ],
   "source": [
    "number = float(input())\n",
    "\n",
    "if number > 0:\n",
    "    print('Отлично!')\n",
    "else:\n",
    "    print('Это не положительное число.')"
   ]
  },
  {
   "cell_type": "markdown",
   "metadata": {
    "id": "o5c4t71L-EpS"
   },
   "source": [
    "**Задача со звездочкой ***\n",
    "\n",
    "Дан список строк, необходимо написать функцию, такую, которая будет возвращать этот же список строк, но с длинной строк равной длине максимальной строки в списке (недостающие символы дополнять нижним подчеркиванием). Например, [v, bn, nnn] -> [v__, bn_, nnn]"
   ]
  },
  {
   "cell_type": "code",
   "execution_count": 24,
   "metadata": {},
   "outputs": [
    {
     "name": "stdout",
     "output_type": "stream",
     "text": [
      "['v__', 'bn_', 'nnn']\n"
     ]
    }
   ],
   "source": [
    "# str_list = ['v', 'bn', 'nnn']\n",
    "str_list = list(input().split())\n",
    "len_list = [len(x) for x in str_list]\n",
    "max_el = max(len_list)\n",
    "str_list = [x + (max_el - lenght)*'_' for (x,lenght) in zip(str_list,len_list)]\n",
    "print(str_list)"
   ]
  },
  {
   "cell_type": "markdown",
   "metadata": {
    "id": "_IfAzphxQ3Wo"
   },
   "source": [
    "**Задача со звездочкой ***\n",
    "\n",
    "Дан список слов, необходимо выделить общую начальную часть (с максимальной длиной) всех слов в списке, если такой нет, вывести пустую строку.\n",
    "\n",
    "Например, ['радуга', 'радость', 'радио', 'радар'], результат 'рад', или ['радуга', 'радость', 'радио', 'маяк'], результат ''"
   ]
  },
  {
   "cell_type": "code",
   "execution_count": 25,
   "metadata": {},
   "outputs": [],
   "source": [
    "def common_part(words):\n",
    "    cp = ''\n",
    "    for i in range(len(words[0])):\n",
    "        l = words[0][i]\n",
    "        for j in range(len(words)):\n",
    "            try:\n",
    "                if l != words[j][i]:\n",
    "                    return cp\n",
    "            except:\n",
    "                return cp\n",
    "        cp += l\n",
    "    return cp"
   ]
  },
  {
   "cell_type": "code",
   "execution_count": 26,
   "metadata": {},
   "outputs": [
    {
     "data": {
      "text/plain": [
       "'рад'"
      ]
     },
     "execution_count": 26,
     "metadata": {},
     "output_type": "execute_result"
    }
   ],
   "source": [
    "common_part(['радуга', 'радость', 'радио', 'радар'])"
   ]
  },
  {
   "cell_type": "code",
   "execution_count": 27,
   "metadata": {},
   "outputs": [
    {
     "data": {
      "text/plain": [
       "''"
      ]
     },
     "execution_count": 27,
     "metadata": {},
     "output_type": "execute_result"
    }
   ],
   "source": [
    "common_part(['радуга', 'радость', 'радио', 'маяк'])"
   ]
  },
  {
   "cell_type": "markdown",
   "metadata": {
    "id": "Kyne7YsICAWD"
   },
   "source": [
    "**Задача со звездочкой ***\n",
    "\n",
    "Вывести все подмассивы (без перекрытия) и их позицию из списка, сумма внутри которых равна 5.\n",
    "\n",
    "Например, [1, 2 ,3 ,4 , 0, 1, 0, 1, 5, 4, 3, 4, 1, 1, 1, 0, 0, 1, 1, 1] ->\n",
    "\n",
    "[2, 3], 1\n",
    "\n",
    "[4, 0, 1], 4\n",
    "\n",
    "[5], 9\n",
    "\n",
    "[4, 1], 13\n",
    "\n",
    "[1, 1, 0, 0, 1, 1, 1], 15"
   ]
  },
  {
   "cell_type": "code",
   "execution_count": 124,
   "metadata": {},
   "outputs": [],
   "source": [
    "def sub_arr_5(arr):\n",
    "    sub_arr = []\n",
    "    index= []\n",
    "    left = 0\n",
    "    right = 1\n",
    "    total = 0\n",
    "    while left<len(arr)-2:\n",
    "        total = sum(arr[left:right])\n",
    "        if total == 5:\n",
    "            sub_arr.append(arr[left:right])\n",
    "            index.append(left)\n",
    "            left = right\n",
    "            right = left+1\n",
    "        elif total > 5 and (right - left)>1 :\n",
    "            left += 1\n",
    "        else:\n",
    "            right += 1\n",
    "    for sa, i in zip(sub_arr,index):\n",
    "        print(sa,i+1)"
   ]
  },
  {
   "cell_type": "code",
   "execution_count": 125,
   "metadata": {},
   "outputs": [
    {
     "name": "stdout",
     "output_type": "stream",
     "text": [
      "[2, 3] 2\n",
      "[4, 0, 1] 4\n",
      "[5] 9\n",
      "[4, 1] 12\n",
      "[1, 1, 0, 0, 1, 1, 1] 14\n"
     ]
    }
   ],
   "source": [
    "sub_arr_5([1, 2 ,3 ,4 , 0, 1, 0, 1, 5, 4, 3, 4, 1, 1, 1, 0, 0, 1, 1, 1])"
   ]
  },
  {
   "cell_type": "markdown",
   "metadata": {
    "id": "u9Qns_OZDsZk"
   },
   "source": [
    "**Задача со звездочкой ***\n",
    "\n",
    "Вы выбираете билет в кинотеатр, схема расположения мест выглядит следующим образом: [0, 1, 0, 0, 0, 1, 0, 0, 0, 0, 1, 1, 0, 0, 0, 0, 0], где 1 занятые места, а 0 свободные. Вам необходимо выбрать место, которое максимально удалено от занятых и вывести его индекс.\n",
    "Например, место номер 16."
   ]
  },
  {
   "cell_type": "code",
   "execution_count": 193,
   "metadata": {},
   "outputs": [],
   "source": [
    "def find_seat(arr):\n",
    "    seats = [float('inf')]*len(arr)\n",
    "    seats = count_dist(arr,seats)\n",
    "\n",
    "    arr.reverse()\n",
    "    seats.reverse()\n",
    "    seats = count_dist(arr,seats)\n",
    "\n",
    "    seats.reverse()\n",
    "    arr.reverse()\n",
    "\n",
    "    id_seat = seats.index(max(seats))\n",
    "    return id_seat, seats, arr\n",
    "\n",
    "def count_dist(arr,seats):\n",
    "    left = 0\n",
    "    right = 0\n",
    "    while left<len(arr)-1:\n",
    "        while arr[right] != 1 and right<len(arr)-1:\n",
    "            right += 1\n",
    "        if arr[right]==1:\n",
    "            for i in range(left,right+1):\n",
    "                seats[i] = min(seats[i],right-i)\n",
    "        left = right + 1\n",
    "        right = left\n",
    "    return seats"
   ]
  },
  {
   "cell_type": "code",
   "execution_count": 194,
   "metadata": {},
   "outputs": [
    {
     "data": {
      "text/plain": [
       "(16,\n",
       " [1, 0, 1, 2, 1, 0, 1, 2, 2, 1, 0, 0, 1, 2, 3, 4, 5],\n",
       " [0, 1, 0, 0, 0, 1, 0, 0, 0, 0, 1, 1, 0, 0, 0, 0, 0])"
      ]
     },
     "execution_count": 194,
     "metadata": {},
     "output_type": "execute_result"
    }
   ],
   "source": [
    "find_seat([0, 1, 0, 0, 0, 1, 0, 0, 0, 0, 1, 1, 0, 0, 0, 0, 0])"
   ]
  }
 ],
 "metadata": {
  "colab": {
   "authorship_tag": "ABX9TyOiY6n0nORdvdsZk/brjo+r",
   "provenance": []
  },
  "kernelspec": {
   "display_name": "base",
   "language": "python",
   "name": "python3"
  },
  "language_info": {
   "codemirror_mode": {
    "name": "ipython",
    "version": 3
   },
   "file_extension": ".py",
   "mimetype": "text/x-python",
   "name": "python",
   "nbconvert_exporter": "python",
   "pygments_lexer": "ipython3",
   "version": "3.11.5"
  }
 },
 "nbformat": 4,
 "nbformat_minor": 4
}
